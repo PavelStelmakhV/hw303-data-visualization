{
  "cells": [
    {
      "cell_type": "markdown",
      "metadata": {
        "id": "view-in-github",
        "colab_type": "text"
      },
      "source": [
        "<a href=\"https://colab.research.google.com/github/PavelStelmakhV/hw303-data-visualization/blob/main/Hw2.1.ipynb\" target=\"_parent\"><img src=\"https://colab.research.google.com/assets/colab-badge.svg\" alt=\"Open In Colab\"/></a>"
      ]
    },
    {
      "cell_type": "markdown",
      "source": [
        "1. Вывести первые строки таблицы с помощью метода head"
      ],
      "metadata": {
        "id": "b3_ACeCMkwj-"
      },
      "id": "b3_ACeCMkwj-"
    },
    {
      "cell_type": "code",
      "execution_count": 2,
      "id": "f538d2ea",
      "metadata": {
        "colab": {
          "base_uri": "https://localhost:8080/"
        },
        "id": "f538d2ea",
        "outputId": "eed20d3a-6bde-49a1-b613-bf3a226a74a8"
      },
      "outputs": [
        {
          "output_type": "stream",
          "name": "stdout",
          "text": [
            "             Регіон  1950  1960  1970  1990  2000  2012  2014  2019\n",
            "0              Крим  23.0  20.6  16.0  13.0   7.3  12.6     —     —\n",
            "1         Вінницька  22.4  19.2  14.2  12.4   8.4  11.2  10.9   7.6\n",
            "2         Волинська  24.7  25.0  17.9  15.3  11.2  14.8  14.1  10.1\n",
            "3  Дніпропетровська  20.4  20.4  15.1  12.3   7.1  11.2  11.1   7.1\n",
            "4          Донецька  27.1  21.4  14.0  10.9   6.1   9.8   8.2     —\n"
          ]
        }
      ],
      "source": [
        "import pandas as pd\n",
        "import numpy as np\n",
        "import lxml\n",
        "url = 'https://uk.wikipedia.org/wiki/%D0%9D%D0%B0%D1%81%D0%B5%D0%BB%D0%B5%D0%BD%D0%BD%D1%8F_%D0%A3%D0%BA%D1%80%D0%B0%D1%97%D0%BD%D0%B8#%D0%9D%D0%B0%D1%80%D0%BE%D0%B4%D0%B6%D1%83%D0%B2%D0%B0%D0%BD%D1%96%D1%81%D1%82%D1%8C'\n",
        "tmp = pd.read_html(url, match='Коефіцієнт народжуваності в регіонах України ', thousands=' ', decimal=',')\n",
        "df = tmp[0]\n",
        "print(df.head())"
      ]
    },
    {
      "cell_type": "markdown",
      "source": [
        "2. Определите количество строк и столбцов в датафрейме (атрибут shape)"
      ],
      "metadata": {
        "id": "H1aBpvgpu2t1"
      },
      "id": "H1aBpvgpu2t1"
    },
    {
      "cell_type": "code",
      "execution_count": 3,
      "id": "1f222568",
      "metadata": {
        "colab": {
          "base_uri": "https://localhost:8080/"
        },
        "id": "1f222568",
        "outputId": "0d274dde-7057-4535-a29a-e14d1e41c34f"
      },
      "outputs": [
        {
          "output_type": "stream",
          "name": "stdout",
          "text": [
            "(28, 9)\n"
          ]
        }
      ],
      "source": [
        "print(df.shape)"
      ]
    },
    {
      "cell_type": "markdown",
      "source": [
        "3. Замените в таблице значения \"—\" на значения NaN"
      ],
      "metadata": {
        "id": "9kJ3krKsu-Lz"
      },
      "id": "9kJ3krKsu-Lz"
    },
    {
      "cell_type": "code",
      "execution_count": 4,
      "id": "1b87aa50",
      "metadata": {
        "id": "1b87aa50"
      },
      "outputs": [],
      "source": [
        "df.replace('—', np.nan, inplace=True)"
      ]
    },
    {
      "cell_type": "markdown",
      "source": [
        "4. Определите типы всех столбцов с помощью dataframe.dtypes"
      ],
      "metadata": {
        "id": "0DMwxvbQ0zXz"
      },
      "id": "0DMwxvbQ0zXz"
    },
    {
      "cell_type": "code",
      "source": [
        "df.dtypes"
      ],
      "metadata": {
        "colab": {
          "base_uri": "https://localhost:8080/"
        },
        "id": "mekDnitM02Zb",
        "outputId": "65ddd71d-b43e-4d8b-f8f1-a95cb8d1db3d"
      },
      "id": "mekDnitM02Zb",
      "execution_count": 5,
      "outputs": [
        {
          "output_type": "execute_result",
          "data": {
            "text/plain": [
              "Регіон     object\n",
              "1950      float64\n",
              "1960      float64\n",
              "1970      float64\n",
              "1990      float64\n",
              "2000      float64\n",
              "2012      float64\n",
              "2014       object\n",
              "2019       object\n",
              "dtype: object"
            ]
          },
          "metadata": {},
          "execution_count": 5
        }
      ]
    },
    {
      "cell_type": "markdown",
      "source": [
        "5. Замените типы не числовых колонок на числовые. Подсказка - это колонки где находился символ \"—\""
      ],
      "metadata": {
        "id": "NpIPM3Bf4EwU"
      },
      "id": "NpIPM3Bf4EwU"
    },
    {
      "cell_type": "code",
      "source": [
        "df['2014'] =  df['2014'].astype('float64')\n",
        "df['2019'] =  df['2019'].astype('float64')"
      ],
      "metadata": {
        "id": "t0-BFSba4ETW"
      },
      "id": "t0-BFSba4ETW",
      "execution_count": 6,
      "outputs": []
    },
    {
      "cell_type": "markdown",
      "source": [
        "6. Посчитайте, какая доля пропусков содержится в каждой колонке (используйте методы isnull и sum)"
      ],
      "metadata": {
        "id": "dY6wbiD_5eGi"
      },
      "id": "dY6wbiD_5eGi"
    },
    {
      "cell_type": "code",
      "source": [
        "shr_nan_2014 = round(df['2014'].isnull().sum() / \n",
        "                     (df['2014'].count() + df['2014'].isnull().sum()) * 100, 2)\n",
        "print(f'Доля пропусков в колонке [2014] - {shr_nan_2014}%')\n",
        " \n",
        "shr_nan_2019 = round(df['2019'].isnull().sum() / \n",
        "                     (df['2019'].count() + df['2019'].isnull().sum()) * 100, 2)\n",
        "print(f'Доля пропусков в колонке [2019] - {shr_nan_2019}%') "
      ],
      "metadata": {
        "colab": {
          "base_uri": "https://localhost:8080/"
        },
        "id": "Oen1UF375apd",
        "outputId": "2c1178d0-23b3-44a7-c9a7-394d3fcf58cb"
      },
      "id": "Oen1UF375apd",
      "execution_count": 7,
      "outputs": [
        {
          "output_type": "stream",
          "name": "stdout",
          "text": [
            "Доля пропусков в колонке [2014] - 7.14%\n",
            "Доля пропусков в колонке [2019] - 14.29%\n"
          ]
        }
      ]
    },
    {
      "cell_type": "markdown",
      "source": [
        "7. Удалите из таблицы данные по всей стране, последняя строчка таблицы"
      ],
      "metadata": {
        "id": "6X7TL9A9CyFk"
      },
      "id": "6X7TL9A9CyFk"
    },
    {
      "cell_type": "code",
      "source": [
        "totalUkraine = df.iloc[27]\n",
        "df.drop([27], axis=0, inplace=True)"
      ],
      "metadata": {
        "id": "bj-yyw2kC3Ob"
      },
      "id": "bj-yyw2kC3Ob",
      "execution_count": 8,
      "outputs": []
    },
    {
      "cell_type": "markdown",
      "source": [
        "8. Замените отсутствующие данные в столбцах средними значениями по этим столбцам (метод fillna)"
      ],
      "metadata": {
        "id": "LZAHyjS1JDKR"
      },
      "id": "LZAHyjS1JDKR"
    },
    {
      "cell_type": "code",
      "source": [
        "df = df.fillna({'1950': df['1950'].mean(), \n",
        "                '1960': df['1960'].mean(), \n",
        "                '1970': df['1970'].mean(),\n",
        "                '1990': df['1990'].mean(),\n",
        "                '2000': df['2000'].mean(),\n",
        "                '2012': df['2012'].mean(),\n",
        "                '2014': df['2014'].mean(),\n",
        "                '2019': df['2019'].mean()\n",
        "                })"
      ],
      "metadata": {
        "id": "7lnPazxSHXg7"
      },
      "id": "7lnPazxSHXg7",
      "execution_count": 9,
      "outputs": []
    },
    {
      "cell_type": "markdown",
      "source": [
        "9. Получите список регионов, где уровень рождаемости в 2019 году был выше среднего по Украине"
      ],
      "metadata": {
        "id": "sayrKf84MgGb"
      },
      "id": "sayrKf84MgGb"
    },
    {
      "cell_type": "code",
      "source": [
        "region_list = df.loc[df['2019'] > totalUkraine['2019']]['Регіон']\n",
        "print(region_list)"
      ],
      "metadata": {
        "colab": {
          "base_uri": "https://localhost:8080/"
        },
        "id": "XR6GH_9QLznd",
        "outputId": "0dd5420f-1d1b-45ca-a056-687c86bbf73c"
      },
      "id": "XR6GH_9QLznd",
      "execution_count": 10,
      "outputs": [
        {
          "output_type": "stream",
          "name": "stdout",
          "text": [
            "2             Волинська\n",
            "6          Закарпатська\n",
            "8     Івано-Франківська\n",
            "12            Львівська\n",
            "14              Одеська\n",
            "16           Рівненська\n",
            "23          Чернівецька\n",
            "25                 Київ\n",
            "Name: Регіон, dtype: object\n"
          ]
        }
      ]
    },
    {
      "cell_type": "markdown",
      "source": [
        "10. В каком регионе была самая высокая рождаемость в 2014 году?"
      ],
      "metadata": {
        "id": "KNEHKZ5LqwGC"
      },
      "id": "KNEHKZ5LqwGC"
    },
    {
      "cell_type": "code",
      "source": [
        "df.loc[df['2014'] == df['2014'].max()]['Регіон']"
      ],
      "metadata": {
        "id": "mjpiINW5qxmJ",
        "outputId": "1a08f7a8-9e6f-4640-e464-051ae7a0575f",
        "colab": {
          "base_uri": "https://localhost:8080/"
        }
      },
      "id": "mjpiINW5qxmJ",
      "execution_count": 11,
      "outputs": [
        {
          "output_type": "execute_result",
          "data": {
            "text/plain": [
              "16    Рівненська\n",
              "Name: Регіон, dtype: object"
            ]
          },
          "metadata": {},
          "execution_count": 11
        }
      ]
    },
    {
      "cell_type": "markdown",
      "source": [
        "11. Постройте столбцовую диаграмму рождаемости по регионам в 2019 году"
      ],
      "metadata": {
        "id": "MASGepG8vqkT"
      },
      "id": "MASGepG8vqkT"
    },
    {
      "cell_type": "code",
      "source": [
        "import matplotlib.pyplot as plt\n",
        "plt.figure(figsize=(12, 8))\n",
        "plt.bar(df['Регіон'], df['2019'])\n",
        "plt.title('Коефіцієнт народжуваності в регіонах України в 2019 роцi')\n",
        "plt.xlabel('Регіон', color = 'blue', fontsize = 'large')\n",
        "plt.ylabel('Коефіцієнт народжуваності', color = 'blue')\n",
        "plt.xticks(rotation=90)\n",
        "plt.grid(ls = '--', axis = 'y')\n",
        "plt.show()"
      ],
      "metadata": {
        "id": "_2G7DyQ6vswp",
        "outputId": "8c399b3c-8fdd-41db-bf49-a26d664a3f0a",
        "colab": {
          "base_uri": "https://localhost:8080/",
          "height": 603
        }
      },
      "id": "_2G7DyQ6vswp",
      "execution_count": 12,
      "outputs": [
        {
          "output_type": "display_data",
          "data": {
            "text/plain": [
              "<Figure size 864x576 with 1 Axes>"
            ],
            "image/png": "[encoded data removed]"
          },
          "metadata": {
            "needs_background": "light"
          }
        }
      ]
    },
    {
      "cell_type": "markdown",
      "source": [
        "# Визуализация данных"
      ],
      "metadata": {
        "id": "nb9RhBXWU_uz"
      },
      "id": "nb9RhBXWU_uz"
    },
    {
      "cell_type": "code",
      "source": [
        "new_df = df.sort_values(by='2019', ascending=False)\n",
        "color_bar = ['red', 'darkred', 'maroon', 'firebrick', 'brown']\n",
        "color_bar += ['royalblue'] * (len(new_df['Регіон']) - len(color_bar))\n",
        "print(color_bar)"
      ],
      "metadata": {
        "id": "U_bOevl6uDoo",
        "outputId": "9570a85a-7853-4dfa-8511-82cbc061bae6",
        "colab": {
          "base_uri": "https://localhost:8080/"
        }
      },
      "id": "U_bOevl6uDoo",
      "execution_count": 32,
      "outputs": [
        {
          "output_type": "stream",
          "name": "stdout",
          "text": [
            "['red', 'darkred', 'maroon', 'firebrick', 'broun', 'royalblue', 'royalblue', 'royalblue', 'royalblue', 'royalblue', 'royalblue', 'royalblue', 'royalblue', 'royalblue', 'royalblue', 'royalblue', 'royalblue', 'royalblue', 'royalblue', 'royalblue', 'royalblue', 'royalblue', 'royalblue', 'royalblue', 'royalblue', 'royalblue', 'royalblue']\n"
          ]
        }
      ]
    },
    {
      "cell_type": "code",
      "source": [
        "new_df = df.sort_values(by='2019', ascending=False)\n",
        "color_bar = ['red', 'darkred', 'maroon', 'firebrick', 'brown']\n",
        "color_bar += ['royalblue'] * (len(new_df['Регіон']) - len(color_bar))\n",
        "plt.figure(figsize=(12, 8))\n",
        "plt.bar(new_df['Регіон'], new_df['2019'], color=color_bar)\n",
        "plt.title('Коефіцієнт народжуваності в регіонах України в 2019 роцi', color = 'navy',fontsize = 'xx-large', fontstyle ='oblique', loc='left')\n",
        "plt.xlabel('Регіон', color = 'royalblue', fontsize = 'x-large', fontstyle ='italic')\n",
        "plt.ylabel('Коефіцієнт народжуваності', color = 'royalblue', fontsize = 'x-large', fontstyle ='italic')\n",
        "plt.xticks(rotation=90)\n",
        "plt.grid(ls = '--', axis = 'y')\n",
        "plt.text('Київ', 11, 'Найбiльш сприятливi регiони для народження', color=\"crimson\", fontsize = 'large')\n",
        "plt.show()"
      ],
      "metadata": {
        "id": "dEhsipglVAUO",
        "outputId": "3516aab8-86b7-4990-9ea7-bed17e71d46b",
        "colab": {
          "base_uri": "https://localhost:8080/",
          "height": 608
        }
      },
      "id": "dEhsipglVAUO",
      "execution_count": 36,
      "outputs": [
        {
          "output_type": "display_data",
          "data": {
            "text/plain": [
              "<Figure size 864x576 with 1 Axes>"
            ],
            "image/png": "[encoded data removed]"
          },
          "metadata": {
            "needs_background": "light"
          }
        }
      ]
    },
    {
      "cell_type": "code",
      "source": [
        "plt.figure(figsize=(12, 8))\n",
        "fig, axs = plt.subplots()\n",
        "\n",
        "axs.plot(new_df['Регіон'], new_df['2019'], label='2019')\n",
        "axs.plot(new_df['Регіон'], new_df['2014'], label='2014')\n",
        "plt.xlabel('Дата', fontsize='small', color='midnightblue')\n",
        "plt.ylabel('Температура', fontsize='small', color='midnightblue')\n",
        "plt.title('Температура в г. Полтава', fontsize=15)\n",
        "# plt.text(date[0], 15, 'Осень достаточно теплая', color=\"blue\")\n",
        "plt.legend()\n",
        "plt.show()"
      ],
      "metadata": {
        "id": "d5aHzBaXbO7C",
        "outputId": "6ecdce0f-13e5-4e45-d871-300c6ba6dbe3",
        "colab": {
          "base_uri": "https://localhost:8080/",
          "height": 314
        }
      },
      "id": "d5aHzBaXbO7C",
      "execution_count": 17,
      "outputs": [
        {
          "output_type": "display_data",
          "data": {
            "text/plain": [
              "<Figure size 864x576 with 0 Axes>"
            ]
          },
          "metadata": {}
        },
        {
          "output_type": "display_data",
          "data": {
            "text/plain": [
              "<Figure size 432x288 with 1 Axes>"
            ],
            "image/png": "[encoded data removed]"
          },
          "metadata": {
            "needs_background": "light"
          }
        }
      ]
    },
    {
      "cell_type": "code",
      "source": [
        "new_df\n"
      ],
      "metadata": {
        "id": "PfZ54I3Chw1t",
        "outputId": "b4aec44c-afe1-4654-d1fe-e5e9cf9a49be",
        "colab": {
          "base_uri": "https://localhost:8080/",
          "height": 896
        }
      },
      "id": "PfZ54I3Chw1t",
      "execution_count": 15,
      "outputs": [
        {
          "output_type": "execute_result",
          "data": {
            "text/plain": [
              "               Регіон    1950       1960  1970  1990  2000  2012    2014  \\\n",
              "25               Київ  23.104  17.400000  15.9  12.0   7.3  12.0  12.100   \n",
              "16         Рівненська  26.900  26.700000  19.3  15.8  11.8  15.9  14.800   \n",
              "6        Закарпатська  31.400  27.300000  20.7  16.8  11.5  15.1  14.600   \n",
              "2           Волинська  24.700  25.000000  17.9  15.3  11.2  14.8  14.100   \n",
              "23        Чернівецька  24.700  21.800000  17.0  14.8  10.1  12.8  12.900   \n",
              "8   Івано-Франківська  24.300  24.800000  18.2  15.5  10.3  12.4  12.200   \n",
              "14            Одеська  24.100  19.200000  14.8  12.6   8.0  12.7  12.300   \n",
              "12          Львівська  23.400  24.000000  17.1  14.0   9.1  11.9  11.900   \n",
              "20         Херсонська  20.800  21.400000  16.6  14.3   8.5  11.7  11.500   \n",
              "0                Крим  23.000  20.600000  16.0  13.0   7.3  12.6  11.144   \n",
              "11          Луганська  26.200  23.500000  14.4  11.6   6.2   9.6   5.100   \n",
              "26        Севастополь  23.104  20.757692  15.6  12.5   7.0  12.0  11.144   \n",
              "4            Донецька  27.100  21.400000  14.0  10.9   6.1   9.8   8.200   \n",
              "9            Київська  20.400  18.900000  15.6  12.3   7.3  12.2  12.100   \n",
              "5         Житомирська  26.100  22.300000  15.9  12.9   8.9  12.2  12.000   \n",
              "21        Хмельницька  23.400  19.800000  14.8  12.9   8.5  11.3  11.200   \n",
              "1           Вінницька  22.400  19.200000  14.2  12.4   8.4  11.2  10.900   \n",
              "18      Тернопільська  21.300  21.600000  15.7  14.2   9.2  11.3  10.900   \n",
              "3    Дніпропетровська  20.400  20.400000  15.1  12.3   7.1  11.2  11.100   \n",
              "13       Миколаївська  21.100  19.400000  15.5  13.7   8.0  11.5  11.200   \n",
              "10     Кіровоградська  21.600  17.100000  14.5  12.6   7.9  11.0  10.800   \n",
              "7          Запорізька  21.900  19.700000  15.0  12.4   7.1  10.6  10.600   \n",
              "19         Харківська  19.700  17.300000  14.0  11.4   6.8   9.9  10.100   \n",
              "15         Полтавська  18.600  16.300000  13.1  11.8   7.0   9.9  10.000   \n",
              "22          Черкаська  20.500  17.900000  14.4  12.3   7.5  10.0   9.800   \n",
              "24       Чернігівська  22.000  18.300000  12.7  10.8   6.9   9.4   9.000   \n",
              "17            Сумська  21.600  18.400000  13.2  11.5   7.0   9.7   9.200   \n",
              "\n",
              "         2019  \n",
              "25  11.000000  \n",
              "16  10.700000  \n",
              "6   10.400000  \n",
              "2   10.100000  \n",
              "23   9.200000  \n",
              "8    8.800000  \n",
              "14   8.800000  \n",
              "12   8.700000  \n",
              "20   8.100000  \n",
              "0    8.017391  \n",
              "11   8.017391  \n",
              "26   8.017391  \n",
              "4    8.017391  \n",
              "9    8.000000  \n",
              "5    7.900000  \n",
              "21   7.900000  \n",
              "1    7.600000  \n",
              "18   7.600000  \n",
              "3    7.100000  \n",
              "13   7.100000  \n",
              "10   6.800000  \n",
              "7    6.800000  \n",
              "19   6.800000  \n",
              "15   6.500000  \n",
              "22   6.400000  \n",
              "24   6.100000  \n",
              "17   6.000000  "
            ],
            "text/html": [
              "\n",
              "  <div id=\"df-23285b97-9d20-4247-92ef-2f0e7cd59b4a\">\n",
              "    <div class=\"colab-df-container\">\n",
              "      <div>\n",
              "<style scoped>\n",
              "    .dataframe tbody tr th:only-of-type {\n",
              "        vertical-align: middle;\n",
              "    }\n",
              "\n",
              "    .dataframe tbody tr th {\n",
              "        vertical-align: top;\n",
              "    }\n",
              "\n",
              "    .dataframe thead th {\n",
              "        text-align: right;\n",
              "    }\n",
              "</style>\n",
              "<table border=\"1\" class=\"dataframe\">\n",
              "  <thead>\n",
              "    <tr style=\"text-align: right;\">\n",
              "      <th></th>\n",
              "      <th>Регіон</th>\n",
              "      <th>1950</th>\n",
              "      <th>1960</th>\n",
              "      <th>1970</th>\n",
              "      <th>1990</th>\n",
              "      <th>2000</th>\n",
              "      <th>2012</th>\n",
              "      <th>2014</th>\n",
              "      <th>2019</th>\n",
              "    </tr>\n",
              "  </thead>\n",
              "  <tbody>\n",
              "    <tr>\n",
              "      <th>25</th>\n",
              "      <td>Київ</td>\n",
              "      <td>23.104</td>\n",
              "      <td>17.400000</td>\n",
              "      <td>15.9</td>\n",
              "      <td>12.0</td>\n",
              "      <td>7.3</td>\n",
              "      <td>12.0</td>\n",
              "      <td>12.100</td>\n",
              "      <td>11.000000</td>\n",
              "    </tr>\n",
              "    <tr>\n",
              "      <th>16</th>\n",
              "      <td>Рівненська</td>\n",
              "      <td>26.900</td>\n",
              "      <td>26.700000</td>\n",
              "      <td>19.3</td>\n",
              "      <td>15.8</td>\n",
              "      <td>11.8</td>\n",
              "      <td>15.9</td>\n",
              "      <td>14.800</td>\n",
              "      <td>10.700000</td>\n",
              "    </tr>\n",
              "    <tr>\n",
              "      <th>6</th>\n",
              "      <td>Закарпатська</td>\n",
              "      <td>31.400</td>\n",
              "      <td>27.300000</td>\n",
              "      <td>20.7</td>\n",
              "      <td>16.8</td>\n",
              "      <td>11.5</td>\n",
              "      <td>15.1</td>\n",
              "      <td>14.600</td>\n",
              "      <td>10.400000</td>\n",
              "    </tr>\n",
              "    <tr>\n",
              "      <th>2</th>\n",
              "      <td>Волинська</td>\n",
              "      <td>24.700</td>\n",
              "      <td>25.000000</td>\n",
              "      <td>17.9</td>\n",
              "      <td>15.3</td>\n",
              "      <td>11.2</td>\n",
              "      <td>14.8</td>\n",
              "      <td>14.100</td>\n",
              "      <td>10.100000</td>\n",
              "    </tr>\n",
              "    <tr>\n",
              "      <th>23</th>\n",
              "      <td>Чернівецька</td>\n",
              "      <td>24.700</td>\n",
              "      <td>21.800000</td>\n",
              "      <td>17.0</td>\n",
              "      <td>14.8</td>\n",
              "      <td>10.1</td>\n",
              "      <td>12.8</td>\n",
              "      <td>12.900</td>\n",
              "      <td>9.200000</td>\n",
              "    </tr>\n",
              "    <tr>\n",
              "      <th>8</th>\n",
              "      <td>Івано-Франківська</td>\n",
              "      <td>24.300</td>\n",
              "      <td>24.800000</td>\n",
              "      <td>18.2</td>\n",
              "      <td>15.5</td>\n",
              "      <td>10.3</td>\n",
              "      <td>12.4</td>\n",
              "      <td>12.200</td>\n",
              "      <td>8.800000</td>\n",
              "    </tr>\n",
              "    <tr>\n",
              "      <th>14</th>\n",
              "      <td>Одеська</td>\n",
              "      <td>24.100</td>\n",
              "      <td>19.200000</td>\n",
              "      <td>14.8</td>\n",
              "      <td>12.6</td>\n",
              "      <td>8.0</td>\n",
              "      <td>12.7</td>\n",
              "      <td>12.300</td>\n",
              "      <td>8.800000</td>\n",
              "    </tr>\n",
              "    <tr>\n",
              "      <th>12</th>\n",
              "      <td>Львівська</td>\n",
              "      <td>23.400</td>\n",
              "      <td>24.000000</td>\n",
              "      <td>17.1</td>\n",
              "      <td>14.0</td>\n",
              "      <td>9.1</td>\n",
              "      <td>11.9</td>\n",
              "      <td>11.900</td>\n",
              "      <td>8.700000</td>\n",
              "    </tr>\n",
              "    <tr>\n",
              "      <th>20</th>\n",
              "      <td>Херсонська</td>\n",
              "      <td>20.800</td>\n",
              "      <td>21.400000</td>\n",
              "      <td>16.6</td>\n",
              "      <td>14.3</td>\n",
              "      <td>8.5</td>\n",
              "      <td>11.7</td>\n",
              "      <td>11.500</td>\n",
              "      <td>8.100000</td>\n",
              "    </tr>\n",
              "    <tr>\n",
              "      <th>0</th>\n",
              "      <td>Крим</td>\n",
              "      <td>23.000</td>\n",
              "      <td>20.600000</td>\n",
              "      <td>16.0</td>\n",
              "      <td>13.0</td>\n",
              "      <td>7.3</td>\n",
              "      <td>12.6</td>\n",
              "      <td>11.144</td>\n",
              "      <td>8.017391</td>\n",
              "    </tr>\n",
              "    <tr>\n",
              "      <th>11</th>\n",
              "      <td>Луганська</td>\n",
              "      <td>26.200</td>\n",
              "      <td>23.500000</td>\n",
              "      <td>14.4</td>\n",
              "      <td>11.6</td>\n",
              "      <td>6.2</td>\n",
              "      <td>9.6</td>\n",
              "      <td>5.100</td>\n",
              "      <td>8.017391</td>\n",
              "    </tr>\n",
              "    <tr>\n",
              "      <th>26</th>\n",
              "      <td>Севастополь</td>\n",
              "      <td>23.104</td>\n",
              "      <td>20.757692</td>\n",
              "      <td>15.6</td>\n",
              "      <td>12.5</td>\n",
              "      <td>7.0</td>\n",
              "      <td>12.0</td>\n",
              "      <td>11.144</td>\n",
              "      <td>8.017391</td>\n",
              "    </tr>\n",
              "    <tr>\n",
              "      <th>4</th>\n",
              "      <td>Донецька</td>\n",
              "      <td>27.100</td>\n",
              "      <td>21.400000</td>\n",
              "      <td>14.0</td>\n",
              "      <td>10.9</td>\n",
              "      <td>6.1</td>\n",
              "      <td>9.8</td>\n",
              "      <td>8.200</td>\n",
              "      <td>8.017391</td>\n",
              "    </tr>\n",
              "    <tr>\n",
              "      <th>9</th>\n",
              "      <td>Київська</td>\n",
              "      <td>20.400</td>\n",
              "      <td>18.900000</td>\n",
              "      <td>15.6</td>\n",
              "      <td>12.3</td>\n",
              "      <td>7.3</td>\n",
              "      <td>12.2</td>\n",
              "      <td>12.100</td>\n",
              "      <td>8.000000</td>\n",
              "    </tr>\n",
              "    <tr>\n",
              "      <th>5</th>\n",
              "      <td>Житомирська</td>\n",
              "      <td>26.100</td>\n",
              "      <td>22.300000</td>\n",
              "      <td>15.9</td>\n",
              "      <td>12.9</td>\n",
              "      <td>8.9</td>\n",
              "      <td>12.2</td>\n",
              "      <td>12.000</td>\n",
              "      <td>7.900000</td>\n",
              "    </tr>\n",
              "    <tr>\n",
              "      <th>21</th>\n",
              "      <td>Хмельницька</td>\n",
              "      <td>23.400</td>\n",
              "      <td>19.800000</td>\n",
              "      <td>14.8</td>\n",
              "      <td>12.9</td>\n",
              "      <td>8.5</td>\n",
              "      <td>11.3</td>\n",
              "      <td>11.200</td>\n",
              "      <td>7.900000</td>\n",
              "    </tr>\n",
              "    <tr>\n",
              "      <th>1</th>\n",
              "      <td>Вінницька</td>\n",
              "      <td>22.400</td>\n",
              "      <td>19.200000</td>\n",
              "      <td>14.2</td>\n",
              "      <td>12.4</td>\n",
              "      <td>8.4</td>\n",
              "      <td>11.2</td>\n",
              "      <td>10.900</td>\n",
              "      <td>7.600000</td>\n",
              "    </tr>\n",
              "    <tr>\n",
              "      <th>18</th>\n",
              "      <td>Тернопільська</td>\n",
              "      <td>21.300</td>\n",
              "      <td>21.600000</td>\n",
              "      <td>15.7</td>\n",
              "      <td>14.2</td>\n",
              "      <td>9.2</td>\n",
              "      <td>11.3</td>\n",
              "      <td>10.900</td>\n",
              "      <td>7.600000</td>\n",
              "    </tr>\n",
              "    <tr>\n",
              "      <th>3</th>\n",
              "      <td>Дніпропетровська</td>\n",
              "      <td>20.400</td>\n",
              "      <td>20.400000</td>\n",
              "      <td>15.1</td>\n",
              "      <td>12.3</td>\n",
              "      <td>7.1</td>\n",
              "      <td>11.2</td>\n",
              "      <td>11.100</td>\n",
              "      <td>7.100000</td>\n",
              "    </tr>\n",
              "    <tr>\n",
              "      <th>13</th>\n",
              "      <td>Миколаївська</td>\n",
              "      <td>21.100</td>\n",
              "      <td>19.400000</td>\n",
              "      <td>15.5</td>\n",
              "      <td>13.7</td>\n",
              "      <td>8.0</td>\n",
              "      <td>11.5</td>\n",
              "      <td>11.200</td>\n",
              "      <td>7.100000</td>\n",
              "    </tr>\n",
              "    <tr>\n",
              "      <th>10</th>\n",
              "      <td>Кіровоградська</td>\n",
              "      <td>21.600</td>\n",
              "      <td>17.100000</td>\n",
              "      <td>14.5</td>\n",
              "      <td>12.6</td>\n",
              "      <td>7.9</td>\n",
              "      <td>11.0</td>\n",
              "      <td>10.800</td>\n",
              "      <td>6.800000</td>\n",
              "    </tr>\n",
              "    <tr>\n",
              "      <th>7</th>\n",
              "      <td>Запорізька</td>\n",
              "      <td>21.900</td>\n",
              "      <td>19.700000</td>\n",
              "      <td>15.0</td>\n",
              "      <td>12.4</td>\n",
              "      <td>7.1</td>\n",
              "      <td>10.6</td>\n",
              "      <td>10.600</td>\n",
              "      <td>6.800000</td>\n",
              "    </tr>\n",
              "    <tr>\n",
              "      <th>19</th>\n",
              "      <td>Харківська</td>\n",
              "      <td>19.700</td>\n",
              "      <td>17.300000</td>\n",
              "      <td>14.0</td>\n",
              "      <td>11.4</td>\n",
              "      <td>6.8</td>\n",
              "      <td>9.9</td>\n",
              "      <td>10.100</td>\n",
              "      <td>6.800000</td>\n",
              "    </tr>\n",
              "    <tr>\n",
              "      <th>15</th>\n",
              "      <td>Полтавська</td>\n",
              "      <td>18.600</td>\n",
              "      <td>16.300000</td>\n",
              "      <td>13.1</td>\n",
              "      <td>11.8</td>\n",
              "      <td>7.0</td>\n",
              "      <td>9.9</td>\n",
              "      <td>10.000</td>\n",
              "      <td>6.500000</td>\n",
              "    </tr>\n",
              "    <tr>\n",
              "      <th>22</th>\n",
              "      <td>Черкаська</td>\n",
              "      <td>20.500</td>\n",
              "      <td>17.900000</td>\n",
              "      <td>14.4</td>\n",
              "      <td>12.3</td>\n",
              "      <td>7.5</td>\n",
              "      <td>10.0</td>\n",
              "      <td>9.800</td>\n",
              "      <td>6.400000</td>\n",
              "    </tr>\n",
              "    <tr>\n",
              "      <th>24</th>\n",
              "      <td>Чернігівська</td>\n",
              "      <td>22.000</td>\n",
              "      <td>18.300000</td>\n",
              "      <td>12.7</td>\n",
              "      <td>10.8</td>\n",
              "      <td>6.9</td>\n",
              "      <td>9.4</td>\n",
              "      <td>9.000</td>\n",
              "      <td>6.100000</td>\n",
              "    </tr>\n",
              "    <tr>\n",
              "      <th>17</th>\n",
              "      <td>Сумська</td>\n",
              "      <td>21.600</td>\n",
              "      <td>18.400000</td>\n",
              "      <td>13.2</td>\n",
              "      <td>11.5</td>\n",
              "      <td>7.0</td>\n",
              "      <td>9.7</td>\n",
              "      <td>9.200</td>\n",
              "      <td>6.000000</td>\n",
              "    </tr>\n",
              "  </tbody>\n",
              "</table>\n",
              "</div>\n",
              "      <button class=\"colab-df-convert\" onclick=\"convertToInteractive('df-23285b97-9d20-4247-92ef-2f0e7cd59b4a')\"\n",
              "              title=\"Convert this dataframe to an interactive table.\"\n",
              "              style=\"display:none;\">\n",
              "        \n",
              "  <svg xmlns=\"http://www.w3.org/2000/svg\" height=\"24px\"viewBox=\"0 0 24 24\"\n",
              "       width=\"24px\">\n",
              "    <path d=\"M0 0h24v24H0V0z\" fill=\"none\"/>\n",
              "    <path d=\"M18.56 5.44l.94 2.06.94-2.06 2.06-.94-2.06-.94-.94-2.06-.94 2.06-2.06.94zm-11 1L8.5 8.5l.94-2.06 2.06-.94-2.06-.94L8.5 2.5l-.94 2.06-2.06.94zm10 10l.94 2.06.94-2.06 2.06-.94-2.06-.94-.94-2.06-.94 2.06-2.06.94z\"/><path d=\"M17.41 7.96l-1.37-1.37c-.4-.4-.92-.59-1.43-.59-.52 0-1.04.2-1.43.59L10.3 9.45l-7.72 7.72c-.78.78-.78 2.05 0 2.83L4 21.41c.39.39.9.59 1.41.59.51 0 1.02-.2 1.41-.59l7.78-7.78 2.81-2.81c.8-.78.8-2.07 0-2.86zM5.41 20L4 18.59l7.72-7.72 1.47 1.35L5.41 20z\"/>\n",
              "  </svg>\n",
              "      </button>\n",
              "      \n",
              "  <style>\n",
              "    .colab-df-container {\n",
              "      display:flex;\n",
              "      flex-wrap:wrap;\n",
              "      gap: 12px;\n",
              "    }\n",
              "\n",
              "    .colab-df-convert {\n",
              "      background-color: #E8F0FE;\n",
              "      border: none;\n",
              "      border-radius: 50%;\n",
              "      cursor: pointer;\n",
              "      display: none;\n",
              "      fill: #1967D2;\n",
              "      height: 32px;\n",
              "      padding: 0 0 0 0;\n",
              "      width: 32px;\n",
              "    }\n",
              "\n",
              "    .colab-df-convert:hover {\n",
              "      background-color: #E2EBFA;\n",
              "      box-shadow: 0px 1px 2px rgba(60, 64, 67, 0.3), 0px 1px 3px 1px rgba(60, 64, 67, 0.15);\n",
              "      fill: #174EA6;\n",
              "    }\n",
              "\n",
              "    [theme=dark] .colab-df-convert {\n",
              "      background-color: #3B4455;\n",
              "      fill: #D2E3FC;\n",
              "    }\n",
              "\n",
              "    [theme=dark] .colab-df-convert:hover {\n",
              "      background-color: #434B5C;\n",
              "      box-shadow: 0px 1px 3px 1px rgba(0, 0, 0, 0.15);\n",
              "      filter: drop-shadow(0px 1px 2px rgba(0, 0, 0, 0.3));\n",
              "      fill: #FFFFFF;\n",
              "    }\n",
              "  </style>\n",
              "\n",
              "      <script>\n",
              "        const buttonEl =\n",
              "          document.querySelector('#df-23285b97-9d20-4247-92ef-2f0e7cd59b4a button.colab-df-convert');\n",
              "        buttonEl.style.display =\n",
              "          google.colab.kernel.accessAllowed ? 'block' : 'none';\n",
              "\n",
              "        async function convertToInteractive(key) {\n",
              "          const element = document.querySelector('#df-23285b97-9d20-4247-92ef-2f0e7cd59b4a');\n",
              "          const dataTable =\n",
              "            await google.colab.kernel.invokeFunction('convertToInteractive',\n",
              "                                                     [key], {});\n",
              "          if (!dataTable) return;\n",
              "\n",
              "          const docLinkHtml = 'Like what you see? Visit the ' +\n",
              "            '<a target=\"_blank\" href=https://colab.research.google.com/notebooks/data_table.ipynb>data table notebook</a>'\n",
              "            + ' to learn more about interactive tables.';\n",
              "          element.innerHTML = '';\n",
              "          dataTable['output_type'] = 'display_data';\n",
              "          await google.colab.output.renderOutput(dataTable, element);\n",
              "          const docLink = document.createElement('div');\n",
              "          docLink.innerHTML = docLinkHtml;\n",
              "          element.appendChild(docLink);\n",
              "        }\n",
              "      </script>\n",
              "    </div>\n",
              "  </div>\n",
              "  "
            ]
          },
          "metadata": {},
          "execution_count": 15
        }
      ]
    },
    {
      "cell_type": "code",
      "source": [
        "fig, ax = plt.subplots()\n",
        "im = ax.imshow(new_df)\n",
        "\n",
        "# Show all ticks and label them with the respective list entries\n",
        "# ax.set_xticks(np.arange(len(farmers)), labels=farmers)\n",
        "# ax.set_yticks(np.arange(len(vegetables)), labels=vegetables)\n",
        "\n",
        "# Rotate the tick labels and set their alignment.\n",
        "plt.setp(ax.get_xticklabels(), rotation=45, ha=\"right\",\n",
        "         rotation_mode=\"anchor\")\n",
        "\n",
        "# Loop over data dimensions and create text annotations.\n",
        "# for i in range(len(vegetables)):\n",
        "#     for j in range(len(farmers)):\n",
        "#         text = ax.text(j, i, harvest[i, j],\n",
        "#                        ha=\"center\", va=\"center\", color=\"w\")\n",
        "\n",
        "ax.set_title(\"Harvest of local farmers (in tons/year)\")\n",
        "fig.tight_layout()\n",
        "plt.show()"
      ],
      "metadata": {
        "id": "jNkXFocbqkDE",
        "outputId": "70de8c45-9f3b-49e7-c148-310e9d3cce80",
        "colab": {
          "base_uri": "https://localhost:8080/",
          "height": 642
        }
      },
      "id": "jNkXFocbqkDE",
      "execution_count": 19,
      "outputs": [
        {
          "output_type": "error",
          "ename": "TypeError",
          "evalue": "ignored",
          "traceback": [
            "\u001b[0;31m---------------------------------------------------------------------------\u001b[0m",
            "\u001b[0;31mTypeError\u001b[0m                                 Traceback (most recent call last)",
            "\u001b[0;32m<ipython-input-19-ce09dcf330a4>\u001b[0m in \u001b[0;36m<module>\u001b[0;34m\u001b[0m\n\u001b[1;32m      1\u001b[0m \u001b[0mfig\u001b[0m\u001b[0;34m,\u001b[0m \u001b[0max\u001b[0m \u001b[0;34m=\u001b[0m \u001b[0mplt\u001b[0m\u001b[0;34m.\u001b[0m\u001b[0msubplots\u001b[0m\u001b[0;34m(\u001b[0m\u001b[0;34m)\u001b[0m\u001b[0;34m\u001b[0m\u001b[0;34m\u001b[0m\u001b[0m\n\u001b[0;32m----> 2\u001b[0;31m \u001b[0mim\u001b[0m \u001b[0;34m=\u001b[0m \u001b[0max\u001b[0m\u001b[0;34m.\u001b[0m\u001b[0mimshow\u001b[0m\u001b[0;34m(\u001b[0m\u001b[0mnew_df\u001b[0m\u001b[0;34m)\u001b[0m\u001b[0;34m\u001b[0m\u001b[0;34m\u001b[0m\u001b[0m\n\u001b[0m\u001b[1;32m      3\u001b[0m \u001b[0;34m\u001b[0m\u001b[0m\n\u001b[1;32m      4\u001b[0m \u001b[0;31m# Show all ticks and label them with the respective list entries\u001b[0m\u001b[0;34m\u001b[0m\u001b[0;34m\u001b[0m\u001b[0m\n\u001b[1;32m      5\u001b[0m \u001b[0;31m# ax.set_xticks(np.arange(len(farmers)), labels=farmers)\u001b[0m\u001b[0;34m\u001b[0m\u001b[0;34m\u001b[0m\u001b[0m\n",
            "\u001b[0;32m/usr/local/lib/python3.9/dist-packages/matplotlib/_api/deprecation.py\u001b[0m in \u001b[0;36mwrapper\u001b[0;34m(*args, **kwargs)\u001b[0m\n\u001b[1;32m    457\u001b[0m                 \u001b[0;34m\"parameter will become keyword-only %(removal)s.\"\u001b[0m\u001b[0;34m,\u001b[0m\u001b[0;34m\u001b[0m\u001b[0;34m\u001b[0m\u001b[0m\n\u001b[1;32m    458\u001b[0m                 name=name, obj_type=f\"parameter of {func.__name__}()\")\n\u001b[0;32m--> 459\u001b[0;31m         \u001b[0;32mreturn\u001b[0m \u001b[0mfunc\u001b[0m\u001b[0;34m(\u001b[0m\u001b[0;34m*\u001b[0m\u001b[0margs\u001b[0m\u001b[0;34m,\u001b[0m \u001b[0;34m**\u001b[0m\u001b[0mkwargs\u001b[0m\u001b[0;34m)\u001b[0m\u001b[0;34m\u001b[0m\u001b[0;34m\u001b[0m\u001b[0m\n\u001b[0m\u001b[1;32m    460\u001b[0m \u001b[0;34m\u001b[0m\u001b[0m\n\u001b[1;32m    461\u001b[0m     \u001b[0;31m# Don't modify *func*'s signature, as boilerplate.py needs it.\u001b[0m\u001b[0;34m\u001b[0m\u001b[0;34m\u001b[0m\u001b[0m\n",
            "\u001b[0;32m/usr/local/lib/python3.9/dist-packages/matplotlib/__init__.py\u001b[0m in \u001b[0;36minner\u001b[0;34m(ax, data, *args, **kwargs)\u001b[0m\n\u001b[1;32m   1412\u001b[0m     \u001b[0;32mdef\u001b[0m \u001b[0minner\u001b[0m\u001b[0;34m(\u001b[0m\u001b[0max\u001b[0m\u001b[0;34m,\u001b[0m \u001b[0;34m*\u001b[0m\u001b[0margs\u001b[0m\u001b[0;34m,\u001b[0m \u001b[0mdata\u001b[0m\u001b[0;34m=\u001b[0m\u001b[0;32mNone\u001b[0m\u001b[0;34m,\u001b[0m \u001b[0;34m**\u001b[0m\u001b[0mkwargs\u001b[0m\u001b[0;34m)\u001b[0m\u001b[0;34m:\u001b[0m\u001b[0;34m\u001b[0m\u001b[0;34m\u001b[0m\u001b[0m\n\u001b[1;32m   1413\u001b[0m         \u001b[0;32mif\u001b[0m \u001b[0mdata\u001b[0m \u001b[0;32mis\u001b[0m \u001b[0;32mNone\u001b[0m\u001b[0;34m:\u001b[0m\u001b[0;34m\u001b[0m\u001b[0;34m\u001b[0m\u001b[0m\n\u001b[0;32m-> 1414\u001b[0;31m             \u001b[0;32mreturn\u001b[0m \u001b[0mfunc\u001b[0m\u001b[0;34m(\u001b[0m\u001b[0max\u001b[0m\u001b[0;34m,\u001b[0m \u001b[0;34m*\u001b[0m\u001b[0mmap\u001b[0m\u001b[0;34m(\u001b[0m\u001b[0msanitize_sequence\u001b[0m\u001b[0;34m,\u001b[0m \u001b[0margs\u001b[0m\u001b[0;34m)\u001b[0m\u001b[0;34m,\u001b[0m \u001b[0;34m**\u001b[0m\u001b[0mkwargs\u001b[0m\u001b[0;34m)\u001b[0m\u001b[0;34m\u001b[0m\u001b[0;34m\u001b[0m\u001b[0m\n\u001b[0m\u001b[1;32m   1415\u001b[0m \u001b[0;34m\u001b[0m\u001b[0m\n\u001b[1;32m   1416\u001b[0m         \u001b[0mbound\u001b[0m \u001b[0;34m=\u001b[0m \u001b[0mnew_sig\u001b[0m\u001b[0;34m.\u001b[0m\u001b[0mbind\u001b[0m\u001b[0;34m(\u001b[0m\u001b[0max\u001b[0m\u001b[0;34m,\u001b[0m \u001b[0;34m*\u001b[0m\u001b[0margs\u001b[0m\u001b[0;34m,\u001b[0m \u001b[0;34m**\u001b[0m\u001b[0mkwargs\u001b[0m\u001b[0;34m)\u001b[0m\u001b[0;34m\u001b[0m\u001b[0;34m\u001b[0m\u001b[0m\n",
            "\u001b[0;32m/usr/local/lib/python3.9/dist-packages/matplotlib/axes/_axes.py\u001b[0m in \u001b[0;36mimshow\u001b[0;34m(self, X, cmap, norm, aspect, interpolation, alpha, vmin, vmax, origin, extent, interpolation_stage, filternorm, filterrad, resample, url, **kwargs)\u001b[0m\n\u001b[1;32m   5485\u001b[0m                               **kwargs)\n\u001b[1;32m   5486\u001b[0m \u001b[0;34m\u001b[0m\u001b[0m\n\u001b[0;32m-> 5487\u001b[0;31m         \u001b[0mim\u001b[0m\u001b[0;34m.\u001b[0m\u001b[0mset_data\u001b[0m\u001b[0;34m(\u001b[0m\u001b[0mX\u001b[0m\u001b[0;34m)\u001b[0m\u001b[0;34m\u001b[0m\u001b[0;34m\u001b[0m\u001b[0m\n\u001b[0m\u001b[1;32m   5488\u001b[0m         \u001b[0mim\u001b[0m\u001b[0;34m.\u001b[0m\u001b[0mset_alpha\u001b[0m\u001b[0;34m(\u001b[0m\u001b[0malpha\u001b[0m\u001b[0;34m)\u001b[0m\u001b[0;34m\u001b[0m\u001b[0;34m\u001b[0m\u001b[0m\n\u001b[1;32m   5489\u001b[0m         \u001b[0;32mif\u001b[0m \u001b[0mim\u001b[0m\u001b[0;34m.\u001b[0m\u001b[0mget_clip_path\u001b[0m\u001b[0;34m(\u001b[0m\u001b[0;34m)\u001b[0m \u001b[0;32mis\u001b[0m \u001b[0;32mNone\u001b[0m\u001b[0;34m:\u001b[0m\u001b[0;34m\u001b[0m\u001b[0;34m\u001b[0m\u001b[0m\n",
            "\u001b[0;32m/usr/local/lib/python3.9/dist-packages/matplotlib/image.py\u001b[0m in \u001b[0;36mset_data\u001b[0;34m(self, A)\u001b[0m\n\u001b[1;32m    704\u001b[0m         if (self._A.dtype != np.uint8 and\n\u001b[1;32m    705\u001b[0m                 not np.can_cast(self._A.dtype, float, \"same_kind\")):\n\u001b[0;32m--> 706\u001b[0;31m             raise TypeError(\"Image data of dtype {} cannot be converted to \"\n\u001b[0m\u001b[1;32m    707\u001b[0m                             \"float\".format(self._A.dtype))\n\u001b[1;32m    708\u001b[0m \u001b[0;34m\u001b[0m\u001b[0m\n",
            "\u001b[0;31mTypeError\u001b[0m: Image data of dtype object cannot be converted to float"
          ]
        },
        {
          "output_type": "display_data",
          "data": {
            "text/plain": [
              "<Figure size 432x288 with 1 Axes>"
            ],
            "image/png": "[encoded data removed]"
          },
          "metadata": {
            "needs_background": "light"
          }
        }
      ]
    }
  ],
  "metadata": {
    "kernelspec": {
      "display_name": "Python 3 (ipykernel)",
      "language": "python",
      "name": "python3"
    },
    "language_info": {
      "codemirror_mode": {
        "name": "ipython",
        "version": 3
      },
      "file_extension": ".py",
      "mimetype": "text/x-python",
      "name": "python",
      "nbconvert_exporter": "python",
      "pygments_lexer": "ipython3",
      "version": "3.10.5"
    },
    "colab": {
      "provenance": [],
      "include_colab_link": true
    }
  },
  "nbformat": 4,
  "nbformat_minor": 5
}