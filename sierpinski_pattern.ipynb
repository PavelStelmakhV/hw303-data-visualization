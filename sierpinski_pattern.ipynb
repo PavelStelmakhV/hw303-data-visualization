{
  "nbformat": 4,
  "nbformat_minor": 0,
  "metadata": {
    "colab": {
      "provenance": [],
      "authorship_tag": "ABX9TyOcnLX/0GU5FP/jtbZEwdul",
      "include_colab_link": true
    },
    "kernelspec": {
      "name": "python3",
      "display_name": "Python 3"
    },
    "language_info": {
      "name": "python"
    }
  },
  "cells": [
    {
      "cell_type": "markdown",
      "metadata": {
        "id": "view-in-github",
        "colab_type": "text"
      },
      "source": [
        "<a href=\"https://colab.research.google.com/github/PavelStelmakhV/hw303-data-visualization/blob/main/sierpinski_pattern.ipynb\" target=\"_parent\"><img src=\"https://colab.research.google.com/assets/colab-badge.svg\" alt=\"Open In Colab\"/></a>"
      ]
    },
    {
      "cell_type": "code",
      "execution_count": null,
      "metadata": {
        "id": "sxof4OaJ5rPS",
        "colab": {
          "base_uri": "https://localhost:8080/"
        },
        "outputId": "bee4d31a-01bb-4df8-a04d-90190707f5ff"
      },
      "outputs": [
        {
          "output_type": "execute_result",
          "data": {
            "text/plain": [
              "(4, 2, 6)"
            ]
          },
          "metadata": {},
          "execution_count": 1
        }
      ],
      "source": [
        "import numpy as np\n",
        "import matplotlib.pyplot as plt\n",
        "\n",
        "ITERATION = 100\n",
        "\n",
        "def skew_product (x1, y1, x2, y2):\n",
        "  return x1 * y2 - x2 * y1\n",
        "\n",
        "# p = vect(xa - xo, ya - yo, xb - xa, yb - ya);\n",
        "# q = vect(xb - xo, yb - yo, xc - xb, yc - yb);\n",
        "# r = vect(xc - xo, yc - yo, xa - xc, ya - yc);\n",
        "def point_in_triangle(p, a, b, c):\n",
        "  p = np.cross([a[0]-p[0], a[1]-p[1]], [b[0]-a[0], b[1]-a[1]])\n",
        "  q = np.cross([b[0]-p[0], b[1]-p[1]], [c[0]-b[0], c[1]-b[1]])\n",
        "  r = np.cross([c[0]-p[0], c[1]-p[1]], [a[0]-c[0], a[1]-c[1]])\n",
        "  print(p, q, r)\n",
        "  print(((p <= 0 && q <= 0 && r <= 0) || (p >= 0 && q >= 0 && r >= 0)))\n",
        "  if ((p <= 0 && q <= 0 && r <= 0) || (p >= 0 && q >= 0 && r >= 0)):\n",
        "    return True\n",
        "  return False\n",
        "\n",
        "x_point = np.ndarray([1, 2, 3])\n",
        "y_point = np.ndarray([4, 2, 6])\n",
        "x_point.shape\n",
        "y_point.shape\n",
        "# plt.scatter([1, 2, 3], [4, 2, 6])\n",
        "# plt.show()"
      ]
    },
    {
      "cell_type": "code",
      "source": [
        "np.cross([1,2], [4,5])"
      ],
      "metadata": {
        "id": "j1oL-SoMuM4E",
        "outputId": "a0da94e6-69cd-4cab-87d0-ee7f593ac636",
        "colab": {
          "base_uri": "https://localhost:8080/"
        }
      },
      "execution_count": null,
      "outputs": [
        {
          "output_type": "execute_result",
          "data": {
            "text/plain": [
              "array(-3)"
            ]
          },
          "metadata": {},
          "execution_count": 2
        }
      ]
    }
  ]
}