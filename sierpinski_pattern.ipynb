{
  "nbformat": 4,
  "nbformat_minor": 0,
  "metadata": {
    "colab": {
      "provenance": [],
      "authorship_tag": "ABX9TyPtvGE4XbRgLROpY8m09wU5",
      "include_colab_link": true
    },
    "kernelspec": {
      "name": "python3",
      "display_name": "Python 3"
    },
    "language_info": {
      "name": "python"
    }
  },
  "cells": [
    {
      "cell_type": "markdown",
      "metadata": {
        "id": "view-in-github",
        "colab_type": "text"
      },
      "source": [
        "<a href=\"https://colab.research.google.com/github/PavelStelmakhV/hw303-data-visualization/blob/main/sierpinski_pattern.ipynb\" target=\"_parent\"><img src=\"https://colab.research.google.com/assets/colab-badge.svg\" alt=\"Open In Colab\"/></a>"
      ]
    },
    {
      "cell_type": "code",
      "execution_count": 3,
      "metadata": {
        "id": "sxof4OaJ5rPS",
        "colab": {
          "base_uri": "https://localhost:8080/"
        },
        "outputId": "9ec291a6-7a09-490e-c498-4165ea8df6ab"
      },
      "outputs": [
        {
          "output_type": "execute_result",
          "data": {
            "text/plain": [
              "(4, 2, 6)"
            ]
          },
          "metadata": {},
          "execution_count": 3
        }
      ],
      "source": [
        "import numpy as np\n",
        "import matplotlib.pyplot as plt\n",
        "\n",
        "ITERATION = 100\n",
        "x_point = np.ndarray([1, 2, 3])\n",
        "y_point = np.ndarray([4, 2, 6])\n",
        "x_point.shape\n",
        "y_point.shape\n",
        "# plt.scatter([1, 2, 3], [4, 2, 6])\n",
        "# plt.show()"
      ]
    }
  ]
}