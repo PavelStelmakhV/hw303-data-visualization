{
  "nbformat": 4,
  "nbformat_minor": 0,
  "metadata": {
    "colab": {
      "provenance": [],
      "authorship_tag": "ABX9TyMM2ZhBPzuvhXbCTtPqRg5Q",
      "include_colab_link": true
    },
    "kernelspec": {
      "name": "python3",
      "display_name": "Python 3"
    },
    "language_info": {
      "name": "python"
    }
  },
  "cells": [
    {
      "cell_type": "markdown",
      "metadata": {
        "id": "view-in-github",
        "colab_type": "text"
      },
      "source": [
        "<a href=\"https://colab.research.google.com/github/PavelStelmakhV/hw303-data-visualization/blob/main/Hw2.3.ipynb\" target=\"_parent\"><img src=\"https://colab.research.google.com/assets/colab-badge.svg\" alt=\"Open In Colab\"/></a>"
      ]
    },
    {
      "cell_type": "code",
      "execution_count": 1,
      "metadata": {
        "colab": {
          "base_uri": "https://localhost:8080/"
        },
        "id": "WJRB9EpDbXxo",
        "outputId": "05f4b59f-7da4-4800-d3a9-fe96187e320b"
      },
      "outputs": [
        {
          "output_type": "stream",
          "name": "stdout",
          "text": [
            "Mounted at /content/drive\n"
          ]
        }
      ],
      "source": [
        "import pandas as pd\n",
        "from google.colab import drive\n",
        "from google.colab import files\n",
        "drive.mount('/content/drive')"
      ]
    },
    {
      "cell_type": "markdown",
      "source": [
        "*   Прочитайте csv файл (используйте функцию read_csv)\n",
        "*   Выведите первый пять строчек (используется функцию head)\n",
        "*   Выведите размеры датасета (используйте атрибут shape)"
      ],
      "metadata": {
        "id": "kbBCo5gnh6xM"
      }
    },
    {
      "cell_type": "code",
      "source": [
        "path = '/content/drive/My Drive/'\n",
        "file_name = 'bestsellers with categories.csv'\n",
        "df = pd.read_csv(path + file_name)\n",
        "df_init = df.copy\n",
        "print(df.head(5))\n",
        "print(df.shape)"
      ],
      "metadata": {
        "colab": {
          "base_uri": "https://localhost:8080/"
        },
        "id": "K-spH_T-dmHk",
        "outputId": "c5d75305-c3ce-462e-a7a6-16e0e3682070"
      },
      "execution_count": 2,
      "outputs": [
        {
          "output_type": "stream",
          "name": "stdout",
          "text": [
            "                                                Name  \\\n",
            "0                      10-Day Green Smoothie Cleanse   \n",
            "1                                  11/22/63: A Novel   \n",
            "2            12 Rules for Life: An Antidote to Chaos   \n",
            "3                             1984 (Signet Classics)   \n",
            "4  5,000 Awesome Facts (About Everything!) (Natio...   \n",
            "\n",
            "                     Author  User Rating  Reviews  Price  Year        Genre  \n",
            "0                  JJ Smith          4.7    17350      8  2016  Non Fiction  \n",
            "1              Stephen King          4.6     2052     22  2011      Fiction  \n",
            "2        Jordan B. Peterson          4.7    18979     15  2018  Non Fiction  \n",
            "3             George Orwell          4.7    21424      6  2017      Fiction  \n",
            "4  National Geographic Kids          4.8     7665     12  2019  Non Fiction  \n",
            "(550, 7)\n"
          ]
        }
      ]
    },
    {
      "cell_type": "code",
      "source": [
        "df['Name'].nunique()"
      ],
      "metadata": {
        "colab": {
          "base_uri": "https://localhost:8080/"
        },
        "id": "lVcGYEGqkbs4",
        "outputId": "7c46772a-baf1-45b8-e54e-76b72159c70a"
      },
      "execution_count": 3,
      "outputs": [
        {
          "output_type": "execute_result",
          "data": {
            "text/plain": [
              "351"
            ]
          },
          "metadata": {},
          "execution_count": 3
        }
      ]
    },
    {
      "cell_type": "markdown",
      "source": [
        "О скольки книгах хранит данные датасет? Ответ: 351"
      ],
      "metadata": {
        "id": "QtX8kNyDWxKO"
      }
    },
    {
      "cell_type": "code",
      "source": [
        "df.columns = ['name', 'author', 'user_rating', 'reviews', 'price', 'year', 'genre']"
      ],
      "metadata": {
        "id": "aSyF0qCDHRXy"
      },
      "execution_count": 4,
      "outputs": []
    },
    {
      "cell_type": "markdown",
      "source": [
        "# Первичное исследование данных"
      ],
      "metadata": {
        "id": "5g9hRJdVzW-d"
      }
    },
    {
      "cell_type": "code",
      "source": [
        "df.isna().sum()"
      ],
      "metadata": {
        "colab": {
          "base_uri": "https://localhost:8080/"
        },
        "id": "OcnnK7QRH89g",
        "outputId": "ffc36747-5b2a-447d-df09-c53276af552f"
      },
      "execution_count": 5,
      "outputs": [
        {
          "output_type": "execute_result",
          "data": {
            "text/plain": [
              "name           0\n",
              "author         0\n",
              "user_rating    0\n",
              "reviews        0\n",
              "price          0\n",
              "year           0\n",
              "genre          0\n",
              "dtype: int64"
            ]
          },
          "metadata": {},
          "execution_count": 5
        }
      ]
    },
    {
      "cell_type": "markdown",
      "source": [
        "Есть ли в каких либо переменных пропуски? Ответ: Нет"
      ],
      "metadata": {
        "id": "DwoG00z-IHE4"
      }
    },
    {
      "cell_type": "code",
      "source": [
        "df['genre'].unique()"
      ],
      "metadata": {
        "colab": {
          "base_uri": "https://localhost:8080/"
        },
        "id": "msANlTWKIO0I",
        "outputId": "8fb40196-d5a3-45f2-a5c5-ca34fd423540"
      },
      "execution_count": 6,
      "outputs": [
        {
          "output_type": "execute_result",
          "data": {
            "text/plain": [
              "array(['Non Fiction', 'Fiction'], dtype=object)"
            ]
          },
          "metadata": {},
          "execution_count": 6
        }
      ]
    },
    {
      "cell_type": "markdown",
      "source": [
        "Какие есть уникальные жанры? Ответ: 'Non Fiction', 'Fiction'"
      ],
      "metadata": {
        "id": "TdYjfDZRJ5zd"
      }
    },
    {
      "cell_type": "code",
      "source": [
        "import matplotlib.pyplot as plt\n",
        "plt.figure(figsize = (12,8))\n",
        "df['price'].plot(kind = 'hist', bins=20)\n",
        "plt.xlabel('Price')\n",
        "plt.grid(ls = '--', axis = 'y')\n",
        "plt.show()"
      ],
      "metadata": {
        "colab": {
          "base_uri": "https://localhost:8080/",
          "height": 497
        },
        "id": "sASsAbvYUVii",
        "outputId": "d33fc9aa-3beb-4ccc-ab41-82243d0aa90d"
      },
      "execution_count": 7,
      "outputs": [
        {
          "output_type": "display_data",
          "data": {
            "text/plain": [
              "<Figure size 864x576 with 1 Axes>"
            ],
            "image/png": "[encoded data removed]"
          },
          "metadata": {
            "needs_background": "light"
          }
        }
      ]
    },
    {
      "cell_type": "code",
      "source": [
        "print(df['price'].max())\n",
        "print(df['price'].min())\n",
        "print(df['price'].mean())\n",
        "print(df['price'].median())"
      ],
      "metadata": {
        "colab": {
          "base_uri": "https://localhost:8080/"
        },
        "id": "v2dV16UQcVak",
        "outputId": "c5f56822-f8c8-4522-be10-24e7ec6e53a4"
      },
      "execution_count": 8,
      "outputs": [
        {
          "output_type": "stream",
          "name": "stdout",
          "text": [
            "105\n",
            "0\n",
            "13.1\n",
            "11.0\n"
          ]
        }
      ]
    },
    {
      "cell_type": "markdown",
      "source": [
        "Mаксимальная цена? Ответ: 105"
      ],
      "metadata": {
        "id": "PeCgmTsgklQt"
      }
    },
    {
      "cell_type": "markdown",
      "source": [
        "Минимальная цена? Ответ: 0"
      ],
      "metadata": {
        "id": "BPhNPzlmlVXE"
      }
    },
    {
      "cell_type": "markdown",
      "source": [
        "Средняя цена? Ответ: 13.1"
      ],
      "metadata": {
        "id": "v2PEBVz7lX1s"
      }
    },
    {
      "cell_type": "markdown",
      "source": [
        "Медианная цена? Ответ: 11"
      ],
      "metadata": {
        "id": "wPuhR9zPlaIL"
      }
    },
    {
      "cell_type": "markdown",
      "source": [
        "# Поиск и сортировка данных"
      ],
      "metadata": {
        "id": "9Cs7QBK2zffs"
      }
    },
    {
      "cell_type": "code",
      "source": [
        "df.user_rating.max()"
      ],
      "metadata": {
        "colab": {
          "base_uri": "https://localhost:8080/"
        },
        "id": "yqKMSJ0FjsDu",
        "outputId": "6f964fc4-d0cb-4ffe-da3c-eeca032503aa"
      },
      "execution_count": 9,
      "outputs": [
        {
          "output_type": "execute_result",
          "data": {
            "text/plain": [
              "4.9"
            ]
          },
          "metadata": {},
          "execution_count": 9
        }
      ]
    },
    {
      "cell_type": "markdown",
      "source": [
        "Какой рейтинг в датасете наивысший? Ответ: 4.9"
      ],
      "metadata": {
        "id": "oxMNaR8w3BG2"
      }
    },
    {
      "cell_type": "code",
      "source": [
        "len(df.loc[df.user_rating == df.user_rating.max()].name.unique())"
      ],
      "metadata": {
        "colab": {
          "base_uri": "https://localhost:8080/"
        },
        "id": "UCjcTLR73DJH",
        "outputId": "93c4b1e3-f2d0-47ab-ec10-2ea3029fe8e5"
      },
      "execution_count": 10,
      "outputs": [
        {
          "output_type": "execute_result",
          "data": {
            "text/plain": [
              "28"
            ]
          },
          "metadata": {},
          "execution_count": 10
        }
      ]
    },
    {
      "cell_type": "markdown",
      "source": [
        "Сколько книг имеют такой рейтинг? Ответ: 28"
      ],
      "metadata": {
        "id": "dhIVzWMGwJvx"
      }
    },
    {
      "cell_type": "code",
      "source": [
        "df.loc[df.reviews == df.reviews.max()]"
      ],
      "metadata": {
        "colab": {
          "base_uri": "https://localhost:8080/",
          "height": 81
        },
        "id": "zaWUyJEXwN7G",
        "outputId": "2c7325f3-8552-46e1-ad22-08d6a27a6d40"
      },
      "execution_count": 11,
      "outputs": [
        {
          "output_type": "execute_result",
          "data": {
            "text/plain": [
              "                        name       author  user_rating  reviews  price  year  \\\n",
              "534  Where the Crawdads Sing  Delia Owens          4.8    87841     15  2019   \n",
              "\n",
              "       genre  \n",
              "534  Fiction  "
            ],
            "text/html": [
              "\n",
              "  <div id=\"df-3ca4b277-7c3e-4c8b-9190-0e9146e5484b\">\n",
              "    <div class=\"colab-df-container\">\n",
              "      <div>\n",
              "<style scoped>\n",
              "    .dataframe tbody tr th:only-of-type {\n",
              "        vertical-align: middle;\n",
              "    }\n",
              "\n",
              "    .dataframe tbody tr th {\n",
              "        vertical-align: top;\n",
              "    }\n",
              "\n",
              "    .dataframe thead th {\n",
              "        text-align: right;\n",
              "    }\n",
              "</style>\n",
              "<table border=\"1\" class=\"dataframe\">\n",
              "  <thead>\n",
              "    <tr style=\"text-align: right;\">\n",
              "      <th></th>\n",
              "      <th>name</th>\n",
              "      <th>author</th>\n",
              "      <th>user_rating</th>\n",
              "      <th>reviews</th>\n",
              "      <th>price</th>\n",
              "      <th>year</th>\n",
              "      <th>genre</th>\n",
              "    </tr>\n",
              "  </thead>\n",
              "  <tbody>\n",
              "    <tr>\n",
              "      <th>534</th>\n",
              "      <td>Where the Crawdads Sing</td>\n",
              "      <td>Delia Owens</td>\n",
              "      <td>4.8</td>\n",
              "      <td>87841</td>\n",
              "      <td>15</td>\n",
              "      <td>2019</td>\n",
              "      <td>Fiction</td>\n",
              "    </tr>\n",
              "  </tbody>\n",
              "</table>\n",
              "</div>\n",
              "      <button class=\"colab-df-convert\" onclick=\"convertToInteractive('df-3ca4b277-7c3e-4c8b-9190-0e9146e5484b')\"\n",
              "              title=\"Convert this dataframe to an interactive table.\"\n",
              "              style=\"display:none;\">\n",
              "        \n",
              "  <svg xmlns=\"http://www.w3.org/2000/svg\" height=\"24px\"viewBox=\"0 0 24 24\"\n",
              "       width=\"24px\">\n",
              "    <path d=\"M0 0h24v24H0V0z\" fill=\"none\"/>\n",
              "    <path d=\"M18.56 5.44l.94 2.06.94-2.06 2.06-.94-2.06-.94-.94-2.06-.94 2.06-2.06.94zm-11 1L8.5 8.5l.94-2.06 2.06-.94-2.06-.94L8.5 2.5l-.94 2.06-2.06.94zm10 10l.94 2.06.94-2.06 2.06-.94-2.06-.94-.94-2.06-.94 2.06-2.06.94z\"/><path d=\"M17.41 7.96l-1.37-1.37c-.4-.4-.92-.59-1.43-.59-.52 0-1.04.2-1.43.59L10.3 9.45l-7.72 7.72c-.78.78-.78 2.05 0 2.83L4 21.41c.39.39.9.59 1.41.59.51 0 1.02-.2 1.41-.59l7.78-7.78 2.81-2.81c.8-.78.8-2.07 0-2.86zM5.41 20L4 18.59l7.72-7.72 1.47 1.35L5.41 20z\"/>\n",
              "  </svg>\n",
              "      </button>\n",
              "      \n",
              "  <style>\n",
              "    .colab-df-container {\n",
              "      display:flex;\n",
              "      flex-wrap:wrap;\n",
              "      gap: 12px;\n",
              "    }\n",
              "\n",
              "    .colab-df-convert {\n",
              "      background-color: #E8F0FE;\n",
              "      border: none;\n",
              "      border-radius: 50%;\n",
              "      cursor: pointer;\n",
              "      display: none;\n",
              "      fill: #1967D2;\n",
              "      height: 32px;\n",
              "      padding: 0 0 0 0;\n",
              "      width: 32px;\n",
              "    }\n",
              "\n",
              "    .colab-df-convert:hover {\n",
              "      background-color: #E2EBFA;\n",
              "      box-shadow: 0px 1px 2px rgba(60, 64, 67, 0.3), 0px 1px 3px 1px rgba(60, 64, 67, 0.15);\n",
              "      fill: #174EA6;\n",
              "    }\n",
              "\n",
              "    [theme=dark] .colab-df-convert {\n",
              "      background-color: #3B4455;\n",
              "      fill: #D2E3FC;\n",
              "    }\n",
              "\n",
              "    [theme=dark] .colab-df-convert:hover {\n",
              "      background-color: #434B5C;\n",
              "      box-shadow: 0px 1px 3px 1px rgba(0, 0, 0, 0.15);\n",
              "      filter: drop-shadow(0px 1px 2px rgba(0, 0, 0, 0.3));\n",
              "      fill: #FFFFFF;\n",
              "    }\n",
              "  </style>\n",
              "\n",
              "      <script>\n",
              "        const buttonEl =\n",
              "          document.querySelector('#df-3ca4b277-7c3e-4c8b-9190-0e9146e5484b button.colab-df-convert');\n",
              "        buttonEl.style.display =\n",
              "          google.colab.kernel.accessAllowed ? 'block' : 'none';\n",
              "\n",
              "        async function convertToInteractive(key) {\n",
              "          const element = document.querySelector('#df-3ca4b277-7c3e-4c8b-9190-0e9146e5484b');\n",
              "          const dataTable =\n",
              "            await google.colab.kernel.invokeFunction('convertToInteractive',\n",
              "                                                     [key], {});\n",
              "          if (!dataTable) return;\n",
              "\n",
              "          const docLinkHtml = 'Like what you see? Visit the ' +\n",
              "            '<a target=\"_blank\" href=https://colab.research.google.com/notebooks/data_table.ipynb>data table notebook</a>'\n",
              "            + ' to learn more about interactive tables.';\n",
              "          element.innerHTML = '';\n",
              "          dataTable['output_type'] = 'display_data';\n",
              "          await google.colab.output.renderOutput(dataTable, element);\n",
              "          const docLink = document.createElement('div');\n",
              "          docLink.innerHTML = docLinkHtml;\n",
              "          element.appendChild(docLink);\n",
              "        }\n",
              "      </script>\n",
              "    </div>\n",
              "  </div>\n",
              "  "
            ]
          },
          "metadata": {},
          "execution_count": 11
        }
      ]
    },
    {
      "cell_type": "markdown",
      "source": [
        "У какой книги больше всего отзывов? Ответ: Where the Crawdads Sing"
      ],
      "metadata": {
        "id": "rMFc7h09wbYe"
      }
    },
    {
      "cell_type": "code",
      "source": [
        "temp = df.loc[df.year == 2015]\n",
        "temp.loc[temp.price == temp.price.max()]"
      ],
      "metadata": {
        "colab": {
          "base_uri": "https://localhost:8080/",
          "height": 81
        },
        "id": "onhH5e88w3PE",
        "outputId": "4eef7325-013b-4975-ad38-69268180b726"
      },
      "execution_count": 12,
      "outputs": [
        {
          "output_type": "execute_result",
          "data": {
            "text/plain": [
              "                                                  name  \\\n",
              "277  Publication Manual of the American Psychologic...   \n",
              "\n",
              "                                 author  user_rating  reviews  price  year  \\\n",
              "277  American Psychological Association          4.5     8580     46  2015   \n",
              "\n",
              "           genre  \n",
              "277  Non Fiction  "
            ],
            "text/html": [
              "\n",
              "  <div id=\"df-ab0e9c5d-5c9d-46f7-9562-095e91acc302\">\n",
              "    <div class=\"colab-df-container\">\n",
              "      <div>\n",
              "<style scoped>\n",
              "    .dataframe tbody tr th:only-of-type {\n",
              "        vertical-align: middle;\n",
              "    }\n",
              "\n",
              "    .dataframe tbody tr th {\n",
              "        vertical-align: top;\n",
              "    }\n",
              "\n",
              "    .dataframe thead th {\n",
              "        text-align: right;\n",
              "    }\n",
              "</style>\n",
              "<table border=\"1\" class=\"dataframe\">\n",
              "  <thead>\n",
              "    <tr style=\"text-align: right;\">\n",
              "      <th></th>\n",
              "      <th>name</th>\n",
              "      <th>author</th>\n",
              "      <th>user_rating</th>\n",
              "      <th>reviews</th>\n",
              "      <th>price</th>\n",
              "      <th>year</th>\n",
              "      <th>genre</th>\n",
              "    </tr>\n",
              "  </thead>\n",
              "  <tbody>\n",
              "    <tr>\n",
              "      <th>277</th>\n",
              "      <td>Publication Manual of the American Psychologic...</td>\n",
              "      <td>American Psychological Association</td>\n",
              "      <td>4.5</td>\n",
              "      <td>8580</td>\n",
              "      <td>46</td>\n",
              "      <td>2015</td>\n",
              "      <td>Non Fiction</td>\n",
              "    </tr>\n",
              "  </tbody>\n",
              "</table>\n",
              "</div>\n",
              "      <button class=\"colab-df-convert\" onclick=\"convertToInteractive('df-ab0e9c5d-5c9d-46f7-9562-095e91acc302')\"\n",
              "              title=\"Convert this dataframe to an interactive table.\"\n",
              "              style=\"display:none;\">\n",
              "        \n",
              "  <svg xmlns=\"http://www.w3.org/2000/svg\" height=\"24px\"viewBox=\"0 0 24 24\"\n",
              "       width=\"24px\">\n",
              "    <path d=\"M0 0h24v24H0V0z\" fill=\"none\"/>\n",
              "    <path d=\"M18.56 5.44l.94 2.06.94-2.06 2.06-.94-2.06-.94-.94-2.06-.94 2.06-2.06.94zm-11 1L8.5 8.5l.94-2.06 2.06-.94-2.06-.94L8.5 2.5l-.94 2.06-2.06.94zm10 10l.94 2.06.94-2.06 2.06-.94-2.06-.94-.94-2.06-.94 2.06-2.06.94z\"/><path d=\"M17.41 7.96l-1.37-1.37c-.4-.4-.92-.59-1.43-.59-.52 0-1.04.2-1.43.59L10.3 9.45l-7.72 7.72c-.78.78-.78 2.05 0 2.83L4 21.41c.39.39.9.59 1.41.59.51 0 1.02-.2 1.41-.59l7.78-7.78 2.81-2.81c.8-.78.8-2.07 0-2.86zM5.41 20L4 18.59l7.72-7.72 1.47 1.35L5.41 20z\"/>\n",
              "  </svg>\n",
              "      </button>\n",
              "      \n",
              "  <style>\n",
              "    .colab-df-container {\n",
              "      display:flex;\n",
              "      flex-wrap:wrap;\n",
              "      gap: 12px;\n",
              "    }\n",
              "\n",
              "    .colab-df-convert {\n",
              "      background-color: #E8F0FE;\n",
              "      border: none;\n",
              "      border-radius: 50%;\n",
              "      cursor: pointer;\n",
              "      display: none;\n",
              "      fill: #1967D2;\n",
              "      height: 32px;\n",
              "      padding: 0 0 0 0;\n",
              "      width: 32px;\n",
              "    }\n",
              "\n",
              "    .colab-df-convert:hover {\n",
              "      background-color: #E2EBFA;\n",
              "      box-shadow: 0px 1px 2px rgba(60, 64, 67, 0.3), 0px 1px 3px 1px rgba(60, 64, 67, 0.15);\n",
              "      fill: #174EA6;\n",
              "    }\n",
              "\n",
              "    [theme=dark] .colab-df-convert {\n",
              "      background-color: #3B4455;\n",
              "      fill: #D2E3FC;\n",
              "    }\n",
              "\n",
              "    [theme=dark] .colab-df-convert:hover {\n",
              "      background-color: #434B5C;\n",
              "      box-shadow: 0px 1px 3px 1px rgba(0, 0, 0, 0.15);\n",
              "      filter: drop-shadow(0px 1px 2px rgba(0, 0, 0, 0.3));\n",
              "      fill: #FFFFFF;\n",
              "    }\n",
              "  </style>\n",
              "\n",
              "      <script>\n",
              "        const buttonEl =\n",
              "          document.querySelector('#df-ab0e9c5d-5c9d-46f7-9562-095e91acc302 button.colab-df-convert');\n",
              "        buttonEl.style.display =\n",
              "          google.colab.kernel.accessAllowed ? 'block' : 'none';\n",
              "\n",
              "        async function convertToInteractive(key) {\n",
              "          const element = document.querySelector('#df-ab0e9c5d-5c9d-46f7-9562-095e91acc302');\n",
              "          const dataTable =\n",
              "            await google.colab.kernel.invokeFunction('convertToInteractive',\n",
              "                                                     [key], {});\n",
              "          if (!dataTable) return;\n",
              "\n",
              "          const docLinkHtml = 'Like what you see? Visit the ' +\n",
              "            '<a target=\"_blank\" href=https://colab.research.google.com/notebooks/data_table.ipynb>data table notebook</a>'\n",
              "            + ' to learn more about interactive tables.';\n",
              "          element.innerHTML = '';\n",
              "          dataTable['output_type'] = 'display_data';\n",
              "          await google.colab.output.renderOutput(dataTable, element);\n",
              "          const docLink = document.createElement('div');\n",
              "          docLink.innerHTML = docLinkHtml;\n",
              "          element.appendChild(docLink);\n",
              "        }\n",
              "      </script>\n",
              "    </div>\n",
              "  </div>\n",
              "  "
            ]
          },
          "metadata": {},
          "execution_count": 12
        }
      ]
    },
    {
      "cell_type": "markdown",
      "source": [
        "Из тех книг, что попали в Топ-50 в 2015 году, какая книга самая дорогая (можно использовать промежуточный датафрейм)? Ответ: Publication Manual of the American Psychologic..."
      ],
      "metadata": {
        "id": "MZ9PoiEZw1YG"
      }
    },
    {
      "cell_type": "code",
      "source": [
        "df.query('genre == \"Fiction\" & year == 2010').shape[0]"
      ],
      "metadata": {
        "colab": {
          "base_uri": "https://localhost:8080/"
        },
        "id": "J8TgfELFxfO8",
        "outputId": "84f69b12-bfee-4991-f1ef-3f329d0f9658"
      },
      "execution_count": 13,
      "outputs": [
        {
          "output_type": "execute_result",
          "data": {
            "text/plain": [
              "20"
            ]
          },
          "metadata": {},
          "execution_count": 13
        }
      ]
    },
    {
      "cell_type": "markdown",
      "source": [
        "Сколько книг жанра Fiction попали в Топ-50 в 2010 году (используйте &)? Ответ: 20"
      ],
      "metadata": {
        "id": "wg9jYYMo_ixE"
      }
    },
    {
      "cell_type": "code",
      "source": [
        "df.query('user_rating == 4.9 & (year == 2010 | year == 2011)')"
      ],
      "metadata": {
        "colab": {
          "base_uri": "https://localhost:8080/",
          "height": 81
        },
        "id": "IxaLN6YaAgYk",
        "outputId": "1ed47cdc-7867-4fc9-cff3-1c26f9970e10"
      },
      "execution_count": 14,
      "outputs": [
        {
          "output_type": "execute_result",
          "data": {
            "text/plain": [
              "                                                  name       author  \\\n",
              "187  Jesus Calling: Enjoying Peace in His Presence ...  Sarah Young   \n",
              "\n",
              "     user_rating  reviews  price  year        genre  \n",
              "187          4.9    19576      8  2011  Non Fiction  "
            ],
            "text/html": [
              "\n",
              "  <div id=\"df-84b16b30-4496-4ead-9813-01a5044494ba\">\n",
              "    <div class=\"colab-df-container\">\n",
              "      <div>\n",
              "<style scoped>\n",
              "    .dataframe tbody tr th:only-of-type {\n",
              "        vertical-align: middle;\n",
              "    }\n",
              "\n",
              "    .dataframe tbody tr th {\n",
              "        vertical-align: top;\n",
              "    }\n",
              "\n",
              "    .dataframe thead th {\n",
              "        text-align: right;\n",
              "    }\n",
              "</style>\n",
              "<table border=\"1\" class=\"dataframe\">\n",
              "  <thead>\n",
              "    <tr style=\"text-align: right;\">\n",
              "      <th></th>\n",
              "      <th>name</th>\n",
              "      <th>author</th>\n",
              "      <th>user_rating</th>\n",
              "      <th>reviews</th>\n",
              "      <th>price</th>\n",
              "      <th>year</th>\n",
              "      <th>genre</th>\n",
              "    </tr>\n",
              "  </thead>\n",
              "  <tbody>\n",
              "    <tr>\n",
              "      <th>187</th>\n",
              "      <td>Jesus Calling: Enjoying Peace in His Presence ...</td>\n",
              "      <td>Sarah Young</td>\n",
              "      <td>4.9</td>\n",
              "      <td>19576</td>\n",
              "      <td>8</td>\n",
              "      <td>2011</td>\n",
              "      <td>Non Fiction</td>\n",
              "    </tr>\n",
              "  </tbody>\n",
              "</table>\n",
              "</div>\n",
              "      <button class=\"colab-df-convert\" onclick=\"convertToInteractive('df-84b16b30-4496-4ead-9813-01a5044494ba')\"\n",
              "              title=\"Convert this dataframe to an interactive table.\"\n",
              "              style=\"display:none;\">\n",
              "        \n",
              "  <svg xmlns=\"http://www.w3.org/2000/svg\" height=\"24px\"viewBox=\"0 0 24 24\"\n",
              "       width=\"24px\">\n",
              "    <path d=\"M0 0h24v24H0V0z\" fill=\"none\"/>\n",
              "    <path d=\"M18.56 5.44l.94 2.06.94-2.06 2.06-.94-2.06-.94-.94-2.06-.94 2.06-2.06.94zm-11 1L8.5 8.5l.94-2.06 2.06-.94-2.06-.94L8.5 2.5l-.94 2.06-2.06.94zm10 10l.94 2.06.94-2.06 2.06-.94-2.06-.94-.94-2.06-.94 2.06-2.06.94z\"/><path d=\"M17.41 7.96l-1.37-1.37c-.4-.4-.92-.59-1.43-.59-.52 0-1.04.2-1.43.59L10.3 9.45l-7.72 7.72c-.78.78-.78 2.05 0 2.83L4 21.41c.39.39.9.59 1.41.59.51 0 1.02-.2 1.41-.59l7.78-7.78 2.81-2.81c.8-.78.8-2.07 0-2.86zM5.41 20L4 18.59l7.72-7.72 1.47 1.35L5.41 20z\"/>\n",
              "  </svg>\n",
              "      </button>\n",
              "      \n",
              "  <style>\n",
              "    .colab-df-container {\n",
              "      display:flex;\n",
              "      flex-wrap:wrap;\n",
              "      gap: 12px;\n",
              "    }\n",
              "\n",
              "    .colab-df-convert {\n",
              "      background-color: #E8F0FE;\n",
              "      border: none;\n",
              "      border-radius: 50%;\n",
              "      cursor: pointer;\n",
              "      display: none;\n",
              "      fill: #1967D2;\n",
              "      height: 32px;\n",
              "      padding: 0 0 0 0;\n",
              "      width: 32px;\n",
              "    }\n",
              "\n",
              "    .colab-df-convert:hover {\n",
              "      background-color: #E2EBFA;\n",
              "      box-shadow: 0px 1px 2px rgba(60, 64, 67, 0.3), 0px 1px 3px 1px rgba(60, 64, 67, 0.15);\n",
              "      fill: #174EA6;\n",
              "    }\n",
              "\n",
              "    [theme=dark] .colab-df-convert {\n",
              "      background-color: #3B4455;\n",
              "      fill: #D2E3FC;\n",
              "    }\n",
              "\n",
              "    [theme=dark] .colab-df-convert:hover {\n",
              "      background-color: #434B5C;\n",
              "      box-shadow: 0px 1px 3px 1px rgba(0, 0, 0, 0.15);\n",
              "      filter: drop-shadow(0px 1px 2px rgba(0, 0, 0, 0.3));\n",
              "      fill: #FFFFFF;\n",
              "    }\n",
              "  </style>\n",
              "\n",
              "      <script>\n",
              "        const buttonEl =\n",
              "          document.querySelector('#df-84b16b30-4496-4ead-9813-01a5044494ba button.colab-df-convert');\n",
              "        buttonEl.style.display =\n",
              "          google.colab.kernel.accessAllowed ? 'block' : 'none';\n",
              "\n",
              "        async function convertToInteractive(key) {\n",
              "          const element = document.querySelector('#df-84b16b30-4496-4ead-9813-01a5044494ba');\n",
              "          const dataTable =\n",
              "            await google.colab.kernel.invokeFunction('convertToInteractive',\n",
              "                                                     [key], {});\n",
              "          if (!dataTable) return;\n",
              "\n",
              "          const docLinkHtml = 'Like what you see? Visit the ' +\n",
              "            '<a target=\"_blank\" href=https://colab.research.google.com/notebooks/data_table.ipynb>data table notebook</a>'\n",
              "            + ' to learn more about interactive tables.';\n",
              "          element.innerHTML = '';\n",
              "          dataTable['output_type'] = 'display_data';\n",
              "          await google.colab.output.renderOutput(dataTable, element);\n",
              "          const docLink = document.createElement('div');\n",
              "          docLink.innerHTML = docLinkHtml;\n",
              "          element.appendChild(docLink);\n",
              "        }\n",
              "      </script>\n",
              "    </div>\n",
              "  </div>\n",
              "  "
            ]
          },
          "metadata": {},
          "execution_count": 14
        }
      ]
    },
    {
      "cell_type": "markdown",
      "source": [
        "Сколько книг c рейтингом 4.9 попало в рейтинг в 2010 и 2011 годах (используйте | или функцию isin)? Ответ: 1"
      ],
      "metadata": {
        "id": "x_3iPAtIAoAU"
      }
    },
    {
      "cell_type": "code",
      "source": [
        "df.query('price < 8 & year == 2015').sort_values(by='price')"
      ],
      "metadata": {
        "colab": {
          "base_uri": "https://localhost:8080/",
          "height": 583
        },
        "id": "YM8hvA3FCQAf",
        "outputId": "9eeb7d65-1216-497b-e723-257c3a419c81"
      },
      "execution_count": 15,
      "outputs": [
        {
          "output_type": "execute_result",
          "data": {
            "text/plain": [
              "                                                  name              author  \\\n",
              "507                              To Kill a Mockingbird          Harper Lee   \n",
              "210                      Laugh-Out-Loud Jokes for Kids         Rob Elliott   \n",
              "206                         Knock-Knock Jokes for Kids         Rob Elliott   \n",
              "111                                    First 100 Words        Roger Priddy   \n",
              "123                               Giraffes Can't Dance       Giles Andreae   \n",
              "54   Creative Haven Creative Cats Coloring Book (Ad...     Marjorie Sarnat   \n",
              "63                      Dear Zoo: A Lift-the-Flap Book        Rod Campbell   \n",
              "89   Dover Creative Haven Art Nouveau Animal Design...         Marty Noble   \n",
              "478                        The Very Hungry Caterpillar          Eric Carle   \n",
              "201  Killing Reagan: The Violent Assault That Chang...       Bill O'Reilly   \n",
              "28                        Baby Touch and Feel: Animals                  DK   \n",
              "224                                   Love You Forever       Robert Munsch   \n",
              "55   Creative Haven Owls Coloring Book (Adult Color...     Marjorie Sarnat   \n",
              "17      Adult Coloring Book: Stress Relieving Patterns  Blue Star Coloring   \n",
              "376  The Four Agreements: A Practical Guide to Pers...     Don Miguel Ruiz   \n",
              "16   Adult Coloring Book: Stress Relieving Animal D...  Blue Star Coloring   \n",
              "253              Old School (Diary of a Wimpy Kid #10)         Jeff Kinney   \n",
              "\n",
              "     user_rating  reviews  price  year        genre  \n",
              "507          4.8    26234      0  2015      Fiction  \n",
              "210          4.6     6990      4  2015  Non Fiction  \n",
              "206          4.5     3673      4  2015  Non Fiction  \n",
              "111          4.7    17323      4  2015  Non Fiction  \n",
              "123          4.8    14038      4  2015      Fiction  \n",
              "54           4.8     4022      4  2015  Non Fiction  \n",
              "63           4.8    10922      5  2015      Fiction  \n",
              "89           4.6     2134      5  2015  Non Fiction  \n",
              "478          4.9    19546      5  2015      Fiction  \n",
              "201          4.6     5235      5  2015  Non Fiction  \n",
              "28           4.6     5360      5  2015  Non Fiction  \n",
              "224          4.8    18613      5  2015      Fiction  \n",
              "55           4.8     3871      5  2015  Non Fiction  \n",
              "17           4.4     2951      6  2015  Non Fiction  \n",
              "376          4.7    23308      6  2015  Non Fiction  \n",
              "16           4.6     2925      6  2015  Non Fiction  \n",
              "253          4.8     6169      7  2015      Fiction  "
            ],
            "text/html": [
              "\n",
              "  <div id=\"df-69ab8ac7-737c-4878-8181-8cd38cc379e9\">\n",
              "    <div class=\"colab-df-container\">\n",
              "      <div>\n",
              "<style scoped>\n",
              "    .dataframe tbody tr th:only-of-type {\n",
              "        vertical-align: middle;\n",
              "    }\n",
              "\n",
              "    .dataframe tbody tr th {\n",
              "        vertical-align: top;\n",
              "    }\n",
              "\n",
              "    .dataframe thead th {\n",
              "        text-align: right;\n",
              "    }\n",
              "</style>\n",
              "<table border=\"1\" class=\"dataframe\">\n",
              "  <thead>\n",
              "    <tr style=\"text-align: right;\">\n",
              "      <th></th>\n",
              "      <th>name</th>\n",
              "      <th>author</th>\n",
              "      <th>user_rating</th>\n",
              "      <th>reviews</th>\n",
              "      <th>price</th>\n",
              "      <th>year</th>\n",
              "      <th>genre</th>\n",
              "    </tr>\n",
              "  </thead>\n",
              "  <tbody>\n",
              "    <tr>\n",
              "      <th>507</th>\n",
              "      <td>To Kill a Mockingbird</td>\n",
              "      <td>Harper Lee</td>\n",
              "      <td>4.8</td>\n",
              "      <td>26234</td>\n",
              "      <td>0</td>\n",
              "      <td>2015</td>\n",
              "      <td>Fiction</td>\n",
              "    </tr>\n",
              "    <tr>\n",
              "      <th>210</th>\n",
              "      <td>Laugh-Out-Loud Jokes for Kids</td>\n",
              "      <td>Rob Elliott</td>\n",
              "      <td>4.6</td>\n",
              "      <td>6990</td>\n",
              "      <td>4</td>\n",
              "      <td>2015</td>\n",
              "      <td>Non Fiction</td>\n",
              "    </tr>\n",
              "    <tr>\n",
              "      <th>206</th>\n",
              "      <td>Knock-Knock Jokes for Kids</td>\n",
              "      <td>Rob Elliott</td>\n",
              "      <td>4.5</td>\n",
              "      <td>3673</td>\n",
              "      <td>4</td>\n",
              "      <td>2015</td>\n",
              "      <td>Non Fiction</td>\n",
              "    </tr>\n",
              "    <tr>\n",
              "      <th>111</th>\n",
              "      <td>First 100 Words</td>\n",
              "      <td>Roger Priddy</td>\n",
              "      <td>4.7</td>\n",
              "      <td>17323</td>\n",
              "      <td>4</td>\n",
              "      <td>2015</td>\n",
              "      <td>Non Fiction</td>\n",
              "    </tr>\n",
              "    <tr>\n",
              "      <th>123</th>\n",
              "      <td>Giraffes Can't Dance</td>\n",
              "      <td>Giles Andreae</td>\n",
              "      <td>4.8</td>\n",
              "      <td>14038</td>\n",
              "      <td>4</td>\n",
              "      <td>2015</td>\n",
              "      <td>Fiction</td>\n",
              "    </tr>\n",
              "    <tr>\n",
              "      <th>54</th>\n",
              "      <td>Creative Haven Creative Cats Coloring Book (Ad...</td>\n",
              "      <td>Marjorie Sarnat</td>\n",
              "      <td>4.8</td>\n",
              "      <td>4022</td>\n",
              "      <td>4</td>\n",
              "      <td>2015</td>\n",
              "      <td>Non Fiction</td>\n",
              "    </tr>\n",
              "    <tr>\n",
              "      <th>63</th>\n",
              "      <td>Dear Zoo: A Lift-the-Flap Book</td>\n",
              "      <td>Rod Campbell</td>\n",
              "      <td>4.8</td>\n",
              "      <td>10922</td>\n",
              "      <td>5</td>\n",
              "      <td>2015</td>\n",
              "      <td>Fiction</td>\n",
              "    </tr>\n",
              "    <tr>\n",
              "      <th>89</th>\n",
              "      <td>Dover Creative Haven Art Nouveau Animal Design...</td>\n",
              "      <td>Marty Noble</td>\n",
              "      <td>4.6</td>\n",
              "      <td>2134</td>\n",
              "      <td>5</td>\n",
              "      <td>2015</td>\n",
              "      <td>Non Fiction</td>\n",
              "    </tr>\n",
              "    <tr>\n",
              "      <th>478</th>\n",
              "      <td>The Very Hungry Caterpillar</td>\n",
              "      <td>Eric Carle</td>\n",
              "      <td>4.9</td>\n",
              "      <td>19546</td>\n",
              "      <td>5</td>\n",
              "      <td>2015</td>\n",
              "      <td>Fiction</td>\n",
              "    </tr>\n",
              "    <tr>\n",
              "      <th>201</th>\n",
              "      <td>Killing Reagan: The Violent Assault That Chang...</td>\n",
              "      <td>Bill O'Reilly</td>\n",
              "      <td>4.6</td>\n",
              "      <td>5235</td>\n",
              "      <td>5</td>\n",
              "      <td>2015</td>\n",
              "      <td>Non Fiction</td>\n",
              "    </tr>\n",
              "    <tr>\n",
              "      <th>28</th>\n",
              "      <td>Baby Touch and Feel: Animals</td>\n",
              "      <td>DK</td>\n",
              "      <td>4.6</td>\n",
              "      <td>5360</td>\n",
              "      <td>5</td>\n",
              "      <td>2015</td>\n",
              "      <td>Non Fiction</td>\n",
              "    </tr>\n",
              "    <tr>\n",
              "      <th>224</th>\n",
              "      <td>Love You Forever</td>\n",
              "      <td>Robert Munsch</td>\n",
              "      <td>4.8</td>\n",
              "      <td>18613</td>\n",
              "      <td>5</td>\n",
              "      <td>2015</td>\n",
              "      <td>Fiction</td>\n",
              "    </tr>\n",
              "    <tr>\n",
              "      <th>55</th>\n",
              "      <td>Creative Haven Owls Coloring Book (Adult Color...</td>\n",
              "      <td>Marjorie Sarnat</td>\n",
              "      <td>4.8</td>\n",
              "      <td>3871</td>\n",
              "      <td>5</td>\n",
              "      <td>2015</td>\n",
              "      <td>Non Fiction</td>\n",
              "    </tr>\n",
              "    <tr>\n",
              "      <th>17</th>\n",
              "      <td>Adult Coloring Book: Stress Relieving Patterns</td>\n",
              "      <td>Blue Star Coloring</td>\n",
              "      <td>4.4</td>\n",
              "      <td>2951</td>\n",
              "      <td>6</td>\n",
              "      <td>2015</td>\n",
              "      <td>Non Fiction</td>\n",
              "    </tr>\n",
              "    <tr>\n",
              "      <th>376</th>\n",
              "      <td>The Four Agreements: A Practical Guide to Pers...</td>\n",
              "      <td>Don Miguel Ruiz</td>\n",
              "      <td>4.7</td>\n",
              "      <td>23308</td>\n",
              "      <td>6</td>\n",
              "      <td>2015</td>\n",
              "      <td>Non Fiction</td>\n",
              "    </tr>\n",
              "    <tr>\n",
              "      <th>16</th>\n",
              "      <td>Adult Coloring Book: Stress Relieving Animal D...</td>\n",
              "      <td>Blue Star Coloring</td>\n",
              "      <td>4.6</td>\n",
              "      <td>2925</td>\n",
              "      <td>6</td>\n",
              "      <td>2015</td>\n",
              "      <td>Non Fiction</td>\n",
              "    </tr>\n",
              "    <tr>\n",
              "      <th>253</th>\n",
              "      <td>Old School (Diary of a Wimpy Kid #10)</td>\n",
              "      <td>Jeff Kinney</td>\n",
              "      <td>4.8</td>\n",
              "      <td>6169</td>\n",
              "      <td>7</td>\n",
              "      <td>2015</td>\n",
              "      <td>Fiction</td>\n",
              "    </tr>\n",
              "  </tbody>\n",
              "</table>\n",
              "</div>\n",
              "      <button class=\"colab-df-convert\" onclick=\"convertToInteractive('df-69ab8ac7-737c-4878-8181-8cd38cc379e9')\"\n",
              "              title=\"Convert this dataframe to an interactive table.\"\n",
              "              style=\"display:none;\">\n",
              "        \n",
              "  <svg xmlns=\"http://www.w3.org/2000/svg\" height=\"24px\"viewBox=\"0 0 24 24\"\n",
              "       width=\"24px\">\n",
              "    <path d=\"M0 0h24v24H0V0z\" fill=\"none\"/>\n",
              "    <path d=\"M18.56 5.44l.94 2.06.94-2.06 2.06-.94-2.06-.94-.94-2.06-.94 2.06-2.06.94zm-11 1L8.5 8.5l.94-2.06 2.06-.94-2.06-.94L8.5 2.5l-.94 2.06-2.06.94zm10 10l.94 2.06.94-2.06 2.06-.94-2.06-.94-.94-2.06-.94 2.06-2.06.94z\"/><path d=\"M17.41 7.96l-1.37-1.37c-.4-.4-.92-.59-1.43-.59-.52 0-1.04.2-1.43.59L10.3 9.45l-7.72 7.72c-.78.78-.78 2.05 0 2.83L4 21.41c.39.39.9.59 1.41.59.51 0 1.02-.2 1.41-.59l7.78-7.78 2.81-2.81c.8-.78.8-2.07 0-2.86zM5.41 20L4 18.59l7.72-7.72 1.47 1.35L5.41 20z\"/>\n",
              "  </svg>\n",
              "      </button>\n",
              "      \n",
              "  <style>\n",
              "    .colab-df-container {\n",
              "      display:flex;\n",
              "      flex-wrap:wrap;\n",
              "      gap: 12px;\n",
              "    }\n",
              "\n",
              "    .colab-df-convert {\n",
              "      background-color: #E8F0FE;\n",
              "      border: none;\n",
              "      border-radius: 50%;\n",
              "      cursor: pointer;\n",
              "      display: none;\n",
              "      fill: #1967D2;\n",
              "      height: 32px;\n",
              "      padding: 0 0 0 0;\n",
              "      width: 32px;\n",
              "    }\n",
              "\n",
              "    .colab-df-convert:hover {\n",
              "      background-color: #E2EBFA;\n",
              "      box-shadow: 0px 1px 2px rgba(60, 64, 67, 0.3), 0px 1px 3px 1px rgba(60, 64, 67, 0.15);\n",
              "      fill: #174EA6;\n",
              "    }\n",
              "\n",
              "    [theme=dark] .colab-df-convert {\n",
              "      background-color: #3B4455;\n",
              "      fill: #D2E3FC;\n",
              "    }\n",
              "\n",
              "    [theme=dark] .colab-df-convert:hover {\n",
              "      background-color: #434B5C;\n",
              "      box-shadow: 0px 1px 3px 1px rgba(0, 0, 0, 0.15);\n",
              "      filter: drop-shadow(0px 1px 2px rgba(0, 0, 0, 0.3));\n",
              "      fill: #FFFFFF;\n",
              "    }\n",
              "  </style>\n",
              "\n",
              "      <script>\n",
              "        const buttonEl =\n",
              "          document.querySelector('#df-69ab8ac7-737c-4878-8181-8cd38cc379e9 button.colab-df-convert');\n",
              "        buttonEl.style.display =\n",
              "          google.colab.kernel.accessAllowed ? 'block' : 'none';\n",
              "\n",
              "        async function convertToInteractive(key) {\n",
              "          const element = document.querySelector('#df-69ab8ac7-737c-4878-8181-8cd38cc379e9');\n",
              "          const dataTable =\n",
              "            await google.colab.kernel.invokeFunction('convertToInteractive',\n",
              "                                                     [key], {});\n",
              "          if (!dataTable) return;\n",
              "\n",
              "          const docLinkHtml = 'Like what you see? Visit the ' +\n",
              "            '<a target=\"_blank\" href=https://colab.research.google.com/notebooks/data_table.ipynb>data table notebook</a>'\n",
              "            + ' to learn more about interactive tables.';\n",
              "          element.innerHTML = '';\n",
              "          dataTable['output_type'] = 'display_data';\n",
              "          await google.colab.output.renderOutput(dataTable, element);\n",
              "          const docLink = document.createElement('div');\n",
              "          docLink.innerHTML = docLinkHtml;\n",
              "          element.appendChild(docLink);\n",
              "        }\n",
              "      </script>\n",
              "    </div>\n",
              "  </div>\n",
              "  "
            ]
          },
          "metadata": {},
          "execution_count": 15
        }
      ]
    },
    {
      "cell_type": "markdown",
      "source": [
        "Какая книга последняя в отсортированном списке? Ответ: Old School (Diary of a Wimpy Kid #10) \t"
      ],
      "metadata": {
        "id": "MkG7CIGpH2c3"
      }
    },
    {
      "cell_type": "markdown",
      "source": [
        "# Агрегирование данных и соединения таблиц"
      ],
      "metadata": {
        "id": "8dlPOfttIp81"
      }
    },
    {
      "cell_type": "code",
      "source": [
        "df.groupby('genre').price.agg(['min', 'max'])"
      ],
      "metadata": {
        "colab": {
          "base_uri": "https://localhost:8080/",
          "height": 143
        },
        "id": "B_jQeOQLIrvE",
        "outputId": "7eba7def-1bd8-4eeb-c942-f184d537495f"
      },
      "execution_count": 16,
      "outputs": [
        {
          "output_type": "execute_result",
          "data": {
            "text/plain": [
              "             min  max\n",
              "genre                \n",
              "Fiction        0   82\n",
              "Non Fiction    0  105"
            ],
            "text/html": [
              "\n",
              "  <div id=\"df-03f61e36-3c69-4b9a-9f02-fb52b05a25b7\">\n",
              "    <div class=\"colab-df-container\">\n",
              "      <div>\n",
              "<style scoped>\n",
              "    .dataframe tbody tr th:only-of-type {\n",
              "        vertical-align: middle;\n",
              "    }\n",
              "\n",
              "    .dataframe tbody tr th {\n",
              "        vertical-align: top;\n",
              "    }\n",
              "\n",
              "    .dataframe thead th {\n",
              "        text-align: right;\n",
              "    }\n",
              "</style>\n",
              "<table border=\"1\" class=\"dataframe\">\n",
              "  <thead>\n",
              "    <tr style=\"text-align: right;\">\n",
              "      <th></th>\n",
              "      <th>min</th>\n",
              "      <th>max</th>\n",
              "    </tr>\n",
              "    <tr>\n",
              "      <th>genre</th>\n",
              "      <th></th>\n",
              "      <th></th>\n",
              "    </tr>\n",
              "  </thead>\n",
              "  <tbody>\n",
              "    <tr>\n",
              "      <th>Fiction</th>\n",
              "      <td>0</td>\n",
              "      <td>82</td>\n",
              "    </tr>\n",
              "    <tr>\n",
              "      <th>Non Fiction</th>\n",
              "      <td>0</td>\n",
              "      <td>105</td>\n",
              "    </tr>\n",
              "  </tbody>\n",
              "</table>\n",
              "</div>\n",
              "      <button class=\"colab-df-convert\" onclick=\"convertToInteractive('df-03f61e36-3c69-4b9a-9f02-fb52b05a25b7')\"\n",
              "              title=\"Convert this dataframe to an interactive table.\"\n",
              "              style=\"display:none;\">\n",
              "        \n",
              "  <svg xmlns=\"http://www.w3.org/2000/svg\" height=\"24px\"viewBox=\"0 0 24 24\"\n",
              "       width=\"24px\">\n",
              "    <path d=\"M0 0h24v24H0V0z\" fill=\"none\"/>\n",
              "    <path d=\"M18.56 5.44l.94 2.06.94-2.06 2.06-.94-2.06-.94-.94-2.06-.94 2.06-2.06.94zm-11 1L8.5 8.5l.94-2.06 2.06-.94-2.06-.94L8.5 2.5l-.94 2.06-2.06.94zm10 10l.94 2.06.94-2.06 2.06-.94-2.06-.94-.94-2.06-.94 2.06-2.06.94z\"/><path d=\"M17.41 7.96l-1.37-1.37c-.4-.4-.92-.59-1.43-.59-.52 0-1.04.2-1.43.59L10.3 9.45l-7.72 7.72c-.78.78-.78 2.05 0 2.83L4 21.41c.39.39.9.59 1.41.59.51 0 1.02-.2 1.41-.59l7.78-7.78 2.81-2.81c.8-.78.8-2.07 0-2.86zM5.41 20L4 18.59l7.72-7.72 1.47 1.35L5.41 20z\"/>\n",
              "  </svg>\n",
              "      </button>\n",
              "      \n",
              "  <style>\n",
              "    .colab-df-container {\n",
              "      display:flex;\n",
              "      flex-wrap:wrap;\n",
              "      gap: 12px;\n",
              "    }\n",
              "\n",
              "    .colab-df-convert {\n",
              "      background-color: #E8F0FE;\n",
              "      border: none;\n",
              "      border-radius: 50%;\n",
              "      cursor: pointer;\n",
              "      display: none;\n",
              "      fill: #1967D2;\n",
              "      height: 32px;\n",
              "      padding: 0 0 0 0;\n",
              "      width: 32px;\n",
              "    }\n",
              "\n",
              "    .colab-df-convert:hover {\n",
              "      background-color: #E2EBFA;\n",
              "      box-shadow: 0px 1px 2px rgba(60, 64, 67, 0.3), 0px 1px 3px 1px rgba(60, 64, 67, 0.15);\n",
              "      fill: #174EA6;\n",
              "    }\n",
              "\n",
              "    [theme=dark] .colab-df-convert {\n",
              "      background-color: #3B4455;\n",
              "      fill: #D2E3FC;\n",
              "    }\n",
              "\n",
              "    [theme=dark] .colab-df-convert:hover {\n",
              "      background-color: #434B5C;\n",
              "      box-shadow: 0px 1px 3px 1px rgba(0, 0, 0, 0.15);\n",
              "      filter: drop-shadow(0px 1px 2px rgba(0, 0, 0, 0.3));\n",
              "      fill: #FFFFFF;\n",
              "    }\n",
              "  </style>\n",
              "\n",
              "      <script>\n",
              "        const buttonEl =\n",
              "          document.querySelector('#df-03f61e36-3c69-4b9a-9f02-fb52b05a25b7 button.colab-df-convert');\n",
              "        buttonEl.style.display =\n",
              "          google.colab.kernel.accessAllowed ? 'block' : 'none';\n",
              "\n",
              "        async function convertToInteractive(key) {\n",
              "          const element = document.querySelector('#df-03f61e36-3c69-4b9a-9f02-fb52b05a25b7');\n",
              "          const dataTable =\n",
              "            await google.colab.kernel.invokeFunction('convertToInteractive',\n",
              "                                                     [key], {});\n",
              "          if (!dataTable) return;\n",
              "\n",
              "          const docLinkHtml = 'Like what you see? Visit the ' +\n",
              "            '<a target=\"_blank\" href=https://colab.research.google.com/notebooks/data_table.ipynb>data table notebook</a>'\n",
              "            + ' to learn more about interactive tables.';\n",
              "          element.innerHTML = '';\n",
              "          dataTable['output_type'] = 'display_data';\n",
              "          await google.colab.output.renderOutput(dataTable, element);\n",
              "          const docLink = document.createElement('div');\n",
              "          docLink.innerHTML = docLinkHtml;\n",
              "          element.appendChild(docLink);\n",
              "        }\n",
              "      </script>\n",
              "    </div>\n",
              "  </div>\n",
              "  "
            ]
          },
          "metadata": {},
          "execution_count": 16
        }
      ]
    },
    {
      "cell_type": "markdown",
      "source": [
        "Максимальная цена для жанра Fiction: Ответ: 82"
      ],
      "metadata": {
        "id": "QUVAJ8h2REAY"
      }
    },
    {
      "cell_type": "markdown",
      "source": [
        "Минимальная цена для жанра Fiction: Ответ 0"
      ],
      "metadata": {
        "id": "itv-P1mwRGu3"
      }
    },
    {
      "cell_type": "markdown",
      "source": [
        "Максимальная цена для жанра Non Fiction: Ответ: 105"
      ],
      "metadata": {
        "id": "PWasDBJURPdO"
      }
    },
    {
      "cell_type": "markdown",
      "source": [
        "Минимальная цена для жанра Non Fiction: Ответ: 0"
      ],
      "metadata": {
        "id": "0KtGjEH7RTK2"
      }
    },
    {
      "cell_type": "code",
      "source": [
        "s = df.loc[~df.duplicated(subset=['name'])] \\\n",
        ".groupby(['author'])['name'].agg(['count']) \\\n",
        ".sort_values('count')['count']\n",
        "df_count_book = pd.DataFrame(s, columns=[\"count\"])\n",
        "print(df_count_book.shape)\n",
        "print(df_count_book)"
      ],
      "metadata": {
        "colab": {
          "base_uri": "https://localhost:8080/"
        },
        "id": "GgizX9stRV1Q",
        "outputId": "ee4dfe58-666a-48b0-eb20-2be9db750e2f"
      },
      "execution_count": 17,
      "outputs": [
        {
          "output_type": "stream",
          "name": "stdout",
          "text": [
            "(248, 1)\n",
            "                     count\n",
            "author                    \n",
            "Abraham Verghese         1\n",
            "M Prefontaine            1\n",
            "Madeleine L'Engle        1\n",
            "Margaret Atwood          1\n",
            "Margaret Wise Brown      1\n",
            "...                    ...\n",
            "Bill O'Reilly            6\n",
            "Dav Pilkey               6\n",
            "Stephenie Meyer          7\n",
            "Rick Riordan            10\n",
            "Jeff Kinney             12\n",
            "\n",
            "[248 rows x 1 columns]\n"
          ]
        }
      ]
    },
    {
      "cell_type": "markdown",
      "source": [
        "Какой размерности вышла таблица? Ответ: 248 x 2"
      ],
      "metadata": {
        "id": "Hpdm3_NtzLls"
      }
    },
    {
      "cell_type": "markdown",
      "source": [
        "У какого автора больше всего книг? Ответ: Jeff Kinney"
      ],
      "metadata": {
        "id": "Y-AzIp5uzTRi"
      }
    },
    {
      "cell_type": "markdown",
      "source": [
        "Сколько книг у этого автора? Ответ: 12"
      ],
      "metadata": {
        "id": "e6wahfJ3zaBs"
      }
    },
    {
      "cell_type": "markdown",
      "source": [],
      "metadata": {
        "id": "5wMXBIp7RKL-"
      }
    },
    {
      "cell_type": "code",
      "source": [
        "s = df.loc[~df.duplicated(subset=['name'])] \\\n",
        ".groupby(['author'])['user_rating'].agg(['mean']) \\\n",
        ".sort_values('mean')['mean']\n",
        "df_mean_rating = pd.DataFrame(s, columns=[\"mean\"])\n",
        "print(df_mean_rating.shape)\n",
        "print(df_mean_rating)"
      ],
      "metadata": {
        "colab": {
          "base_uri": "https://localhost:8080/"
        },
        "id": "oSb2yKdPuiMa",
        "outputId": "b9629244-5b88-4c6d-874a-c5d4477cd315"
      },
      "execution_count": 18,
      "outputs": [
        {
          "output_type": "stream",
          "name": "stdout",
          "text": [
            "(248, 1)\n",
            "                      mean\n",
            "author                    \n",
            "Donna Tartt            3.9\n",
            "Muriel Barbery         4.0\n",
            "Gillian Flynn          4.0\n",
            "Gallup                 4.0\n",
            "Ian K. Smith M.D.      4.1\n",
            "...                    ...\n",
            "Sherri Duskey Rinker   4.9\n",
            "Bill Martin Jr.        4.9\n",
            "Dav Pilkey             4.9\n",
            "Patrick Thorpe         4.9\n",
            "Jill Twiss             4.9\n",
            "\n",
            "[248 rows x 1 columns]\n"
          ]
        }
      ]
    },
    {
      "cell_type": "markdown",
      "source": [
        "У какого автора средний рейтинг минимальный? Ответ: Donna Tartt"
      ],
      "metadata": {
        "id": "2nnPQ7Je0qUZ"
      }
    },
    {
      "cell_type": "markdown",
      "source": [
        "Какой у этого автора средний рейтинг? Ответ: 3.9"
      ],
      "metadata": {
        "id": "YhrX18QW0uni"
      }
    },
    {
      "cell_type": "code",
      "source": [
        "df_concat = pd.concat([df_count_book, df_mean_rating], axis=1)\n",
        "df_concat.sort_values(by=['count', 'mean'])\n",
        "# print(df_concat)"
      ],
      "metadata": {
        "colab": {
          "base_uri": "https://localhost:8080/",
          "height": 455
        },
        "id": "unyOEWX01U5Y",
        "outputId": "0a4925b3-6fb9-43b7-9047-67028910c924"
      },
      "execution_count": 19,
      "outputs": [
        {
          "output_type": "execute_result",
          "data": {
            "text/plain": [
              "                 count      mean\n",
              "author                          \n",
              "Donna Tartt          1  3.900000\n",
              "Muriel Barbery       1  4.000000\n",
              "Gillian Flynn        1  4.000000\n",
              "Gallup               1  4.000000\n",
              "Paula Hawkins        1  4.100000\n",
              "...                ...       ...\n",
              "Bill O'Reilly        6  4.633333\n",
              "Dav Pilkey           6  4.900000\n",
              "Stephenie Meyer      7  4.657143\n",
              "Rick Riordan        10  4.770000\n",
              "Jeff Kinney         12  4.800000\n",
              "\n",
              "[248 rows x 2 columns]"
            ],
            "text/html": [
              "\n",
              "  <div id=\"df-0e851e6f-90ba-4468-b17a-d677c4e45a7a\">\n",
              "    <div class=\"colab-df-container\">\n",
              "      <div>\n",
              "<style scoped>\n",
              "    .dataframe tbody tr th:only-of-type {\n",
              "        vertical-align: middle;\n",
              "    }\n",
              "\n",
              "    .dataframe tbody tr th {\n",
              "        vertical-align: top;\n",
              "    }\n",
              "\n",
              "    .dataframe thead th {\n",
              "        text-align: right;\n",
              "    }\n",
              "</style>\n",
              "<table border=\"1\" class=\"dataframe\">\n",
              "  <thead>\n",
              "    <tr style=\"text-align: right;\">\n",
              "      <th></th>\n",
              "      <th>count</th>\n",
              "      <th>mean</th>\n",
              "    </tr>\n",
              "    <tr>\n",
              "      <th>author</th>\n",
              "      <th></th>\n",
              "      <th></th>\n",
              "    </tr>\n",
              "  </thead>\n",
              "  <tbody>\n",
              "    <tr>\n",
              "      <th>Donna Tartt</th>\n",
              "      <td>1</td>\n",
              "      <td>3.900000</td>\n",
              "    </tr>\n",
              "    <tr>\n",
              "      <th>Muriel Barbery</th>\n",
              "      <td>1</td>\n",
              "      <td>4.000000</td>\n",
              "    </tr>\n",
              "    <tr>\n",
              "      <th>Gillian Flynn</th>\n",
              "      <td>1</td>\n",
              "      <td>4.000000</td>\n",
              "    </tr>\n",
              "    <tr>\n",
              "      <th>Gallup</th>\n",
              "      <td>1</td>\n",
              "      <td>4.000000</td>\n",
              "    </tr>\n",
              "    <tr>\n",
              "      <th>Paula Hawkins</th>\n",
              "      <td>1</td>\n",
              "      <td>4.100000</td>\n",
              "    </tr>\n",
              "    <tr>\n",
              "      <th>...</th>\n",
              "      <td>...</td>\n",
              "      <td>...</td>\n",
              "    </tr>\n",
              "    <tr>\n",
              "      <th>Bill O'Reilly</th>\n",
              "      <td>6</td>\n",
              "      <td>4.633333</td>\n",
              "    </tr>\n",
              "    <tr>\n",
              "      <th>Dav Pilkey</th>\n",
              "      <td>6</td>\n",
              "      <td>4.900000</td>\n",
              "    </tr>\n",
              "    <tr>\n",
              "      <th>Stephenie Meyer</th>\n",
              "      <td>7</td>\n",
              "      <td>4.657143</td>\n",
              "    </tr>\n",
              "    <tr>\n",
              "      <th>Rick Riordan</th>\n",
              "      <td>10</td>\n",
              "      <td>4.770000</td>\n",
              "    </tr>\n",
              "    <tr>\n",
              "      <th>Jeff Kinney</th>\n",
              "      <td>12</td>\n",
              "      <td>4.800000</td>\n",
              "    </tr>\n",
              "  </tbody>\n",
              "</table>\n",
              "<p>248 rows × 2 columns</p>\n",
              "</div>\n",
              "      <button class=\"colab-df-convert\" onclick=\"convertToInteractive('df-0e851e6f-90ba-4468-b17a-d677c4e45a7a')\"\n",
              "              title=\"Convert this dataframe to an interactive table.\"\n",
              "              style=\"display:none;\">\n",
              "        \n",
              "  <svg xmlns=\"http://www.w3.org/2000/svg\" height=\"24px\"viewBox=\"0 0 24 24\"\n",
              "       width=\"24px\">\n",
              "    <path d=\"M0 0h24v24H0V0z\" fill=\"none\"/>\n",
              "    <path d=\"M18.56 5.44l.94 2.06.94-2.06 2.06-.94-2.06-.94-.94-2.06-.94 2.06-2.06.94zm-11 1L8.5 8.5l.94-2.06 2.06-.94-2.06-.94L8.5 2.5l-.94 2.06-2.06.94zm10 10l.94 2.06.94-2.06 2.06-.94-2.06-.94-.94-2.06-.94 2.06-2.06.94z\"/><path d=\"M17.41 7.96l-1.37-1.37c-.4-.4-.92-.59-1.43-.59-.52 0-1.04.2-1.43.59L10.3 9.45l-7.72 7.72c-.78.78-.78 2.05 0 2.83L4 21.41c.39.39.9.59 1.41.59.51 0 1.02-.2 1.41-.59l7.78-7.78 2.81-2.81c.8-.78.8-2.07 0-2.86zM5.41 20L4 18.59l7.72-7.72 1.47 1.35L5.41 20z\"/>\n",
              "  </svg>\n",
              "      </button>\n",
              "      \n",
              "  <style>\n",
              "    .colab-df-container {\n",
              "      display:flex;\n",
              "      flex-wrap:wrap;\n",
              "      gap: 12px;\n",
              "    }\n",
              "\n",
              "    .colab-df-convert {\n",
              "      background-color: #E8F0FE;\n",
              "      border: none;\n",
              "      border-radius: 50%;\n",
              "      cursor: pointer;\n",
              "      display: none;\n",
              "      fill: #1967D2;\n",
              "      height: 32px;\n",
              "      padding: 0 0 0 0;\n",
              "      width: 32px;\n",
              "    }\n",
              "\n",
              "    .colab-df-convert:hover {\n",
              "      background-color: #E2EBFA;\n",
              "      box-shadow: 0px 1px 2px rgba(60, 64, 67, 0.3), 0px 1px 3px 1px rgba(60, 64, 67, 0.15);\n",
              "      fill: #174EA6;\n",
              "    }\n",
              "\n",
              "    [theme=dark] .colab-df-convert {\n",
              "      background-color: #3B4455;\n",
              "      fill: #D2E3FC;\n",
              "    }\n",
              "\n",
              "    [theme=dark] .colab-df-convert:hover {\n",
              "      background-color: #434B5C;\n",
              "      box-shadow: 0px 1px 3px 1px rgba(0, 0, 0, 0.15);\n",
              "      filter: drop-shadow(0px 1px 2px rgba(0, 0, 0, 0.3));\n",
              "      fill: #FFFFFF;\n",
              "    }\n",
              "  </style>\n",
              "\n",
              "      <script>\n",
              "        const buttonEl =\n",
              "          document.querySelector('#df-0e851e6f-90ba-4468-b17a-d677c4e45a7a button.colab-df-convert');\n",
              "        buttonEl.style.display =\n",
              "          google.colab.kernel.accessAllowed ? 'block' : 'none';\n",
              "\n",
              "        async function convertToInteractive(key) {\n",
              "          const element = document.querySelector('#df-0e851e6f-90ba-4468-b17a-d677c4e45a7a');\n",
              "          const dataTable =\n",
              "            await google.colab.kernel.invokeFunction('convertToInteractive',\n",
              "                                                     [key], {});\n",
              "          if (!dataTable) return;\n",
              "\n",
              "          const docLinkHtml = 'Like what you see? Visit the ' +\n",
              "            '<a target=\"_blank\" href=https://colab.research.google.com/notebooks/data_table.ipynb>data table notebook</a>'\n",
              "            + ' to learn more about interactive tables.';\n",
              "          element.innerHTML = '';\n",
              "          dataTable['output_type'] = 'display_data';\n",
              "          await google.colab.output.renderOutput(dataTable, element);\n",
              "          const docLink = document.createElement('div');\n",
              "          docLink.innerHTML = docLinkHtml;\n",
              "          element.appendChild(docLink);\n",
              "        }\n",
              "      </script>\n",
              "    </div>\n",
              "  </div>\n",
              "  "
            ]
          },
          "metadata": {},
          "execution_count": 19
        }
      ]
    },
    {
      "cell_type": "markdown",
      "source": [
        "Какой автор первый в списке? Ответ: Donna Tartt"
      ],
      "metadata": {
        "id": "ff9TfW5fS_zu"
      }
    },
    {
      "cell_type": "markdown",
      "source": [
        "# Визуализация данных"
      ],
      "metadata": {
        "id": "rLH9FuYe6SHq"
      }
    },
    {
      "cell_type": "code",
      "source": [
        "import seaborn as sns"
      ],
      "metadata": {
        "id": "b6hnlzgN7_6v"
      },
      "execution_count": 20,
      "outputs": []
    },
    {
      "cell_type": "code",
      "source": [
        "df.head(5)"
      ],
      "metadata": {
        "colab": {
          "base_uri": "https://localhost:8080/",
          "height": 206
        },
        "id": "pyAAunba8VT2",
        "outputId": "f18c8f53-0632-439c-d90e-e031fd6c58a5"
      },
      "execution_count": 21,
      "outputs": [
        {
          "output_type": "execute_result",
          "data": {
            "text/plain": [
              "                                                name  \\\n",
              "0                      10-Day Green Smoothie Cleanse   \n",
              "1                                  11/22/63: A Novel   \n",
              "2            12 Rules for Life: An Antidote to Chaos   \n",
              "3                             1984 (Signet Classics)   \n",
              "4  5,000 Awesome Facts (About Everything!) (Natio...   \n",
              "\n",
              "                     author  user_rating  reviews  price  year        genre  \n",
              "0                  JJ Smith          4.7    17350      8  2016  Non Fiction  \n",
              "1              Stephen King          4.6     2052     22  2011      Fiction  \n",
              "2        Jordan B. Peterson          4.7    18979     15  2018  Non Fiction  \n",
              "3             George Orwell          4.7    21424      6  2017      Fiction  \n",
              "4  National Geographic Kids          4.8     7665     12  2019  Non Fiction  "
            ],
            "text/html": [
              "\n",
              "  <div id=\"df-4eeb6fe3-30a3-41b5-83dd-b14dd38d0d00\">\n",
              "    <div class=\"colab-df-container\">\n",
              "      <div>\n",
              "<style scoped>\n",
              "    .dataframe tbody tr th:only-of-type {\n",
              "        vertical-align: middle;\n",
              "    }\n",
              "\n",
              "    .dataframe tbody tr th {\n",
              "        vertical-align: top;\n",
              "    }\n",
              "\n",
              "    .dataframe thead th {\n",
              "        text-align: right;\n",
              "    }\n",
              "</style>\n",
              "<table border=\"1\" class=\"dataframe\">\n",
              "  <thead>\n",
              "    <tr style=\"text-align: right;\">\n",
              "      <th></th>\n",
              "      <th>name</th>\n",
              "      <th>author</th>\n",
              "      <th>user_rating</th>\n",
              "      <th>reviews</th>\n",
              "      <th>price</th>\n",
              "      <th>year</th>\n",
              "      <th>genre</th>\n",
              "    </tr>\n",
              "  </thead>\n",
              "  <tbody>\n",
              "    <tr>\n",
              "      <th>0</th>\n",
              "      <td>10-Day Green Smoothie Cleanse</td>\n",
              "      <td>JJ Smith</td>\n",
              "      <td>4.7</td>\n",
              "      <td>17350</td>\n",
              "      <td>8</td>\n",
              "      <td>2016</td>\n",
              "      <td>Non Fiction</td>\n",
              "    </tr>\n",
              "    <tr>\n",
              "      <th>1</th>\n",
              "      <td>11/22/63: A Novel</td>\n",
              "      <td>Stephen King</td>\n",
              "      <td>4.6</td>\n",
              "      <td>2052</td>\n",
              "      <td>22</td>\n",
              "      <td>2011</td>\n",
              "      <td>Fiction</td>\n",
              "    </tr>\n",
              "    <tr>\n",
              "      <th>2</th>\n",
              "      <td>12 Rules for Life: An Antidote to Chaos</td>\n",
              "      <td>Jordan B. Peterson</td>\n",
              "      <td>4.7</td>\n",
              "      <td>18979</td>\n",
              "      <td>15</td>\n",
              "      <td>2018</td>\n",
              "      <td>Non Fiction</td>\n",
              "    </tr>\n",
              "    <tr>\n",
              "      <th>3</th>\n",
              "      <td>1984 (Signet Classics)</td>\n",
              "      <td>George Orwell</td>\n",
              "      <td>4.7</td>\n",
              "      <td>21424</td>\n",
              "      <td>6</td>\n",
              "      <td>2017</td>\n",
              "      <td>Fiction</td>\n",
              "    </tr>\n",
              "    <tr>\n",
              "      <th>4</th>\n",
              "      <td>5,000 Awesome Facts (About Everything!) (Natio...</td>\n",
              "      <td>National Geographic Kids</td>\n",
              "      <td>4.8</td>\n",
              "      <td>7665</td>\n",
              "      <td>12</td>\n",
              "      <td>2019</td>\n",
              "      <td>Non Fiction</td>\n",
              "    </tr>\n",
              "  </tbody>\n",
              "</table>\n",
              "</div>\n",
              "      <button class=\"colab-df-convert\" onclick=\"convertToInteractive('df-4eeb6fe3-30a3-41b5-83dd-b14dd38d0d00')\"\n",
              "              title=\"Convert this dataframe to an interactive table.\"\n",
              "              style=\"display:none;\">\n",
              "        \n",
              "  <svg xmlns=\"http://www.w3.org/2000/svg\" height=\"24px\"viewBox=\"0 0 24 24\"\n",
              "       width=\"24px\">\n",
              "    <path d=\"M0 0h24v24H0V0z\" fill=\"none\"/>\n",
              "    <path d=\"M18.56 5.44l.94 2.06.94-2.06 2.06-.94-2.06-.94-.94-2.06-.94 2.06-2.06.94zm-11 1L8.5 8.5l.94-2.06 2.06-.94-2.06-.94L8.5 2.5l-.94 2.06-2.06.94zm10 10l.94 2.06.94-2.06 2.06-.94-2.06-.94-.94-2.06-.94 2.06-2.06.94z\"/><path d=\"M17.41 7.96l-1.37-1.37c-.4-.4-.92-.59-1.43-.59-.52 0-1.04.2-1.43.59L10.3 9.45l-7.72 7.72c-.78.78-.78 2.05 0 2.83L4 21.41c.39.39.9.59 1.41.59.51 0 1.02-.2 1.41-.59l7.78-7.78 2.81-2.81c.8-.78.8-2.07 0-2.86zM5.41 20L4 18.59l7.72-7.72 1.47 1.35L5.41 20z\"/>\n",
              "  </svg>\n",
              "      </button>\n",
              "      \n",
              "  <style>\n",
              "    .colab-df-container {\n",
              "      display:flex;\n",
              "      flex-wrap:wrap;\n",
              "      gap: 12px;\n",
              "    }\n",
              "\n",
              "    .colab-df-convert {\n",
              "      background-color: #E8F0FE;\n",
              "      border: none;\n",
              "      border-radius: 50%;\n",
              "      cursor: pointer;\n",
              "      display: none;\n",
              "      fill: #1967D2;\n",
              "      height: 32px;\n",
              "      padding: 0 0 0 0;\n",
              "      width: 32px;\n",
              "    }\n",
              "\n",
              "    .colab-df-convert:hover {\n",
              "      background-color: #E2EBFA;\n",
              "      box-shadow: 0px 1px 2px rgba(60, 64, 67, 0.3), 0px 1px 3px 1px rgba(60, 64, 67, 0.15);\n",
              "      fill: #174EA6;\n",
              "    }\n",
              "\n",
              "    [theme=dark] .colab-df-convert {\n",
              "      background-color: #3B4455;\n",
              "      fill: #D2E3FC;\n",
              "    }\n",
              "\n",
              "    [theme=dark] .colab-df-convert:hover {\n",
              "      background-color: #434B5C;\n",
              "      box-shadow: 0px 1px 3px 1px rgba(0, 0, 0, 0.15);\n",
              "      filter: drop-shadow(0px 1px 2px rgba(0, 0, 0, 0.3));\n",
              "      fill: #FFFFFF;\n",
              "    }\n",
              "  </style>\n",
              "\n",
              "      <script>\n",
              "        const buttonEl =\n",
              "          document.querySelector('#df-4eeb6fe3-30a3-41b5-83dd-b14dd38d0d00 button.colab-df-convert');\n",
              "        buttonEl.style.display =\n",
              "          google.colab.kernel.accessAllowed ? 'block' : 'none';\n",
              "\n",
              "        async function convertToInteractive(key) {\n",
              "          const element = document.querySelector('#df-4eeb6fe3-30a3-41b5-83dd-b14dd38d0d00');\n",
              "          const dataTable =\n",
              "            await google.colab.kernel.invokeFunction('convertToInteractive',\n",
              "                                                     [key], {});\n",
              "          if (!dataTable) return;\n",
              "\n",
              "          const docLinkHtml = 'Like what you see? Visit the ' +\n",
              "            '<a target=\"_blank\" href=https://colab.research.google.com/notebooks/data_table.ipynb>data table notebook</a>'\n",
              "            + ' to learn more about interactive tables.';\n",
              "          element.innerHTML = '';\n",
              "          dataTable['output_type'] = 'display_data';\n",
              "          await google.colab.output.renderOutput(dataTable, element);\n",
              "          const docLink = document.createElement('div');\n",
              "          docLink.innerHTML = docLinkHtml;\n",
              "          element.appendChild(docLink);\n",
              "        }\n",
              "      </script>\n",
              "    </div>\n",
              "  </div>\n",
              "  "
            ]
          },
          "metadata": {},
          "execution_count": 21
        }
      ]
    },
    {
      "cell_type": "code",
      "source": [
        "%matplotlib inline\n",
        "df_no_duplicated = df.loc[~df.duplicated(subset=['name'])].copy()\n",
        "plt.figure(figsize = (12,7))\n",
        "sns.set_context(\"poster\")\n",
        "sns.set_style(\"darkgrid\")\n",
        "sns.countplot(x='user_rating', data=df_no_duplicated)\n",
        "plt.show()"
      ],
      "metadata": {
        "colab": {
          "base_uri": "https://localhost:8080/",
          "height": 476
        },
        "id": "l3X5BIbs6ZJj",
        "outputId": "8ee89090-1d75-4ea0-9f7a-2600c1b89c7b"
      },
      "execution_count": 22,
      "outputs": [
        {
          "output_type": "display_data",
          "data": {
            "text/plain": [
              "<Figure size 864x504 with 1 Axes>"
            ],
            "image/png": "[encoded data removed]"
          },
          "metadata": {
            "needs_background": "light"
          }
        }
      ]
    },
    {
      "cell_type": "code",
      "source": [
        "%matplotlib inline\n",
        "plt.figure(figsize = (12,8))\n",
        "sns.set_style(\"ticks\",  {'axes.labelcolor':\"(0.6,0.6,0)\", 'axes.edgecolor':'grey', 'ytick.color':'grey', 'xtick.color':'green', 'axes.grid': True,'grid.color': '(0.8,0.8,0)', 'grid.linestyle': '--'})\n",
        "sns.lineplot(x=\"user_rating\", y=\"reviews\", data=df_no_duplicated)\n",
        "sns.despine()\n",
        "plt.show()"
      ],
      "metadata": {
        "id": "tFls3CGggBr6",
        "outputId": "386ec70d-8b55-435c-e037-34bf6e747eec",
        "colab": {
          "base_uri": "https://localhost:8080/",
          "height": 530
        }
      },
      "execution_count": 65,
      "outputs": [
        {
          "output_type": "display_data",
          "data": {
            "text/plain": [
              "<Figure size 864x576 with 1 Axes>"
            ],
            "image/png": "[encoded data removed]"
          },
          "metadata": {}
        }
      ]
    },
    {
      "cell_type": "code",
      "source": [
        "sns.axes_style(\"whitegrid\")"
      ],
      "metadata": {
        "id": "VlYd9-0Mhuog",
        "outputId": "30540205-d0c9-4449-ec02-28ac8a1f59a9",
        "colab": {
          "base_uri": "https://localhost:8080/"
        }
      },
      "execution_count": 61,
      "outputs": [
        {
          "output_type": "execute_result",
          "data": {
            "text/plain": [
              "{'figure.facecolor': 'white',\n",
              " 'axes.labelcolor': '.15',\n",
              " 'xtick.direction': 'out',\n",
              " 'ytick.direction': 'out',\n",
              " 'xtick.color': '.15',\n",
              " 'ytick.color': '.15',\n",
              " 'axes.axisbelow': True,\n",
              " 'grid.linestyle': '-',\n",
              " 'text.color': '.15',\n",
              " 'font.family': ['sans-serif'],\n",
              " 'font.sans-serif': ['Arial',\n",
              "  'DejaVu Sans',\n",
              "  'Liberation Sans',\n",
              "  'Bitstream Vera Sans',\n",
              "  'sans-serif'],\n",
              " 'lines.solid_capstyle': 'round',\n",
              " 'patch.edgecolor': 'w',\n",
              " 'patch.force_edgecolor': True,\n",
              " 'image.cmap': 'rocket',\n",
              " 'xtick.top': False,\n",
              " 'ytick.right': False,\n",
              " 'axes.grid': True,\n",
              " 'axes.facecolor': 'white',\n",
              " 'axes.edgecolor': '.8',\n",
              " 'grid.color': '.8',\n",
              " 'axes.spines.left': True,\n",
              " 'axes.spines.bottom': True,\n",
              " 'axes.spines.right': True,\n",
              " 'axes.spines.top': True,\n",
              " 'xtick.bottom': False,\n",
              " 'ytick.left': False}"
            ]
          },
          "metadata": {},
          "execution_count": 61
        }
      ]
    }
  ]
}