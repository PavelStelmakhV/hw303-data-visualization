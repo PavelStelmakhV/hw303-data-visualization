{
  "nbformat": 4,
  "nbformat_minor": 0,
  "metadata": {
    "colab": {
      "provenance": [],
      "authorship_tag": "ABX9TyNWr2dhJuac/7Nj0uAU8+bW",
      "include_colab_link": true
    },
    "kernelspec": {
      "name": "python3",
      "display_name": "Python 3"
    },
    "language_info": {
      "name": "python"
    }
  },
  "cells": [
    {
      "cell_type": "markdown",
      "metadata": {
        "id": "view-in-github",
        "colab_type": "text"
      },
      "source": [
        "<a href=\"https://colab.research.google.com/github/PavelStelmakhV/hw303-data-visualization/blob/main/Hw2.3.ipynb\" target=\"_parent\"><img src=\"https://colab.research.google.com/assets/colab-badge.svg\" alt=\"Open In Colab\"/></a>"
      ]
    },
    {
      "cell_type": "code",
      "execution_count": 111,
      "metadata": {
        "colab": {
          "base_uri": "https://localhost:8080/"
        },
        "id": "WJRB9EpDbXxo",
        "outputId": "34b8f4d2-92ad-4c35-c775-5c6706919c8b"
      },
      "outputs": [
        {
          "output_type": "stream",
          "name": "stdout",
          "text": [
            "Drive already mounted at /content/drive; to attempt to forcibly remount, call drive.mount(\"/content/drive\", force_remount=True).\n"
          ]
        }
      ],
      "source": [
        "import pandas as pd\n",
        "from google.colab import drive\n",
        "from google.colab import files\n",
        "drive.mount('/content/drive')"
      ]
    },
    {
      "cell_type": "markdown",
      "source": [
        "*   Прочитайте csv файл (используйте функцию read_csv)\n",
        "*   Выведите первый пять строчек (используется функцию head)\n",
        "*   Выведите размеры датасета (используйте атрибут shape)"
      ],
      "metadata": {
        "id": "kbBCo5gnh6xM"
      }
    },
    {
      "cell_type": "code",
      "source": [
        "path = '/content/drive/My Drive/'\n",
        "file_name = 'bestsellers with categories.csv'\n",
        "df = pd.read_csv(path + file_name)\n",
        "df_init = df.copy\n",
        "print(df.head(5))\n",
        "print(df.shape)"
      ],
      "metadata": {
        "colab": {
          "base_uri": "https://localhost:8080/"
        },
        "id": "K-spH_T-dmHk",
        "outputId": "048e2c06-bf3c-42fa-f4b7-6f5d60209b00"
      },
      "execution_count": 112,
      "outputs": [
        {
          "output_type": "stream",
          "name": "stdout",
          "text": [
            "                                                Name  \\\n",
            "0                      10-Day Green Smoothie Cleanse   \n",
            "1                                  11/22/63: A Novel   \n",
            "2            12 Rules for Life: An Antidote to Chaos   \n",
            "3                             1984 (Signet Classics)   \n",
            "4  5,000 Awesome Facts (About Everything!) (Natio...   \n",
            "\n",
            "                     Author  User Rating  Reviews  Price  Year        Genre  \n",
            "0                  JJ Smith          4.7    17350      8  2016  Non Fiction  \n",
            "1              Stephen King          4.6     2052     22  2011      Fiction  \n",
            "2        Jordan B. Peterson          4.7    18979     15  2018  Non Fiction  \n",
            "3             George Orwell          4.7    21424      6  2017      Fiction  \n",
            "4  National Geographic Kids          4.8     7665     12  2019  Non Fiction  \n",
            "(550, 7)\n"
          ]
        }
      ]
    },
    {
      "cell_type": "code",
      "source": [
        "df['Name'].nunique()"
      ],
      "metadata": {
        "colab": {
          "base_uri": "https://localhost:8080/"
        },
        "id": "lVcGYEGqkbs4",
        "outputId": "3c3416e7-777e-4c35-ef3f-c9c4f7f63b4d"
      },
      "execution_count": 113,
      "outputs": [
        {
          "output_type": "execute_result",
          "data": {
            "text/plain": [
              "351"
            ]
          },
          "metadata": {},
          "execution_count": 113
        }
      ]
    },
    {
      "cell_type": "markdown",
      "source": [
        "О скольки книгах хранит данные датасет? Ответ: 351"
      ],
      "metadata": {
        "id": "QtX8kNyDWxKO"
      }
    },
    {
      "cell_type": "code",
      "source": [
        "df.columns = ['name', 'author', 'user_rating', 'reviews', 'price', 'year', 'genre']"
      ],
      "metadata": {
        "id": "aSyF0qCDHRXy"
      },
      "execution_count": 114,
      "outputs": []
    },
    {
      "cell_type": "markdown",
      "source": [
        "# Первичное исследование данных"
      ],
      "metadata": {
        "id": "5g9hRJdVzW-d"
      }
    },
    {
      "cell_type": "code",
      "source": [
        "df.isna().sum()"
      ],
      "metadata": {
        "colab": {
          "base_uri": "https://localhost:8080/"
        },
        "id": "OcnnK7QRH89g",
        "outputId": "c9e17091-5da2-4d50-a2b6-9baa0c82acca"
      },
      "execution_count": 115,
      "outputs": [
        {
          "output_type": "execute_result",
          "data": {
            "text/plain": [
              "name           0\n",
              "author         0\n",
              "user_rating    0\n",
              "reviews        0\n",
              "price          0\n",
              "year           0\n",
              "genre          0\n",
              "dtype: int64"
            ]
          },
          "metadata": {},
          "execution_count": 115
        }
      ]
    },
    {
      "cell_type": "markdown",
      "source": [
        "Есть ли в каких либо переменных пропуски? Ответ: Нет"
      ],
      "metadata": {
        "id": "DwoG00z-IHE4"
      }
    },
    {
      "cell_type": "code",
      "source": [
        "df['genre'].unique()"
      ],
      "metadata": {
        "colab": {
          "base_uri": "https://localhost:8080/"
        },
        "id": "msANlTWKIO0I",
        "outputId": "f380f965-3775-45ca-bd23-fd25671ba474"
      },
      "execution_count": 116,
      "outputs": [
        {
          "output_type": "execute_result",
          "data": {
            "text/plain": [
              "array(['Non Fiction', 'Fiction'], dtype=object)"
            ]
          },
          "metadata": {},
          "execution_count": 116
        }
      ]
    },
    {
      "cell_type": "markdown",
      "source": [
        "Какие есть уникальные жанры? Ответ: 'Non Fiction', 'Fiction'"
      ],
      "metadata": {
        "id": "TdYjfDZRJ5zd"
      }
    },
    {
      "cell_type": "code",
      "source": [
        "import matplotlib.pyplot as plt\n",
        "plt.figure(figsize = (12,8))\n",
        "df['price'].plot(kind = 'hist', bins=20)\n",
        "plt.xlabel('Price')\n",
        "plt.grid(ls = '--', axis = 'y')\n",
        "plt.show()"
      ],
      "metadata": {
        "colab": {
          "base_uri": "https://localhost:8080/",
          "height": 497
        },
        "id": "sASsAbvYUVii",
        "outputId": "81ccb6e4-e823-43a8-e962-515140390235"
      },
      "execution_count": 117,
      "outputs": [
        {
          "output_type": "display_data",
          "data": {
            "text/plain": [
              "<Figure size 864x576 with 1 Axes>"
            ],
            "image/png": "[encoded data removed]"
          },
          "metadata": {}
        }
      ]
    },
    {
      "cell_type": "code",
      "source": [
        "print(df['price'].max())\n",
        "print(df['price'].min())\n",
        "print(df['price'].mean())\n",
        "print(df['price'].median())"
      ],
      "metadata": {
        "colab": {
          "base_uri": "https://localhost:8080/"
        },
        "id": "v2dV16UQcVak",
        "outputId": "d07a7d86-66f4-4cec-e19a-9f8bee8ae00b"
      },
      "execution_count": 118,
      "outputs": [
        {
          "output_type": "stream",
          "name": "stdout",
          "text": [
            "105\n",
            "0\n",
            "13.1\n",
            "11.0\n"
          ]
        }
      ]
    },
    {
      "cell_type": "markdown",
      "source": [
        "Mаксимальная цена? Ответ: 105"
      ],
      "metadata": {
        "id": "PeCgmTsgklQt"
      }
    },
    {
      "cell_type": "markdown",
      "source": [
        "Минимальная цена? Ответ: 0"
      ],
      "metadata": {
        "id": "BPhNPzlmlVXE"
      }
    },
    {
      "cell_type": "markdown",
      "source": [
        "Средняя цена? Ответ: 13.1"
      ],
      "metadata": {
        "id": "v2PEBVz7lX1s"
      }
    },
    {
      "cell_type": "markdown",
      "source": [
        "Медианная цена? Ответ: 11"
      ],
      "metadata": {
        "id": "wPuhR9zPlaIL"
      }
    },
    {
      "cell_type": "markdown",
      "source": [
        "# Поиск и сортировка данных"
      ],
      "metadata": {
        "id": "9Cs7QBK2zffs"
      }
    },
    {
      "cell_type": "code",
      "source": [
        "df.user_rating.max()"
      ],
      "metadata": {
        "colab": {
          "base_uri": "https://localhost:8080/"
        },
        "id": "yqKMSJ0FjsDu",
        "outputId": "05d77792-5a20-4a25-faa4-1ac6a655edce"
      },
      "execution_count": 119,
      "outputs": [
        {
          "output_type": "execute_result",
          "data": {
            "text/plain": [
              "4.9"
            ]
          },
          "metadata": {},
          "execution_count": 119
        }
      ]
    },
    {
      "cell_type": "markdown",
      "source": [
        "Какой рейтинг в датасете наивысший? Ответ: 4.9"
      ],
      "metadata": {
        "id": "oxMNaR8w3BG2"
      }
    },
    {
      "cell_type": "code",
      "source": [
        "len(df.loc[df.user_rating == df.user_rating.max()].name.unique())"
      ],
      "metadata": {
        "colab": {
          "base_uri": "https://localhost:8080/"
        },
        "id": "UCjcTLR73DJH",
        "outputId": "5049ce08-ce28-439c-9070-49c687fa2c49"
      },
      "execution_count": 120,
      "outputs": [
        {
          "output_type": "execute_result",
          "data": {
            "text/plain": [
              "28"
            ]
          },
          "metadata": {},
          "execution_count": 120
        }
      ]
    },
    {
      "cell_type": "markdown",
      "source": [
        "Сколько книг имеют такой рейтинг? Ответ: 28"
      ],
      "metadata": {
        "id": "dhIVzWMGwJvx"
      }
    },
    {
      "cell_type": "code",
      "source": [
        "df.loc[df.reviews == df.reviews.max()]"
      ],
      "metadata": {
        "colab": {
          "base_uri": "https://localhost:8080/",
          "height": 81
        },
        "id": "zaWUyJEXwN7G",
        "outputId": "0f3888a8-42ca-4d1c-b44d-f719c73585eb"
      },
      "execution_count": 121,
      "outputs": [
        {
          "output_type": "execute_result",
          "data": {
            "text/plain": [
              "                        name       author  user_rating  reviews  price  year  \\\n",
              "534  Where the Crawdads Sing  Delia Owens          4.8    87841     15  2019   \n",
              "\n",
              "       genre  \n",
              "534  Fiction  "
            ],
            "text/html": [
              "\n",
              "  <div id=\"df-9ae70d84-8d86-48ce-9ade-4b16a61d6d2f\">\n",
              "    <div class=\"colab-df-container\">\n",
              "      <div>\n",
              "<style scoped>\n",
              "    .dataframe tbody tr th:only-of-type {\n",
              "        vertical-align: middle;\n",
              "    }\n",
              "\n",
              "    .dataframe tbody tr th {\n",
              "        vertical-align: top;\n",
              "    }\n",
              "\n",
              "    .dataframe thead th {\n",
              "        text-align: right;\n",
              "    }\n",
              "</style>\n",
              "<table border=\"1\" class=\"dataframe\">\n",
              "  <thead>\n",
              "    <tr style=\"text-align: right;\">\n",
              "      <th></th>\n",
              "      <th>name</th>\n",
              "      <th>author</th>\n",
              "      <th>user_rating</th>\n",
              "      <th>reviews</th>\n",
              "      <th>price</th>\n",
              "      <th>year</th>\n",
              "      <th>genre</th>\n",
              "    </tr>\n",
              "  </thead>\n",
              "  <tbody>\n",
              "    <tr>\n",
              "      <th>534</th>\n",
              "      <td>Where the Crawdads Sing</td>\n",
              "      <td>Delia Owens</td>\n",
              "      <td>4.8</td>\n",
              "      <td>87841</td>\n",
              "      <td>15</td>\n",
              "      <td>2019</td>\n",
              "      <td>Fiction</td>\n",
              "    </tr>\n",
              "  </tbody>\n",
              "</table>\n",
              "</div>\n",
              "      <button class=\"colab-df-convert\" onclick=\"convertToInteractive('df-9ae70d84-8d86-48ce-9ade-4b16a61d6d2f')\"\n",
              "              title=\"Convert this dataframe to an interactive table.\"\n",
              "              style=\"display:none;\">\n",
              "        \n",
              "  <svg xmlns=\"http://www.w3.org/2000/svg\" height=\"24px\"viewBox=\"0 0 24 24\"\n",
              "       width=\"24px\">\n",
              "    <path d=\"M0 0h24v24H0V0z\" fill=\"none\"/>\n",
              "    <path d=\"M18.56 5.44l.94 2.06.94-2.06 2.06-.94-2.06-.94-.94-2.06-.94 2.06-2.06.94zm-11 1L8.5 8.5l.94-2.06 2.06-.94-2.06-.94L8.5 2.5l-.94 2.06-2.06.94zm10 10l.94 2.06.94-2.06 2.06-.94-2.06-.94-.94-2.06-.94 2.06-2.06.94z\"/><path d=\"M17.41 7.96l-1.37-1.37c-.4-.4-.92-.59-1.43-.59-.52 0-1.04.2-1.43.59L10.3 9.45l-7.72 7.72c-.78.78-.78 2.05 0 2.83L4 21.41c.39.39.9.59 1.41.59.51 0 1.02-.2 1.41-.59l7.78-7.78 2.81-2.81c.8-.78.8-2.07 0-2.86zM5.41 20L4 18.59l7.72-7.72 1.47 1.35L5.41 20z\"/>\n",
              "  </svg>\n",
              "      </button>\n",
              "      \n",
              "  <style>\n",
              "    .colab-df-container {\n",
              "      display:flex;\n",
              "      flex-wrap:wrap;\n",
              "      gap: 12px;\n",
              "    }\n",
              "\n",
              "    .colab-df-convert {\n",
              "      background-color: #E8F0FE;\n",
              "      border: none;\n",
              "      border-radius: 50%;\n",
              "      cursor: pointer;\n",
              "      display: none;\n",
              "      fill: #1967D2;\n",
              "      height: 32px;\n",
              "      padding: 0 0 0 0;\n",
              "      width: 32px;\n",
              "    }\n",
              "\n",
              "    .colab-df-convert:hover {\n",
              "      background-color: #E2EBFA;\n",
              "      box-shadow: 0px 1px 2px rgba(60, 64, 67, 0.3), 0px 1px 3px 1px rgba(60, 64, 67, 0.15);\n",
              "      fill: #174EA6;\n",
              "    }\n",
              "\n",
              "    [theme=dark] .colab-df-convert {\n",
              "      background-color: #3B4455;\n",
              "      fill: #D2E3FC;\n",
              "    }\n",
              "\n",
              "    [theme=dark] .colab-df-convert:hover {\n",
              "      background-color: #434B5C;\n",
              "      box-shadow: 0px 1px 3px 1px rgba(0, 0, 0, 0.15);\n",
              "      filter: drop-shadow(0px 1px 2px rgba(0, 0, 0, 0.3));\n",
              "      fill: #FFFFFF;\n",
              "    }\n",
              "  </style>\n",
              "\n",
              "      <script>\n",
              "        const buttonEl =\n",
              "          document.querySelector('#df-9ae70d84-8d86-48ce-9ade-4b16a61d6d2f button.colab-df-convert');\n",
              "        buttonEl.style.display =\n",
              "          google.colab.kernel.accessAllowed ? 'block' : 'none';\n",
              "\n",
              "        async function convertToInteractive(key) {\n",
              "          const element = document.querySelector('#df-9ae70d84-8d86-48ce-9ade-4b16a61d6d2f');\n",
              "          const dataTable =\n",
              "            await google.colab.kernel.invokeFunction('convertToInteractive',\n",
              "                                                     [key], {});\n",
              "          if (!dataTable) return;\n",
              "\n",
              "          const docLinkHtml = 'Like what you see? Visit the ' +\n",
              "            '<a target=\"_blank\" href=https://colab.research.google.com/notebooks/data_table.ipynb>data table notebook</a>'\n",
              "            + ' to learn more about interactive tables.';\n",
              "          element.innerHTML = '';\n",
              "          dataTable['output_type'] = 'display_data';\n",
              "          await google.colab.output.renderOutput(dataTable, element);\n",
              "          const docLink = document.createElement('div');\n",
              "          docLink.innerHTML = docLinkHtml;\n",
              "          element.appendChild(docLink);\n",
              "        }\n",
              "      </script>\n",
              "    </div>\n",
              "  </div>\n",
              "  "
            ]
          },
          "metadata": {},
          "execution_count": 121
        }
      ]
    },
    {
      "cell_type": "markdown",
      "source": [
        "У какой книги больше всего отзывов? Ответ: Where the Crawdads Sing"
      ],
      "metadata": {
        "id": "rMFc7h09wbYe"
      }
    },
    {
      "cell_type": "code",
      "source": [
        "temp = df.loc[df.year == 2015]\n",
        "temp.loc[temp.price == temp.price.max()]"
      ],
      "metadata": {
        "colab": {
          "base_uri": "https://localhost:8080/",
          "height": 81
        },
        "id": "onhH5e88w3PE",
        "outputId": "ca63d7de-ce2b-49d2-dab6-cda102566e3a"
      },
      "execution_count": 122,
      "outputs": [
        {
          "output_type": "execute_result",
          "data": {
            "text/plain": [
              "                                                  name  \\\n",
              "277  Publication Manual of the American Psychologic...   \n",
              "\n",
              "                                 author  user_rating  reviews  price  year  \\\n",
              "277  American Psychological Association          4.5     8580     46  2015   \n",
              "\n",
              "           genre  \n",
              "277  Non Fiction  "
            ],
            "text/html": [
              "\n",
              "  <div id=\"df-323d1cfd-f64c-4e48-a354-13a6ec21854e\">\n",
              "    <div class=\"colab-df-container\">\n",
              "      <div>\n",
              "<style scoped>\n",
              "    .dataframe tbody tr th:only-of-type {\n",
              "        vertical-align: middle;\n",
              "    }\n",
              "\n",
              "    .dataframe tbody tr th {\n",
              "        vertical-align: top;\n",
              "    }\n",
              "\n",
              "    .dataframe thead th {\n",
              "        text-align: right;\n",
              "    }\n",
              "</style>\n",
              "<table border=\"1\" class=\"dataframe\">\n",
              "  <thead>\n",
              "    <tr style=\"text-align: right;\">\n",
              "      <th></th>\n",
              "      <th>name</th>\n",
              "      <th>author</th>\n",
              "      <th>user_rating</th>\n",
              "      <th>reviews</th>\n",
              "      <th>price</th>\n",
              "      <th>year</th>\n",
              "      <th>genre</th>\n",
              "    </tr>\n",
              "  </thead>\n",
              "  <tbody>\n",
              "    <tr>\n",
              "      <th>277</th>\n",
              "      <td>Publication Manual of the American Psychologic...</td>\n",
              "      <td>American Psychological Association</td>\n",
              "      <td>4.5</td>\n",
              "      <td>8580</td>\n",
              "      <td>46</td>\n",
              "      <td>2015</td>\n",
              "      <td>Non Fiction</td>\n",
              "    </tr>\n",
              "  </tbody>\n",
              "</table>\n",
              "</div>\n",
              "      <button class=\"colab-df-convert\" onclick=\"convertToInteractive('df-323d1cfd-f64c-4e48-a354-13a6ec21854e')\"\n",
              "              title=\"Convert this dataframe to an interactive table.\"\n",
              "              style=\"display:none;\">\n",
              "        \n",
              "  <svg xmlns=\"http://www.w3.org/2000/svg\" height=\"24px\"viewBox=\"0 0 24 24\"\n",
              "       width=\"24px\">\n",
              "    <path d=\"M0 0h24v24H0V0z\" fill=\"none\"/>\n",
              "    <path d=\"M18.56 5.44l.94 2.06.94-2.06 2.06-.94-2.06-.94-.94-2.06-.94 2.06-2.06.94zm-11 1L8.5 8.5l.94-2.06 2.06-.94-2.06-.94L8.5 2.5l-.94 2.06-2.06.94zm10 10l.94 2.06.94-2.06 2.06-.94-2.06-.94-.94-2.06-.94 2.06-2.06.94z\"/><path d=\"M17.41 7.96l-1.37-1.37c-.4-.4-.92-.59-1.43-.59-.52 0-1.04.2-1.43.59L10.3 9.45l-7.72 7.72c-.78.78-.78 2.05 0 2.83L4 21.41c.39.39.9.59 1.41.59.51 0 1.02-.2 1.41-.59l7.78-7.78 2.81-2.81c.8-.78.8-2.07 0-2.86zM5.41 20L4 18.59l7.72-7.72 1.47 1.35L5.41 20z\"/>\n",
              "  </svg>\n",
              "      </button>\n",
              "      \n",
              "  <style>\n",
              "    .colab-df-container {\n",
              "      display:flex;\n",
              "      flex-wrap:wrap;\n",
              "      gap: 12px;\n",
              "    }\n",
              "\n",
              "    .colab-df-convert {\n",
              "      background-color: #E8F0FE;\n",
              "      border: none;\n",
              "      border-radius: 50%;\n",
              "      cursor: pointer;\n",
              "      display: none;\n",
              "      fill: #1967D2;\n",
              "      height: 32px;\n",
              "      padding: 0 0 0 0;\n",
              "      width: 32px;\n",
              "    }\n",
              "\n",
              "    .colab-df-convert:hover {\n",
              "      background-color: #E2EBFA;\n",
              "      box-shadow: 0px 1px 2px rgba(60, 64, 67, 0.3), 0px 1px 3px 1px rgba(60, 64, 67, 0.15);\n",
              "      fill: #174EA6;\n",
              "    }\n",
              "\n",
              "    [theme=dark] .colab-df-convert {\n",
              "      background-color: #3B4455;\n",
              "      fill: #D2E3FC;\n",
              "    }\n",
              "\n",
              "    [theme=dark] .colab-df-convert:hover {\n",
              "      background-color: #434B5C;\n",
              "      box-shadow: 0px 1px 3px 1px rgba(0, 0, 0, 0.15);\n",
              "      filter: drop-shadow(0px 1px 2px rgba(0, 0, 0, 0.3));\n",
              "      fill: #FFFFFF;\n",
              "    }\n",
              "  </style>\n",
              "\n",
              "      <script>\n",
              "        const buttonEl =\n",
              "          document.querySelector('#df-323d1cfd-f64c-4e48-a354-13a6ec21854e button.colab-df-convert');\n",
              "        buttonEl.style.display =\n",
              "          google.colab.kernel.accessAllowed ? 'block' : 'none';\n",
              "\n",
              "        async function convertToInteractive(key) {\n",
              "          const element = document.querySelector('#df-323d1cfd-f64c-4e48-a354-13a6ec21854e');\n",
              "          const dataTable =\n",
              "            await google.colab.kernel.invokeFunction('convertToInteractive',\n",
              "                                                     [key], {});\n",
              "          if (!dataTable) return;\n",
              "\n",
              "          const docLinkHtml = 'Like what you see? Visit the ' +\n",
              "            '<a target=\"_blank\" href=https://colab.research.google.com/notebooks/data_table.ipynb>data table notebook</a>'\n",
              "            + ' to learn more about interactive tables.';\n",
              "          element.innerHTML = '';\n",
              "          dataTable['output_type'] = 'display_data';\n",
              "          await google.colab.output.renderOutput(dataTable, element);\n",
              "          const docLink = document.createElement('div');\n",
              "          docLink.innerHTML = docLinkHtml;\n",
              "          element.appendChild(docLink);\n",
              "        }\n",
              "      </script>\n",
              "    </div>\n",
              "  </div>\n",
              "  "
            ]
          },
          "metadata": {},
          "execution_count": 122
        }
      ]
    },
    {
      "cell_type": "markdown",
      "source": [
        "Из тех книг, что попали в Топ-50 в 2015 году, какая книга самая дорогая (можно использовать промежуточный датафрейм)? Ответ: Publication Manual of the American Psychologic..."
      ],
      "metadata": {
        "id": "MZ9PoiEZw1YG"
      }
    },
    {
      "cell_type": "code",
      "source": [
        "df.query('genre == \"Fiction\" & year == 2010').shape[0]"
      ],
      "metadata": {
        "colab": {
          "base_uri": "https://localhost:8080/"
        },
        "id": "J8TgfELFxfO8",
        "outputId": "df4bd4c4-9908-426a-d935-dd9418942409"
      },
      "execution_count": 123,
      "outputs": [
        {
          "output_type": "execute_result",
          "data": {
            "text/plain": [
              "20"
            ]
          },
          "metadata": {},
          "execution_count": 123
        }
      ]
    },
    {
      "cell_type": "markdown",
      "source": [
        "Сколько книг жанра Fiction попали в Топ-50 в 2010 году (используйте &)? Ответ: 20"
      ],
      "metadata": {
        "id": "wg9jYYMo_ixE"
      }
    },
    {
      "cell_type": "code",
      "source": [
        "df.query('user_rating == 4.9 & (year == 2010 | year == 2011)')"
      ],
      "metadata": {
        "colab": {
          "base_uri": "https://localhost:8080/",
          "height": 81
        },
        "id": "IxaLN6YaAgYk",
        "outputId": "991d269e-0552-4b28-d599-c6839daade35"
      },
      "execution_count": 124,
      "outputs": [
        {
          "output_type": "execute_result",
          "data": {
            "text/plain": [
              "                                                  name       author  \\\n",
              "187  Jesus Calling: Enjoying Peace in His Presence ...  Sarah Young   \n",
              "\n",
              "     user_rating  reviews  price  year        genre  \n",
              "187          4.9    19576      8  2011  Non Fiction  "
            ],
            "text/html": [
              "\n",
              "  <div id=\"df-12af7b2e-d1ba-4e04-b3f2-b08b44e128fd\">\n",
              "    <div class=\"colab-df-container\">\n",
              "      <div>\n",
              "<style scoped>\n",
              "    .dataframe tbody tr th:only-of-type {\n",
              "        vertical-align: middle;\n",
              "    }\n",
              "\n",
              "    .dataframe tbody tr th {\n",
              "        vertical-align: top;\n",
              "    }\n",
              "\n",
              "    .dataframe thead th {\n",
              "        text-align: right;\n",
              "    }\n",
              "</style>\n",
              "<table border=\"1\" class=\"dataframe\">\n",
              "  <thead>\n",
              "    <tr style=\"text-align: right;\">\n",
              "      <th></th>\n",
              "      <th>name</th>\n",
              "      <th>author</th>\n",
              "      <th>user_rating</th>\n",
              "      <th>reviews</th>\n",
              "      <th>price</th>\n",
              "      <th>year</th>\n",
              "      <th>genre</th>\n",
              "    </tr>\n",
              "  </thead>\n",
              "  <tbody>\n",
              "    <tr>\n",
              "      <th>187</th>\n",
              "      <td>Jesus Calling: Enjoying Peace in His Presence ...</td>\n",
              "      <td>Sarah Young</td>\n",
              "      <td>4.9</td>\n",
              "      <td>19576</td>\n",
              "      <td>8</td>\n",
              "      <td>2011</td>\n",
              "      <td>Non Fiction</td>\n",
              "    </tr>\n",
              "  </tbody>\n",
              "</table>\n",
              "</div>\n",
              "      <button class=\"colab-df-convert\" onclick=\"convertToInteractive('df-12af7b2e-d1ba-4e04-b3f2-b08b44e128fd')\"\n",
              "              title=\"Convert this dataframe to an interactive table.\"\n",
              "              style=\"display:none;\">\n",
              "        \n",
              "  <svg xmlns=\"http://www.w3.org/2000/svg\" height=\"24px\"viewBox=\"0 0 24 24\"\n",
              "       width=\"24px\">\n",
              "    <path d=\"M0 0h24v24H0V0z\" fill=\"none\"/>\n",
              "    <path d=\"M18.56 5.44l.94 2.06.94-2.06 2.06-.94-2.06-.94-.94-2.06-.94 2.06-2.06.94zm-11 1L8.5 8.5l.94-2.06 2.06-.94-2.06-.94L8.5 2.5l-.94 2.06-2.06.94zm10 10l.94 2.06.94-2.06 2.06-.94-2.06-.94-.94-2.06-.94 2.06-2.06.94z\"/><path d=\"M17.41 7.96l-1.37-1.37c-.4-.4-.92-.59-1.43-.59-.52 0-1.04.2-1.43.59L10.3 9.45l-7.72 7.72c-.78.78-.78 2.05 0 2.83L4 21.41c.39.39.9.59 1.41.59.51 0 1.02-.2 1.41-.59l7.78-7.78 2.81-2.81c.8-.78.8-2.07 0-2.86zM5.41 20L4 18.59l7.72-7.72 1.47 1.35L5.41 20z\"/>\n",
              "  </svg>\n",
              "      </button>\n",
              "      \n",
              "  <style>\n",
              "    .colab-df-container {\n",
              "      display:flex;\n",
              "      flex-wrap:wrap;\n",
              "      gap: 12px;\n",
              "    }\n",
              "\n",
              "    .colab-df-convert {\n",
              "      background-color: #E8F0FE;\n",
              "      border: none;\n",
              "      border-radius: 50%;\n",
              "      cursor: pointer;\n",
              "      display: none;\n",
              "      fill: #1967D2;\n",
              "      height: 32px;\n",
              "      padding: 0 0 0 0;\n",
              "      width: 32px;\n",
              "    }\n",
              "\n",
              "    .colab-df-convert:hover {\n",
              "      background-color: #E2EBFA;\n",
              "      box-shadow: 0px 1px 2px rgba(60, 64, 67, 0.3), 0px 1px 3px 1px rgba(60, 64, 67, 0.15);\n",
              "      fill: #174EA6;\n",
              "    }\n",
              "\n",
              "    [theme=dark] .colab-df-convert {\n",
              "      background-color: #3B4455;\n",
              "      fill: #D2E3FC;\n",
              "    }\n",
              "\n",
              "    [theme=dark] .colab-df-convert:hover {\n",
              "      background-color: #434B5C;\n",
              "      box-shadow: 0px 1px 3px 1px rgba(0, 0, 0, 0.15);\n",
              "      filter: drop-shadow(0px 1px 2px rgba(0, 0, 0, 0.3));\n",
              "      fill: #FFFFFF;\n",
              "    }\n",
              "  </style>\n",
              "\n",
              "      <script>\n",
              "        const buttonEl =\n",
              "          document.querySelector('#df-12af7b2e-d1ba-4e04-b3f2-b08b44e128fd button.colab-df-convert');\n",
              "        buttonEl.style.display =\n",
              "          google.colab.kernel.accessAllowed ? 'block' : 'none';\n",
              "\n",
              "        async function convertToInteractive(key) {\n",
              "          const element = document.querySelector('#df-12af7b2e-d1ba-4e04-b3f2-b08b44e128fd');\n",
              "          const dataTable =\n",
              "            await google.colab.kernel.invokeFunction('convertToInteractive',\n",
              "                                                     [key], {});\n",
              "          if (!dataTable) return;\n",
              "\n",
              "          const docLinkHtml = 'Like what you see? Visit the ' +\n",
              "            '<a target=\"_blank\" href=https://colab.research.google.com/notebooks/data_table.ipynb>data table notebook</a>'\n",
              "            + ' to learn more about interactive tables.';\n",
              "          element.innerHTML = '';\n",
              "          dataTable['output_type'] = 'display_data';\n",
              "          await google.colab.output.renderOutput(dataTable, element);\n",
              "          const docLink = document.createElement('div');\n",
              "          docLink.innerHTML = docLinkHtml;\n",
              "          element.appendChild(docLink);\n",
              "        }\n",
              "      </script>\n",
              "    </div>\n",
              "  </div>\n",
              "  "
            ]
          },
          "metadata": {},
          "execution_count": 124
        }
      ]
    },
    {
      "cell_type": "markdown",
      "source": [
        "Сколько книг c рейтингом 4.9 попало в рейтинг в 2010 и 2011 годах (используйте | или функцию isin)? Ответ: 1"
      ],
      "metadata": {
        "id": "x_3iPAtIAoAU"
      }
    },
    {
      "cell_type": "code",
      "source": [
        "df.query('price < 8 & year == 2015').sort_values(by='price')"
      ],
      "metadata": {
        "colab": {
          "base_uri": "https://localhost:8080/",
          "height": 583
        },
        "id": "YM8hvA3FCQAf",
        "outputId": "53be827c-c5e9-4714-c8ea-a90936de0917"
      },
      "execution_count": 125,
      "outputs": [
        {
          "output_type": "execute_result",
          "data": {
            "text/plain": [
              "                                                  name              author  \\\n",
              "507                              To Kill a Mockingbird          Harper Lee   \n",
              "210                      Laugh-Out-Loud Jokes for Kids         Rob Elliott   \n",
              "206                         Knock-Knock Jokes for Kids         Rob Elliott   \n",
              "111                                    First 100 Words        Roger Priddy   \n",
              "123                               Giraffes Can't Dance       Giles Andreae   \n",
              "54   Creative Haven Creative Cats Coloring Book (Ad...     Marjorie Sarnat   \n",
              "63                      Dear Zoo: A Lift-the-Flap Book        Rod Campbell   \n",
              "89   Dover Creative Haven Art Nouveau Animal Design...         Marty Noble   \n",
              "478                        The Very Hungry Caterpillar          Eric Carle   \n",
              "201  Killing Reagan: The Violent Assault That Chang...       Bill O'Reilly   \n",
              "28                        Baby Touch and Feel: Animals                  DK   \n",
              "224                                   Love You Forever       Robert Munsch   \n",
              "55   Creative Haven Owls Coloring Book (Adult Color...     Marjorie Sarnat   \n",
              "17      Adult Coloring Book: Stress Relieving Patterns  Blue Star Coloring   \n",
              "376  The Four Agreements: A Practical Guide to Pers...     Don Miguel Ruiz   \n",
              "16   Adult Coloring Book: Stress Relieving Animal D...  Blue Star Coloring   \n",
              "253              Old School (Diary of a Wimpy Kid #10)         Jeff Kinney   \n",
              "\n",
              "     user_rating  reviews  price  year        genre  \n",
              "507          4.8    26234      0  2015      Fiction  \n",
              "210          4.6     6990      4  2015  Non Fiction  \n",
              "206          4.5     3673      4  2015  Non Fiction  \n",
              "111          4.7    17323      4  2015  Non Fiction  \n",
              "123          4.8    14038      4  2015      Fiction  \n",
              "54           4.8     4022      4  2015  Non Fiction  \n",
              "63           4.8    10922      5  2015      Fiction  \n",
              "89           4.6     2134      5  2015  Non Fiction  \n",
              "478          4.9    19546      5  2015      Fiction  \n",
              "201          4.6     5235      5  2015  Non Fiction  \n",
              "28           4.6     5360      5  2015  Non Fiction  \n",
              "224          4.8    18613      5  2015      Fiction  \n",
              "55           4.8     3871      5  2015  Non Fiction  \n",
              "17           4.4     2951      6  2015  Non Fiction  \n",
              "376          4.7    23308      6  2015  Non Fiction  \n",
              "16           4.6     2925      6  2015  Non Fiction  \n",
              "253          4.8     6169      7  2015      Fiction  "
            ],
            "text/html": [
              "\n",
              "  <div id=\"df-066dc94b-5538-463b-b2db-9136dfcc8c71\">\n",
              "    <div class=\"colab-df-container\">\n",
              "      <div>\n",
              "<style scoped>\n",
              "    .dataframe tbody tr th:only-of-type {\n",
              "        vertical-align: middle;\n",
              "    }\n",
              "\n",
              "    .dataframe tbody tr th {\n",
              "        vertical-align: top;\n",
              "    }\n",
              "\n",
              "    .dataframe thead th {\n",
              "        text-align: right;\n",
              "    }\n",
              "</style>\n",
              "<table border=\"1\" class=\"dataframe\">\n",
              "  <thead>\n",
              "    <tr style=\"text-align: right;\">\n",
              "      <th></th>\n",
              "      <th>name</th>\n",
              "      <th>author</th>\n",
              "      <th>user_rating</th>\n",
              "      <th>reviews</th>\n",
              "      <th>price</th>\n",
              "      <th>year</th>\n",
              "      <th>genre</th>\n",
              "    </tr>\n",
              "  </thead>\n",
              "  <tbody>\n",
              "    <tr>\n",
              "      <th>507</th>\n",
              "      <td>To Kill a Mockingbird</td>\n",
              "      <td>Harper Lee</td>\n",
              "      <td>4.8</td>\n",
              "      <td>26234</td>\n",
              "      <td>0</td>\n",
              "      <td>2015</td>\n",
              "      <td>Fiction</td>\n",
              "    </tr>\n",
              "    <tr>\n",
              "      <th>210</th>\n",
              "      <td>Laugh-Out-Loud Jokes for Kids</td>\n",
              "      <td>Rob Elliott</td>\n",
              "      <td>4.6</td>\n",
              "      <td>6990</td>\n",
              "      <td>4</td>\n",
              "      <td>2015</td>\n",
              "      <td>Non Fiction</td>\n",
              "    </tr>\n",
              "    <tr>\n",
              "      <th>206</th>\n",
              "      <td>Knock-Knock Jokes for Kids</td>\n",
              "      <td>Rob Elliott</td>\n",
              "      <td>4.5</td>\n",
              "      <td>3673</td>\n",
              "      <td>4</td>\n",
              "      <td>2015</td>\n",
              "      <td>Non Fiction</td>\n",
              "    </tr>\n",
              "    <tr>\n",
              "      <th>111</th>\n",
              "      <td>First 100 Words</td>\n",
              "      <td>Roger Priddy</td>\n",
              "      <td>4.7</td>\n",
              "      <td>17323</td>\n",
              "      <td>4</td>\n",
              "      <td>2015</td>\n",
              "      <td>Non Fiction</td>\n",
              "    </tr>\n",
              "    <tr>\n",
              "      <th>123</th>\n",
              "      <td>Giraffes Can't Dance</td>\n",
              "      <td>Giles Andreae</td>\n",
              "      <td>4.8</td>\n",
              "      <td>14038</td>\n",
              "      <td>4</td>\n",
              "      <td>2015</td>\n",
              "      <td>Fiction</td>\n",
              "    </tr>\n",
              "    <tr>\n",
              "      <th>54</th>\n",
              "      <td>Creative Haven Creative Cats Coloring Book (Ad...</td>\n",
              "      <td>Marjorie Sarnat</td>\n",
              "      <td>4.8</td>\n",
              "      <td>4022</td>\n",
              "      <td>4</td>\n",
              "      <td>2015</td>\n",
              "      <td>Non Fiction</td>\n",
              "    </tr>\n",
              "    <tr>\n",
              "      <th>63</th>\n",
              "      <td>Dear Zoo: A Lift-the-Flap Book</td>\n",
              "      <td>Rod Campbell</td>\n",
              "      <td>4.8</td>\n",
              "      <td>10922</td>\n",
              "      <td>5</td>\n",
              "      <td>2015</td>\n",
              "      <td>Fiction</td>\n",
              "    </tr>\n",
              "    <tr>\n",
              "      <th>89</th>\n",
              "      <td>Dover Creative Haven Art Nouveau Animal Design...</td>\n",
              "      <td>Marty Noble</td>\n",
              "      <td>4.6</td>\n",
              "      <td>2134</td>\n",
              "      <td>5</td>\n",
              "      <td>2015</td>\n",
              "      <td>Non Fiction</td>\n",
              "    </tr>\n",
              "    <tr>\n",
              "      <th>478</th>\n",
              "      <td>The Very Hungry Caterpillar</td>\n",
              "      <td>Eric Carle</td>\n",
              "      <td>4.9</td>\n",
              "      <td>19546</td>\n",
              "      <td>5</td>\n",
              "      <td>2015</td>\n",
              "      <td>Fiction</td>\n",
              "    </tr>\n",
              "    <tr>\n",
              "      <th>201</th>\n",
              "      <td>Killing Reagan: The Violent Assault That Chang...</td>\n",
              "      <td>Bill O'Reilly</td>\n",
              "      <td>4.6</td>\n",
              "      <td>5235</td>\n",
              "      <td>5</td>\n",
              "      <td>2015</td>\n",
              "      <td>Non Fiction</td>\n",
              "    </tr>\n",
              "    <tr>\n",
              "      <th>28</th>\n",
              "      <td>Baby Touch and Feel: Animals</td>\n",
              "      <td>DK</td>\n",
              "      <td>4.6</td>\n",
              "      <td>5360</td>\n",
              "      <td>5</td>\n",
              "      <td>2015</td>\n",
              "      <td>Non Fiction</td>\n",
              "    </tr>\n",
              "    <tr>\n",
              "      <th>224</th>\n",
              "      <td>Love You Forever</td>\n",
              "      <td>Robert Munsch</td>\n",
              "      <td>4.8</td>\n",
              "      <td>18613</td>\n",
              "      <td>5</td>\n",
              "      <td>2015</td>\n",
              "      <td>Fiction</td>\n",
              "    </tr>\n",
              "    <tr>\n",
              "      <th>55</th>\n",
              "      <td>Creative Haven Owls Coloring Book (Adult Color...</td>\n",
              "      <td>Marjorie Sarnat</td>\n",
              "      <td>4.8</td>\n",
              "      <td>3871</td>\n",
              "      <td>5</td>\n",
              "      <td>2015</td>\n",
              "      <td>Non Fiction</td>\n",
              "    </tr>\n",
              "    <tr>\n",
              "      <th>17</th>\n",
              "      <td>Adult Coloring Book: Stress Relieving Patterns</td>\n",
              "      <td>Blue Star Coloring</td>\n",
              "      <td>4.4</td>\n",
              "      <td>2951</td>\n",
              "      <td>6</td>\n",
              "      <td>2015</td>\n",
              "      <td>Non Fiction</td>\n",
              "    </tr>\n",
              "    <tr>\n",
              "      <th>376</th>\n",
              "      <td>The Four Agreements: A Practical Guide to Pers...</td>\n",
              "      <td>Don Miguel Ruiz</td>\n",
              "      <td>4.7</td>\n",
              "      <td>23308</td>\n",
              "      <td>6</td>\n",
              "      <td>2015</td>\n",
              "      <td>Non Fiction</td>\n",
              "    </tr>\n",
              "    <tr>\n",
              "      <th>16</th>\n",
              "      <td>Adult Coloring Book: Stress Relieving Animal D...</td>\n",
              "      <td>Blue Star Coloring</td>\n",
              "      <td>4.6</td>\n",
              "      <td>2925</td>\n",
              "      <td>6</td>\n",
              "      <td>2015</td>\n",
              "      <td>Non Fiction</td>\n",
              "    </tr>\n",
              "    <tr>\n",
              "      <th>253</th>\n",
              "      <td>Old School (Diary of a Wimpy Kid #10)</td>\n",
              "      <td>Jeff Kinney</td>\n",
              "      <td>4.8</td>\n",
              "      <td>6169</td>\n",
              "      <td>7</td>\n",
              "      <td>2015</td>\n",
              "      <td>Fiction</td>\n",
              "    </tr>\n",
              "  </tbody>\n",
              "</table>\n",
              "</div>\n",
              "      <button class=\"colab-df-convert\" onclick=\"convertToInteractive('df-066dc94b-5538-463b-b2db-9136dfcc8c71')\"\n",
              "              title=\"Convert this dataframe to an interactive table.\"\n",
              "              style=\"display:none;\">\n",
              "        \n",
              "  <svg xmlns=\"http://www.w3.org/2000/svg\" height=\"24px\"viewBox=\"0 0 24 24\"\n",
              "       width=\"24px\">\n",
              "    <path d=\"M0 0h24v24H0V0z\" fill=\"none\"/>\n",
              "    <path d=\"M18.56 5.44l.94 2.06.94-2.06 2.06-.94-2.06-.94-.94-2.06-.94 2.06-2.06.94zm-11 1L8.5 8.5l.94-2.06 2.06-.94-2.06-.94L8.5 2.5l-.94 2.06-2.06.94zm10 10l.94 2.06.94-2.06 2.06-.94-2.06-.94-.94-2.06-.94 2.06-2.06.94z\"/><path d=\"M17.41 7.96l-1.37-1.37c-.4-.4-.92-.59-1.43-.59-.52 0-1.04.2-1.43.59L10.3 9.45l-7.72 7.72c-.78.78-.78 2.05 0 2.83L4 21.41c.39.39.9.59 1.41.59.51 0 1.02-.2 1.41-.59l7.78-7.78 2.81-2.81c.8-.78.8-2.07 0-2.86zM5.41 20L4 18.59l7.72-7.72 1.47 1.35L5.41 20z\"/>\n",
              "  </svg>\n",
              "      </button>\n",
              "      \n",
              "  <style>\n",
              "    .colab-df-container {\n",
              "      display:flex;\n",
              "      flex-wrap:wrap;\n",
              "      gap: 12px;\n",
              "    }\n",
              "\n",
              "    .colab-df-convert {\n",
              "      background-color: #E8F0FE;\n",
              "      border: none;\n",
              "      border-radius: 50%;\n",
              "      cursor: pointer;\n",
              "      display: none;\n",
              "      fill: #1967D2;\n",
              "      height: 32px;\n",
              "      padding: 0 0 0 0;\n",
              "      width: 32px;\n",
              "    }\n",
              "\n",
              "    .colab-df-convert:hover {\n",
              "      background-color: #E2EBFA;\n",
              "      box-shadow: 0px 1px 2px rgba(60, 64, 67, 0.3), 0px 1px 3px 1px rgba(60, 64, 67, 0.15);\n",
              "      fill: #174EA6;\n",
              "    }\n",
              "\n",
              "    [theme=dark] .colab-df-convert {\n",
              "      background-color: #3B4455;\n",
              "      fill: #D2E3FC;\n",
              "    }\n",
              "\n",
              "    [theme=dark] .colab-df-convert:hover {\n",
              "      background-color: #434B5C;\n",
              "      box-shadow: 0px 1px 3px 1px rgba(0, 0, 0, 0.15);\n",
              "      filter: drop-shadow(0px 1px 2px rgba(0, 0, 0, 0.3));\n",
              "      fill: #FFFFFF;\n",
              "    }\n",
              "  </style>\n",
              "\n",
              "      <script>\n",
              "        const buttonEl =\n",
              "          document.querySelector('#df-066dc94b-5538-463b-b2db-9136dfcc8c71 button.colab-df-convert');\n",
              "        buttonEl.style.display =\n",
              "          google.colab.kernel.accessAllowed ? 'block' : 'none';\n",
              "\n",
              "        async function convertToInteractive(key) {\n",
              "          const element = document.querySelector('#df-066dc94b-5538-463b-b2db-9136dfcc8c71');\n",
              "          const dataTable =\n",
              "            await google.colab.kernel.invokeFunction('convertToInteractive',\n",
              "                                                     [key], {});\n",
              "          if (!dataTable) return;\n",
              "\n",
              "          const docLinkHtml = 'Like what you see? Visit the ' +\n",
              "            '<a target=\"_blank\" href=https://colab.research.google.com/notebooks/data_table.ipynb>data table notebook</a>'\n",
              "            + ' to learn more about interactive tables.';\n",
              "          element.innerHTML = '';\n",
              "          dataTable['output_type'] = 'display_data';\n",
              "          await google.colab.output.renderOutput(dataTable, element);\n",
              "          const docLink = document.createElement('div');\n",
              "          docLink.innerHTML = docLinkHtml;\n",
              "          element.appendChild(docLink);\n",
              "        }\n",
              "      </script>\n",
              "    </div>\n",
              "  </div>\n",
              "  "
            ]
          },
          "metadata": {},
          "execution_count": 125
        }
      ]
    },
    {
      "cell_type": "markdown",
      "source": [
        "Какая книга последняя в отсортированном списке? Ответ: Old School (Diary of a Wimpy Kid #10) \t"
      ],
      "metadata": {
        "id": "MkG7CIGpH2c3"
      }
    },
    {
      "cell_type": "markdown",
      "source": [
        "# Агрегирование данных и соединения таблиц"
      ],
      "metadata": {
        "id": "8dlPOfttIp81"
      }
    },
    {
      "cell_type": "code",
      "source": [
        "df.groupby('genre').price.agg(['min', 'max'])"
      ],
      "metadata": {
        "colab": {
          "base_uri": "https://localhost:8080/",
          "height": 143
        },
        "id": "B_jQeOQLIrvE",
        "outputId": "c3dba075-03cb-433d-dcba-ae9ca9200264"
      },
      "execution_count": 126,
      "outputs": [
        {
          "output_type": "execute_result",
          "data": {
            "text/plain": [
              "             min  max\n",
              "genre                \n",
              "Fiction        0   82\n",
              "Non Fiction    0  105"
            ],
            "text/html": [
              "\n",
              "  <div id=\"df-27613e7b-f537-41a3-9c0a-877a727c2e78\">\n",
              "    <div class=\"colab-df-container\">\n",
              "      <div>\n",
              "<style scoped>\n",
              "    .dataframe tbody tr th:only-of-type {\n",
              "        vertical-align: middle;\n",
              "    }\n",
              "\n",
              "    .dataframe tbody tr th {\n",
              "        vertical-align: top;\n",
              "    }\n",
              "\n",
              "    .dataframe thead th {\n",
              "        text-align: right;\n",
              "    }\n",
              "</style>\n",
              "<table border=\"1\" class=\"dataframe\">\n",
              "  <thead>\n",
              "    <tr style=\"text-align: right;\">\n",
              "      <th></th>\n",
              "      <th>min</th>\n",
              "      <th>max</th>\n",
              "    </tr>\n",
              "    <tr>\n",
              "      <th>genre</th>\n",
              "      <th></th>\n",
              "      <th></th>\n",
              "    </tr>\n",
              "  </thead>\n",
              "  <tbody>\n",
              "    <tr>\n",
              "      <th>Fiction</th>\n",
              "      <td>0</td>\n",
              "      <td>82</td>\n",
              "    </tr>\n",
              "    <tr>\n",
              "      <th>Non Fiction</th>\n",
              "      <td>0</td>\n",
              "      <td>105</td>\n",
              "    </tr>\n",
              "  </tbody>\n",
              "</table>\n",
              "</div>\n",
              "      <button class=\"colab-df-convert\" onclick=\"convertToInteractive('df-27613e7b-f537-41a3-9c0a-877a727c2e78')\"\n",
              "              title=\"Convert this dataframe to an interactive table.\"\n",
              "              style=\"display:none;\">\n",
              "        \n",
              "  <svg xmlns=\"http://www.w3.org/2000/svg\" height=\"24px\"viewBox=\"0 0 24 24\"\n",
              "       width=\"24px\">\n",
              "    <path d=\"M0 0h24v24H0V0z\" fill=\"none\"/>\n",
              "    <path d=\"M18.56 5.44l.94 2.06.94-2.06 2.06-.94-2.06-.94-.94-2.06-.94 2.06-2.06.94zm-11 1L8.5 8.5l.94-2.06 2.06-.94-2.06-.94L8.5 2.5l-.94 2.06-2.06.94zm10 10l.94 2.06.94-2.06 2.06-.94-2.06-.94-.94-2.06-.94 2.06-2.06.94z\"/><path d=\"M17.41 7.96l-1.37-1.37c-.4-.4-.92-.59-1.43-.59-.52 0-1.04.2-1.43.59L10.3 9.45l-7.72 7.72c-.78.78-.78 2.05 0 2.83L4 21.41c.39.39.9.59 1.41.59.51 0 1.02-.2 1.41-.59l7.78-7.78 2.81-2.81c.8-.78.8-2.07 0-2.86zM5.41 20L4 18.59l7.72-7.72 1.47 1.35L5.41 20z\"/>\n",
              "  </svg>\n",
              "      </button>\n",
              "      \n",
              "  <style>\n",
              "    .colab-df-container {\n",
              "      display:flex;\n",
              "      flex-wrap:wrap;\n",
              "      gap: 12px;\n",
              "    }\n",
              "\n",
              "    .colab-df-convert {\n",
              "      background-color: #E8F0FE;\n",
              "      border: none;\n",
              "      border-radius: 50%;\n",
              "      cursor: pointer;\n",
              "      display: none;\n",
              "      fill: #1967D2;\n",
              "      height: 32px;\n",
              "      padding: 0 0 0 0;\n",
              "      width: 32px;\n",
              "    }\n",
              "\n",
              "    .colab-df-convert:hover {\n",
              "      background-color: #E2EBFA;\n",
              "      box-shadow: 0px 1px 2px rgba(60, 64, 67, 0.3), 0px 1px 3px 1px rgba(60, 64, 67, 0.15);\n",
              "      fill: #174EA6;\n",
              "    }\n",
              "\n",
              "    [theme=dark] .colab-df-convert {\n",
              "      background-color: #3B4455;\n",
              "      fill: #D2E3FC;\n",
              "    }\n",
              "\n",
              "    [theme=dark] .colab-df-convert:hover {\n",
              "      background-color: #434B5C;\n",
              "      box-shadow: 0px 1px 3px 1px rgba(0, 0, 0, 0.15);\n",
              "      filter: drop-shadow(0px 1px 2px rgba(0, 0, 0, 0.3));\n",
              "      fill: #FFFFFF;\n",
              "    }\n",
              "  </style>\n",
              "\n",
              "      <script>\n",
              "        const buttonEl =\n",
              "          document.querySelector('#df-27613e7b-f537-41a3-9c0a-877a727c2e78 button.colab-df-convert');\n",
              "        buttonEl.style.display =\n",
              "          google.colab.kernel.accessAllowed ? 'block' : 'none';\n",
              "\n",
              "        async function convertToInteractive(key) {\n",
              "          const element = document.querySelector('#df-27613e7b-f537-41a3-9c0a-877a727c2e78');\n",
              "          const dataTable =\n",
              "            await google.colab.kernel.invokeFunction('convertToInteractive',\n",
              "                                                     [key], {});\n",
              "          if (!dataTable) return;\n",
              "\n",
              "          const docLinkHtml = 'Like what you see? Visit the ' +\n",
              "            '<a target=\"_blank\" href=https://colab.research.google.com/notebooks/data_table.ipynb>data table notebook</a>'\n",
              "            + ' to learn more about interactive tables.';\n",
              "          element.innerHTML = '';\n",
              "          dataTable['output_type'] = 'display_data';\n",
              "          await google.colab.output.renderOutput(dataTable, element);\n",
              "          const docLink = document.createElement('div');\n",
              "          docLink.innerHTML = docLinkHtml;\n",
              "          element.appendChild(docLink);\n",
              "        }\n",
              "      </script>\n",
              "    </div>\n",
              "  </div>\n",
              "  "
            ]
          },
          "metadata": {},
          "execution_count": 126
        }
      ]
    },
    {
      "cell_type": "markdown",
      "source": [
        "Максимальная цена для жанра Fiction: Ответ: 82"
      ],
      "metadata": {
        "id": "QUVAJ8h2REAY"
      }
    },
    {
      "cell_type": "markdown",
      "source": [
        "Минимальная цена для жанра Fiction: Ответ 0"
      ],
      "metadata": {
        "id": "itv-P1mwRGu3"
      }
    },
    {
      "cell_type": "markdown",
      "source": [
        "Максимальная цена для жанра Non Fiction: Ответ: 105"
      ],
      "metadata": {
        "id": "PWasDBJURPdO"
      }
    },
    {
      "cell_type": "markdown",
      "source": [
        "Минимальная цена для жанра Non Fiction: Ответ: 0"
      ],
      "metadata": {
        "id": "0KtGjEH7RTK2"
      }
    },
    {
      "cell_type": "code",
      "source": [
        "s = df.loc[~df.duplicated(subset=['name'])] \\\n",
        ".groupby(['author'])['name'].agg(['count']) \\\n",
        ".sort_values('count')['count']\n",
        "df_count_book = pd.DataFrame(s, columns=[\"count\"])\n",
        "print(df_count_book.shape)\n",
        "print(df_count_book)"
      ],
      "metadata": {
        "colab": {
          "base_uri": "https://localhost:8080/"
        },
        "id": "GgizX9stRV1Q",
        "outputId": "4f1e3900-8223-4bf5-bbc8-a2ba233afaf3"
      },
      "execution_count": 127,
      "outputs": [
        {
          "output_type": "stream",
          "name": "stdout",
          "text": [
            "(248, 1)\n",
            "                     count\n",
            "author                    \n",
            "Abraham Verghese         1\n",
            "M Prefontaine            1\n",
            "Madeleine L'Engle        1\n",
            "Margaret Atwood          1\n",
            "Margaret Wise Brown      1\n",
            "...                    ...\n",
            "Bill O'Reilly            6\n",
            "Dav Pilkey               6\n",
            "Stephenie Meyer          7\n",
            "Rick Riordan            10\n",
            "Jeff Kinney             12\n",
            "\n",
            "[248 rows x 1 columns]\n"
          ]
        }
      ]
    },
    {
      "cell_type": "markdown",
      "source": [
        "Какой размерности вышла таблица? Ответ: 248 x 2"
      ],
      "metadata": {
        "id": "Hpdm3_NtzLls"
      }
    },
    {
      "cell_type": "markdown",
      "source": [
        "У какого автора больше всего книг? Ответ: Jeff Kinney"
      ],
      "metadata": {
        "id": "Y-AzIp5uzTRi"
      }
    },
    {
      "cell_type": "markdown",
      "source": [
        "Сколько книг у этого автора? Ответ: 12"
      ],
      "metadata": {
        "id": "e6wahfJ3zaBs"
      }
    },
    {
      "cell_type": "markdown",
      "source": [],
      "metadata": {
        "id": "5wMXBIp7RKL-"
      }
    },
    {
      "cell_type": "code",
      "source": [
        "s = df.loc[~df.duplicated(subset=['name'])] \\\n",
        ".groupby(['author'])['user_rating'].agg(['mean']) \\\n",
        ".sort_values('mean')['mean']\n",
        "df_mean_rating = pd.DataFrame(s, columns=[\"mean\"])\n",
        "print(df_mean_rating.shape)\n",
        "print(df_mean_rating)"
      ],
      "metadata": {
        "colab": {
          "base_uri": "https://localhost:8080/"
        },
        "id": "oSb2yKdPuiMa",
        "outputId": "c528650c-e9e8-4925-971f-a16e381edd7e"
      },
      "execution_count": 128,
      "outputs": [
        {
          "output_type": "stream",
          "name": "stdout",
          "text": [
            "(248, 1)\n",
            "                      mean\n",
            "author                    \n",
            "Donna Tartt            3.9\n",
            "Muriel Barbery         4.0\n",
            "Gillian Flynn          4.0\n",
            "Gallup                 4.0\n",
            "Ian K. Smith M.D.      4.1\n",
            "...                    ...\n",
            "Sherri Duskey Rinker   4.9\n",
            "Bill Martin Jr.        4.9\n",
            "Dav Pilkey             4.9\n",
            "Patrick Thorpe         4.9\n",
            "Jill Twiss             4.9\n",
            "\n",
            "[248 rows x 1 columns]\n"
          ]
        }
      ]
    },
    {
      "cell_type": "markdown",
      "source": [
        "У какого автора средний рейтинг минимальный? Ответ: Donna Tartt"
      ],
      "metadata": {
        "id": "2nnPQ7Je0qUZ"
      }
    },
    {
      "cell_type": "markdown",
      "source": [
        "Какой у этого автора средний рейтинг? Ответ: 3.9"
      ],
      "metadata": {
        "id": "YhrX18QW0uni"
      }
    },
    {
      "cell_type": "code",
      "source": [
        "df_concat = pd.concat([df_count_book, df_mean_rating], axis=1)\n",
        "df_concat.sort_values(by=['count', 'mean'])\n",
        "# print(df_concat)"
      ],
      "metadata": {
        "colab": {
          "base_uri": "https://localhost:8080/",
          "height": 455
        },
        "id": "unyOEWX01U5Y",
        "outputId": "40a404d5-61b6-4c1c-cdc7-035bc6243318"
      },
      "execution_count": 129,
      "outputs": [
        {
          "output_type": "execute_result",
          "data": {
            "text/plain": [
              "                 count      mean\n",
              "author                          \n",
              "Donna Tartt          1  3.900000\n",
              "Muriel Barbery       1  4.000000\n",
              "Gillian Flynn        1  4.000000\n",
              "Gallup               1  4.000000\n",
              "Paula Hawkins        1  4.100000\n",
              "...                ...       ...\n",
              "Bill O'Reilly        6  4.633333\n",
              "Dav Pilkey           6  4.900000\n",
              "Stephenie Meyer      7  4.657143\n",
              "Rick Riordan        10  4.770000\n",
              "Jeff Kinney         12  4.800000\n",
              "\n",
              "[248 rows x 2 columns]"
            ],
            "text/html": [
              "\n",
              "  <div id=\"df-108c6e6f-8430-4b26-8bf6-427cd2dfa8db\">\n",
              "    <div class=\"colab-df-container\">\n",
              "      <div>\n",
              "<style scoped>\n",
              "    .dataframe tbody tr th:only-of-type {\n",
              "        vertical-align: middle;\n",
              "    }\n",
              "\n",
              "    .dataframe tbody tr th {\n",
              "        vertical-align: top;\n",
              "    }\n",
              "\n",
              "    .dataframe thead th {\n",
              "        text-align: right;\n",
              "    }\n",
              "</style>\n",
              "<table border=\"1\" class=\"dataframe\">\n",
              "  <thead>\n",
              "    <tr style=\"text-align: right;\">\n",
              "      <th></th>\n",
              "      <th>count</th>\n",
              "      <th>mean</th>\n",
              "    </tr>\n",
              "    <tr>\n",
              "      <th>author</th>\n",
              "      <th></th>\n",
              "      <th></th>\n",
              "    </tr>\n",
              "  </thead>\n",
              "  <tbody>\n",
              "    <tr>\n",
              "      <th>Donna Tartt</th>\n",
              "      <td>1</td>\n",
              "      <td>3.900000</td>\n",
              "    </tr>\n",
              "    <tr>\n",
              "      <th>Muriel Barbery</th>\n",
              "      <td>1</td>\n",
              "      <td>4.000000</td>\n",
              "    </tr>\n",
              "    <tr>\n",
              "      <th>Gillian Flynn</th>\n",
              "      <td>1</td>\n",
              "      <td>4.000000</td>\n",
              "    </tr>\n",
              "    <tr>\n",
              "      <th>Gallup</th>\n",
              "      <td>1</td>\n",
              "      <td>4.000000</td>\n",
              "    </tr>\n",
              "    <tr>\n",
              "      <th>Paula Hawkins</th>\n",
              "      <td>1</td>\n",
              "      <td>4.100000</td>\n",
              "    </tr>\n",
              "    <tr>\n",
              "      <th>...</th>\n",
              "      <td>...</td>\n",
              "      <td>...</td>\n",
              "    </tr>\n",
              "    <tr>\n",
              "      <th>Bill O'Reilly</th>\n",
              "      <td>6</td>\n",
              "      <td>4.633333</td>\n",
              "    </tr>\n",
              "    <tr>\n",
              "      <th>Dav Pilkey</th>\n",
              "      <td>6</td>\n",
              "      <td>4.900000</td>\n",
              "    </tr>\n",
              "    <tr>\n",
              "      <th>Stephenie Meyer</th>\n",
              "      <td>7</td>\n",
              "      <td>4.657143</td>\n",
              "    </tr>\n",
              "    <tr>\n",
              "      <th>Rick Riordan</th>\n",
              "      <td>10</td>\n",
              "      <td>4.770000</td>\n",
              "    </tr>\n",
              "    <tr>\n",
              "      <th>Jeff Kinney</th>\n",
              "      <td>12</td>\n",
              "      <td>4.800000</td>\n",
              "    </tr>\n",
              "  </tbody>\n",
              "</table>\n",
              "<p>248 rows × 2 columns</p>\n",
              "</div>\n",
              "      <button class=\"colab-df-convert\" onclick=\"convertToInteractive('df-108c6e6f-8430-4b26-8bf6-427cd2dfa8db')\"\n",
              "              title=\"Convert this dataframe to an interactive table.\"\n",
              "              style=\"display:none;\">\n",
              "        \n",
              "  <svg xmlns=\"http://www.w3.org/2000/svg\" height=\"24px\"viewBox=\"0 0 24 24\"\n",
              "       width=\"24px\">\n",
              "    <path d=\"M0 0h24v24H0V0z\" fill=\"none\"/>\n",
              "    <path d=\"M18.56 5.44l.94 2.06.94-2.06 2.06-.94-2.06-.94-.94-2.06-.94 2.06-2.06.94zm-11 1L8.5 8.5l.94-2.06 2.06-.94-2.06-.94L8.5 2.5l-.94 2.06-2.06.94zm10 10l.94 2.06.94-2.06 2.06-.94-2.06-.94-.94-2.06-.94 2.06-2.06.94z\"/><path d=\"M17.41 7.96l-1.37-1.37c-.4-.4-.92-.59-1.43-.59-.52 0-1.04.2-1.43.59L10.3 9.45l-7.72 7.72c-.78.78-.78 2.05 0 2.83L4 21.41c.39.39.9.59 1.41.59.51 0 1.02-.2 1.41-.59l7.78-7.78 2.81-2.81c.8-.78.8-2.07 0-2.86zM5.41 20L4 18.59l7.72-7.72 1.47 1.35L5.41 20z\"/>\n",
              "  </svg>\n",
              "      </button>\n",
              "      \n",
              "  <style>\n",
              "    .colab-df-container {\n",
              "      display:flex;\n",
              "      flex-wrap:wrap;\n",
              "      gap: 12px;\n",
              "    }\n",
              "\n",
              "    .colab-df-convert {\n",
              "      background-color: #E8F0FE;\n",
              "      border: none;\n",
              "      border-radius: 50%;\n",
              "      cursor: pointer;\n",
              "      display: none;\n",
              "      fill: #1967D2;\n",
              "      height: 32px;\n",
              "      padding: 0 0 0 0;\n",
              "      width: 32px;\n",
              "    }\n",
              "\n",
              "    .colab-df-convert:hover {\n",
              "      background-color: #E2EBFA;\n",
              "      box-shadow: 0px 1px 2px rgba(60, 64, 67, 0.3), 0px 1px 3px 1px rgba(60, 64, 67, 0.15);\n",
              "      fill: #174EA6;\n",
              "    }\n",
              "\n",
              "    [theme=dark] .colab-df-convert {\n",
              "      background-color: #3B4455;\n",
              "      fill: #D2E3FC;\n",
              "    }\n",
              "\n",
              "    [theme=dark] .colab-df-convert:hover {\n",
              "      background-color: #434B5C;\n",
              "      box-shadow: 0px 1px 3px 1px rgba(0, 0, 0, 0.15);\n",
              "      filter: drop-shadow(0px 1px 2px rgba(0, 0, 0, 0.3));\n",
              "      fill: #FFFFFF;\n",
              "    }\n",
              "  </style>\n",
              "\n",
              "      <script>\n",
              "        const buttonEl =\n",
              "          document.querySelector('#df-108c6e6f-8430-4b26-8bf6-427cd2dfa8db button.colab-df-convert');\n",
              "        buttonEl.style.display =\n",
              "          google.colab.kernel.accessAllowed ? 'block' : 'none';\n",
              "\n",
              "        async function convertToInteractive(key) {\n",
              "          const element = document.querySelector('#df-108c6e6f-8430-4b26-8bf6-427cd2dfa8db');\n",
              "          const dataTable =\n",
              "            await google.colab.kernel.invokeFunction('convertToInteractive',\n",
              "                                                     [key], {});\n",
              "          if (!dataTable) return;\n",
              "\n",
              "          const docLinkHtml = 'Like what you see? Visit the ' +\n",
              "            '<a target=\"_blank\" href=https://colab.research.google.com/notebooks/data_table.ipynb>data table notebook</a>'\n",
              "            + ' to learn more about interactive tables.';\n",
              "          element.innerHTML = '';\n",
              "          dataTable['output_type'] = 'display_data';\n",
              "          await google.colab.output.renderOutput(dataTable, element);\n",
              "          const docLink = document.createElement('div');\n",
              "          docLink.innerHTML = docLinkHtml;\n",
              "          element.appendChild(docLink);\n",
              "        }\n",
              "      </script>\n",
              "    </div>\n",
              "  </div>\n",
              "  "
            ]
          },
          "metadata": {},
          "execution_count": 129
        }
      ]
    },
    {
      "cell_type": "markdown",
      "source": [
        "Какой автор первый в списке? Ответ: Donna Tartt"
      ],
      "metadata": {
        "id": "ff9TfW5fS_zu"
      }
    },
    {
      "cell_type": "markdown",
      "source": [
        "# Визуализация данных"
      ],
      "metadata": {
        "id": "rLH9FuYe6SHq"
      }
    },
    {
      "cell_type": "code",
      "source": [
        "import seaborn as sns"
      ],
      "metadata": {
        "id": "b6hnlzgN7_6v"
      },
      "execution_count": 130,
      "outputs": []
    },
    {
      "cell_type": "code",
      "source": [
        "df.head(5)"
      ],
      "metadata": {
        "colab": {
          "base_uri": "https://localhost:8080/",
          "height": 206
        },
        "id": "pyAAunba8VT2",
        "outputId": "4f899020-10e8-4236-be6d-23ff5b546700"
      },
      "execution_count": 131,
      "outputs": [
        {
          "output_type": "execute_result",
          "data": {
            "text/plain": [
              "                                                name  \\\n",
              "0                      10-Day Green Smoothie Cleanse   \n",
              "1                                  11/22/63: A Novel   \n",
              "2            12 Rules for Life: An Antidote to Chaos   \n",
              "3                             1984 (Signet Classics)   \n",
              "4  5,000 Awesome Facts (About Everything!) (Natio...   \n",
              "\n",
              "                     author  user_rating  reviews  price  year        genre  \n",
              "0                  JJ Smith          4.7    17350      8  2016  Non Fiction  \n",
              "1              Stephen King          4.6     2052     22  2011      Fiction  \n",
              "2        Jordan B. Peterson          4.7    18979     15  2018  Non Fiction  \n",
              "3             George Orwell          4.7    21424      6  2017      Fiction  \n",
              "4  National Geographic Kids          4.8     7665     12  2019  Non Fiction  "
            ],
            "text/html": [
              "\n",
              "  <div id=\"df-e4b31259-db0c-47c3-838e-6eb9912d8c19\">\n",
              "    <div class=\"colab-df-container\">\n",
              "      <div>\n",
              "<style scoped>\n",
              "    .dataframe tbody tr th:only-of-type {\n",
              "        vertical-align: middle;\n",
              "    }\n",
              "\n",
              "    .dataframe tbody tr th {\n",
              "        vertical-align: top;\n",
              "    }\n",
              "\n",
              "    .dataframe thead th {\n",
              "        text-align: right;\n",
              "    }\n",
              "</style>\n",
              "<table border=\"1\" class=\"dataframe\">\n",
              "  <thead>\n",
              "    <tr style=\"text-align: right;\">\n",
              "      <th></th>\n",
              "      <th>name</th>\n",
              "      <th>author</th>\n",
              "      <th>user_rating</th>\n",
              "      <th>reviews</th>\n",
              "      <th>price</th>\n",
              "      <th>year</th>\n",
              "      <th>genre</th>\n",
              "    </tr>\n",
              "  </thead>\n",
              "  <tbody>\n",
              "    <tr>\n",
              "      <th>0</th>\n",
              "      <td>10-Day Green Smoothie Cleanse</td>\n",
              "      <td>JJ Smith</td>\n",
              "      <td>4.7</td>\n",
              "      <td>17350</td>\n",
              "      <td>8</td>\n",
              "      <td>2016</td>\n",
              "      <td>Non Fiction</td>\n",
              "    </tr>\n",
              "    <tr>\n",
              "      <th>1</th>\n",
              "      <td>11/22/63: A Novel</td>\n",
              "      <td>Stephen King</td>\n",
              "      <td>4.6</td>\n",
              "      <td>2052</td>\n",
              "      <td>22</td>\n",
              "      <td>2011</td>\n",
              "      <td>Fiction</td>\n",
              "    </tr>\n",
              "    <tr>\n",
              "      <th>2</th>\n",
              "      <td>12 Rules for Life: An Antidote to Chaos</td>\n",
              "      <td>Jordan B. Peterson</td>\n",
              "      <td>4.7</td>\n",
              "      <td>18979</td>\n",
              "      <td>15</td>\n",
              "      <td>2018</td>\n",
              "      <td>Non Fiction</td>\n",
              "    </tr>\n",
              "    <tr>\n",
              "      <th>3</th>\n",
              "      <td>1984 (Signet Classics)</td>\n",
              "      <td>George Orwell</td>\n",
              "      <td>4.7</td>\n",
              "      <td>21424</td>\n",
              "      <td>6</td>\n",
              "      <td>2017</td>\n",
              "      <td>Fiction</td>\n",
              "    </tr>\n",
              "    <tr>\n",
              "      <th>4</th>\n",
              "      <td>5,000 Awesome Facts (About Everything!) (Natio...</td>\n",
              "      <td>National Geographic Kids</td>\n",
              "      <td>4.8</td>\n",
              "      <td>7665</td>\n",
              "      <td>12</td>\n",
              "      <td>2019</td>\n",
              "      <td>Non Fiction</td>\n",
              "    </tr>\n",
              "  </tbody>\n",
              "</table>\n",
              "</div>\n",
              "      <button class=\"colab-df-convert\" onclick=\"convertToInteractive('df-e4b31259-db0c-47c3-838e-6eb9912d8c19')\"\n",
              "              title=\"Convert this dataframe to an interactive table.\"\n",
              "              style=\"display:none;\">\n",
              "        \n",
              "  <svg xmlns=\"http://www.w3.org/2000/svg\" height=\"24px\"viewBox=\"0 0 24 24\"\n",
              "       width=\"24px\">\n",
              "    <path d=\"M0 0h24v24H0V0z\" fill=\"none\"/>\n",
              "    <path d=\"M18.56 5.44l.94 2.06.94-2.06 2.06-.94-2.06-.94-.94-2.06-.94 2.06-2.06.94zm-11 1L8.5 8.5l.94-2.06 2.06-.94-2.06-.94L8.5 2.5l-.94 2.06-2.06.94zm10 10l.94 2.06.94-2.06 2.06-.94-2.06-.94-.94-2.06-.94 2.06-2.06.94z\"/><path d=\"M17.41 7.96l-1.37-1.37c-.4-.4-.92-.59-1.43-.59-.52 0-1.04.2-1.43.59L10.3 9.45l-7.72 7.72c-.78.78-.78 2.05 0 2.83L4 21.41c.39.39.9.59 1.41.59.51 0 1.02-.2 1.41-.59l7.78-7.78 2.81-2.81c.8-.78.8-2.07 0-2.86zM5.41 20L4 18.59l7.72-7.72 1.47 1.35L5.41 20z\"/>\n",
              "  </svg>\n",
              "      </button>\n",
              "      \n",
              "  <style>\n",
              "    .colab-df-container {\n",
              "      display:flex;\n",
              "      flex-wrap:wrap;\n",
              "      gap: 12px;\n",
              "    }\n",
              "\n",
              "    .colab-df-convert {\n",
              "      background-color: #E8F0FE;\n",
              "      border: none;\n",
              "      border-radius: 50%;\n",
              "      cursor: pointer;\n",
              "      display: none;\n",
              "      fill: #1967D2;\n",
              "      height: 32px;\n",
              "      padding: 0 0 0 0;\n",
              "      width: 32px;\n",
              "    }\n",
              "\n",
              "    .colab-df-convert:hover {\n",
              "      background-color: #E2EBFA;\n",
              "      box-shadow: 0px 1px 2px rgba(60, 64, 67, 0.3), 0px 1px 3px 1px rgba(60, 64, 67, 0.15);\n",
              "      fill: #174EA6;\n",
              "    }\n",
              "\n",
              "    [theme=dark] .colab-df-convert {\n",
              "      background-color: #3B4455;\n",
              "      fill: #D2E3FC;\n",
              "    }\n",
              "\n",
              "    [theme=dark] .colab-df-convert:hover {\n",
              "      background-color: #434B5C;\n",
              "      box-shadow: 0px 1px 3px 1px rgba(0, 0, 0, 0.15);\n",
              "      filter: drop-shadow(0px 1px 2px rgba(0, 0, 0, 0.3));\n",
              "      fill: #FFFFFF;\n",
              "    }\n",
              "  </style>\n",
              "\n",
              "      <script>\n",
              "        const buttonEl =\n",
              "          document.querySelector('#df-e4b31259-db0c-47c3-838e-6eb9912d8c19 button.colab-df-convert');\n",
              "        buttonEl.style.display =\n",
              "          google.colab.kernel.accessAllowed ? 'block' : 'none';\n",
              "\n",
              "        async function convertToInteractive(key) {\n",
              "          const element = document.querySelector('#df-e4b31259-db0c-47c3-838e-6eb9912d8c19');\n",
              "          const dataTable =\n",
              "            await google.colab.kernel.invokeFunction('convertToInteractive',\n",
              "                                                     [key], {});\n",
              "          if (!dataTable) return;\n",
              "\n",
              "          const docLinkHtml = 'Like what you see? Visit the ' +\n",
              "            '<a target=\"_blank\" href=https://colab.research.google.com/notebooks/data_table.ipynb>data table notebook</a>'\n",
              "            + ' to learn more about interactive tables.';\n",
              "          element.innerHTML = '';\n",
              "          dataTable['output_type'] = 'display_data';\n",
              "          await google.colab.output.renderOutput(dataTable, element);\n",
              "          const docLink = document.createElement('div');\n",
              "          docLink.innerHTML = docLinkHtml;\n",
              "          element.appendChild(docLink);\n",
              "        }\n",
              "      </script>\n",
              "    </div>\n",
              "  </div>\n",
              "  "
            ]
          },
          "metadata": {},
          "execution_count": 131
        }
      ]
    },
    {
      "cell_type": "code",
      "source": [
        "%matplotlib inline\n",
        "df_no_duplicated = df.loc[~df.duplicated(subset=['name'])].copy()\n",
        "plt.figure(figsize = (12,7))\n",
        "sns.set_context(\"poster\")\n",
        "sns.set_style(\"darkgrid\")\n",
        "sns.countplot(x='user_rating', data=df_no_duplicated)\n",
        "plt.show()"
      ],
      "metadata": {
        "colab": {
          "base_uri": "https://localhost:8080/",
          "height": 476
        },
        "id": "l3X5BIbs6ZJj",
        "outputId": "5cfffb20-14d2-49ba-aad8-718da63d8563"
      },
      "execution_count": 132,
      "outputs": [
        {
          "output_type": "display_data",
          "data": {
            "text/plain": [
              "<Figure size 864x504 with 1 Axes>"
            ],
            "image/png": "[encoded data removed]"
          },
          "metadata": {
            "needs_background": "light"
          }
        }
      ]
    },
    {
      "cell_type": "code",
      "source": [
        "%matplotlib inline\n",
        "plt.figure(figsize = (12,8))\n",
        "sns.set_context(\"paper\")\n",
        "sns.set_style(\"ticks\",  {'axes.labelcolor':\"(0.6,0.6,0)\", \n",
        "                         'axes.edgecolor':'grey', \n",
        "                         'ytick.color':'grey', \n",
        "                         'xtick.color':'green', \n",
        "                         'axes.grid': True,\n",
        "                         'grid.color': '(0.8,0.8,0)', \n",
        "                         'grid.linestyle': '--'\n",
        "                         })\n",
        "sns.lineplot(x=\"user_rating\", y=\"price\", data=df_no_duplicated)\n",
        "sns.despine()"
      ],
      "metadata": {
        "colab": {
          "base_uri": "https://localhost:8080/",
          "height": 498
        },
        "id": "tFls3CGggBr6",
        "outputId": "15e7b116-3f2e-481d-cf13-2f15eb1bdadc"
      },
      "execution_count": 133,
      "outputs": [
        {
          "output_type": "display_data",
          "data": {
            "text/plain": [
              "<Figure size 864x576 with 1 Axes>"
            ],
            "image/png": "[encoded data removed]"
          },
          "metadata": {}
        }
      ]
    },
    {
      "cell_type": "code",
      "source": [
        "%matplotlib inline\n",
        "sns.set_style(\"whitegrid\")\n",
        "sns.set_context(\"talk\")\n",
        "sns.lmplot(x=\"user_rating\", y=\"reviews\", hue=\"genre\", col=\"genre\", data=df_no_duplicated, height=6 , aspect=1)\n",
        "plt.show()"
      ],
      "metadata": {
        "colab": {
          "base_uri": "https://localhost:8080/",
          "height": 424
        },
        "id": "VlYd9-0Mhuog",
        "outputId": "674114e2-0d02-429e-afff-0e9630bef9d5"
      },
      "execution_count": 134,
      "outputs": [
        {
          "output_type": "display_data",
          "data": {
            "text/plain": [
              "<Figure size 864x432 with 2 Axes>"
            ],
            "image/png": "[encoded data removed]"
          },
          "metadata": {}
        }
      ]
    },
    {
      "cell_type": "code",
      "source": [
        "%matplotlib inline\n",
        "plt.figure(figsize = (16,8))\n",
        "sns.set_context(\"talk\")\n",
        "sns.set_style(\"white\", {'axes.labelcolor':\"green\", \n",
        "                         'axes.edgecolor':'green', \n",
        "                         'ytick.color':'green', \n",
        "                         'xtick.color':'green', \n",
        "                         'axes.grid': True,\n",
        "                         'grid.color': 'grey', \n",
        "                         'grid.linestyle': '--'\n",
        "                         })\n",
        "sns.stripplot(data=df, x=\"year\", y=\"reviews\", hue=\"genre\")\n",
        "plt.show()"
      ],
      "metadata": {
        "colab": {
          "base_uri": "https://localhost:8080/",
          "height": 518
        },
        "id": "JUKPMW7SvUIY",
        "outputId": "0db6c8d8-00a2-4a33-ca52-13da02f95e67"
      },
      "execution_count": 135,
      "outputs": [
        {
          "output_type": "display_data",
          "data": {
            "text/plain": [
              "<Figure size 1152x576 with 1 Axes>"
            ],
            "image/png": "[encoded data removed]"
          },
          "metadata": {
            "needs_background": "light"
          }
        }
      ]
    },
    {
      "cell_type": "code",
      "source": [
        "import altair as alt\n",
        "%matplotlib inline\n",
        "alt.Chart(df).mark_point().encode(\n",
        "    x=alt.X('user_rating:Q', bin=alt.Bin(maxbins=30)),\n",
        "    y='reviews',\n",
        "    color='year:O',\n",
        ").properties(height=400, width=200\n",
        ").interactive()"
      ],
      "metadata": {
        "colab": {
          "base_uri": "https://localhost:8080/",
          "height": 468
        },
        "id": "ppwnJ02h6jdr",
        "outputId": "95bb563b-bdd3-444a-e1cc-fb8efcf06995"
      },
      "execution_count": 158,
      "outputs": [
        {
          "output_type": "execute_result",
          "data": {
            "text/html": [
              "\n",
              "<div id=\"altair-viz-ac5c49fc4e354cf2aebd0196c5ffc247\"></div>\n",
              "<script type=\"text/javascript\">\n",
              "  var VEGA_DEBUG = (typeof VEGA_DEBUG == \"undefined\") ? {} : VEGA_DEBUG;\n",
              "  (function(spec, embedOpt){\n",
              "    let outputDiv = document.currentScript.previousElementSibling;\n",
              "    if (outputDiv.id !== \"altair-viz-ac5c49fc4e354cf2aebd0196c5ffc247\") {\n",
              "      outputDiv = document.getElementById(\"altair-viz-ac5c49fc4e354cf2aebd0196c5ffc247\");\n",
              "    }\n",
              "    const paths = {\n",
              "      \"vega\": \"https://cdn.jsdelivr.net/npm//vega@5?noext\",\n",
              "      \"vega-lib\": \"https://cdn.jsdelivr.net/npm//vega-lib?noext\",\n",
              "      \"vega-lite\": \"https://cdn.jsdelivr.net/npm//vega-lite@4.17.0?noext\",\n",
              "      \"vega-embed\": \"https://cdn.jsdelivr.net/npm//vega-embed@6?noext\",\n",
              "    };\n",
              "\n",
              "    function maybeLoadScript(lib, version) {\n",
              "      var key = `${lib.replace(\"-\", \"\")}_version`;\n",
              "      return (VEGA_DEBUG[key] == version) ?\n",
              "        Promise.resolve(paths[lib]) :\n",
              "        new Promise(function(resolve, reject) {\n",
              "          var s = document.createElement('script');\n",
              "          document.getElementsByTagName(\"head\")[0].appendChild(s);\n",
              "          s.async = true;\n",
              "          s.onload = () => {\n",
              "            VEGA_DEBUG[key] = version;\n",
              "            return resolve(paths[lib]);\n",
              "          };\n",
              "          s.onerror = () => reject(`Error loading script: ${paths[lib]}`);\n",
              "          s.src = paths[lib];\n",
              "        });\n",
              "    }\n",
              "\n",
              "    function showError(err) {\n",
              "      outputDiv.innerHTML = `<div class=\"error\" style=\"color:red;\">${err}</div>`;\n",
              "      throw err;\n",
              "    }\n",
              "\n",
              "    function displayChart(vegaEmbed) {\n",
              "      vegaEmbed(outputDiv, spec, embedOpt)\n",
              "        .catch(err => showError(`Javascript Error: ${err.message}<br>This usually means there's a typo in your chart specification. See the javascript console for the full traceback.`));\n",
              "    }\n",
              "\n",
              "    if(typeof define === \"function\" && define.amd) {\n",
              "      requirejs.config({paths});\n",
              "      require([\"vega-embed\"], displayChart, err => showError(`Error loading script: ${err.message}`));\n",
              "    } else {\n",
              "      maybeLoadScript(\"vega\", \"5\")\n",
              "        .then(() => maybeLoadScript(\"vega-lite\", \"4.17.0\"))\n",
              "        .then(() => maybeLoadScript(\"vega-embed\", \"6\"))\n",
              "        .catch(showError)\n",
              "        .then(() => displayChart(vegaEmbed));\n",
              "    }\n",
              "  })({\"config\": {\"view\": {\"continuousWidth\": 400, \"continuousHeight\": 300}}, \"data\": {\"name\": \"data-37cfd9989c93a276c113fd1d7f691c11\"}, \"mark\": \"point\", \"encoding\": {\"color\": {\"field\": \"year\", \"type\": \"ordinal\"}, \"x\": {\"bin\": {\"maxbins\": 30}, \"field\": \"user_rating\", \"type\": \"quantitative\"}, \"y\": {\"field\": \"reviews\", \"type\": \"quantitative\"}}, \"height\": 400, \"selection\": {\"selector020\": {\"type\": \"interval\", \"bind\": \"scales\", \"encodings\": [\"x\", \"y\"]}}, \"width\": 200, \"$schema\": \"https://vega.github.io/schema/vega-lite/v4.17.0.json\", \"datasets\": {\"data-37cfd9989c93a276c113fd1d7f691c11\": [{\"name\": \"10-Day Green Smoothie Cleanse\", \"author\": \"JJ Smith\", \"user_rating\": 4.7, \"reviews\": 17350, \"price\": 8, \"year\": 2016, \"genre\": \"Non Fiction\"}, {\"name\": \"11/22/63: A Novel\", \"author\": \"Stephen King\", \"user_rating\": 4.6, \"reviews\": 2052, \"price\": 22, \"year\": 2011, \"genre\": \"Fiction\"}, {\"name\": \"12 Rules for Life: An Antidote to Chaos\", \"author\": \"Jordan B. Peterson\", \"user_rating\": 4.7, \"reviews\": 18979, \"price\": 15, \"year\": 2018, \"genre\": \"Non Fiction\"}, {\"name\": \"1984 (Signet Classics)\", \"author\": \"George Orwell\", \"user_rating\": 4.7, \"reviews\": 21424, \"price\": 6, \"year\": 2017, \"genre\": \"Fiction\"}, {\"name\": \"5,000 Awesome Facts (About Everything!) (National Geographic Kids)\", \"author\": \"National Geographic Kids\", \"user_rating\": 4.8, \"reviews\": 7665, \"price\": 12, \"year\": 2019, \"genre\": \"Non Fiction\"}, {\"name\": \"A Dance with Dragons (A Song of Ice and Fire)\", \"author\": \"George R. R. Martin\", \"user_rating\": 4.4, \"reviews\": 12643, \"price\": 11, \"year\": 2011, \"genre\": \"Fiction\"}, {\"name\": \"A Game of Thrones / A Clash of Kings / A Storm of Swords / A Feast of Crows / A Dance with Dragons\", \"author\": \"George R. R. Martin\", \"user_rating\": 4.7, \"reviews\": 19735, \"price\": 30, \"year\": 2014, \"genre\": \"Fiction\"}, {\"name\": \"A Gentleman in Moscow: A Novel\", \"author\": \"Amor Towles\", \"user_rating\": 4.7, \"reviews\": 19699, \"price\": 15, \"year\": 2017, \"genre\": \"Fiction\"}, {\"name\": \"A Higher Loyalty: Truth, Lies, and Leadership\", \"author\": \"James Comey\", \"user_rating\": 4.7, \"reviews\": 5983, \"price\": 3, \"year\": 2018, \"genre\": \"Non Fiction\"}, {\"name\": \"A Man Called Ove: A Novel\", \"author\": \"Fredrik Backman\", \"user_rating\": 4.6, \"reviews\": 23848, \"price\": 8, \"year\": 2016, \"genre\": \"Fiction\"}, {\"name\": \"A Man Called Ove: A Novel\", \"author\": \"Fredrik Backman\", \"user_rating\": 4.6, \"reviews\": 23848, \"price\": 8, \"year\": 2017, \"genre\": \"Fiction\"}, {\"name\": \"A Patriot's History of the United States: From Columbus's Great Discovery to the War on Terror\", \"author\": \"Larry Schweikart\", \"user_rating\": 4.6, \"reviews\": 460, \"price\": 2, \"year\": 2010, \"genre\": \"Non Fiction\"}, {\"name\": \"A Stolen Life: A Memoir\", \"author\": \"Jaycee Dugard\", \"user_rating\": 4.6, \"reviews\": 4149, \"price\": 32, \"year\": 2011, \"genre\": \"Non Fiction\"}, {\"name\": \"A Wrinkle in Time (Time Quintet)\", \"author\": \"Madeleine L'Engle\", \"user_rating\": 4.5, \"reviews\": 5153, \"price\": 5, \"year\": 2018, \"genre\": \"Fiction\"}, {\"name\": \"Act Like a Lady, Think Like a Man: What Men Really Think About Love, Relationships, Intimacy, and Commitment\", \"author\": \"Steve Harvey\", \"user_rating\": 4.6, \"reviews\": 5013, \"price\": 17, \"year\": 2009, \"genre\": \"Non Fiction\"}, {\"name\": \"Adult Coloring Book Designs: Stress Relief Coloring Book: Garden Designs, Mandalas, Animals, and Paisley Patterns\", \"author\": \"Adult Coloring Book Designs\", \"user_rating\": 4.5, \"reviews\": 2313, \"price\": 4, \"year\": 2016, \"genre\": \"Non Fiction\"}, {\"name\": \"Adult Coloring Book: Stress Relieving Animal Designs\", \"author\": \"Blue Star Coloring\", \"user_rating\": 4.6, \"reviews\": 2925, \"price\": 6, \"year\": 2015, \"genre\": \"Non Fiction\"}, {\"name\": \"Adult Coloring Book: Stress Relieving Patterns\", \"author\": \"Blue Star Coloring\", \"user_rating\": 4.4, \"reviews\": 2951, \"price\": 6, \"year\": 2015, \"genre\": \"Non Fiction\"}, {\"name\": \"Adult Coloring Books: A Coloring Book for Adults Featuring Mandalas and Henna Inspired Flowers, Animals, and Paisley\\u2026\", \"author\": \"Coloring Books for Adults\", \"user_rating\": 4.5, \"reviews\": 2426, \"price\": 8, \"year\": 2015, \"genre\": \"Non Fiction\"}, {\"name\": \"Alexander Hamilton\", \"author\": \"Ron Chernow\", \"user_rating\": 4.8, \"reviews\": 9198, \"price\": 13, \"year\": 2016, \"genre\": \"Non Fiction\"}, {\"name\": \"All the Light We Cannot See\", \"author\": \"Anthony Doerr\", \"user_rating\": 4.6, \"reviews\": 36348, \"price\": 14, \"year\": 2014, \"genre\": \"Fiction\"}, {\"name\": \"All the Light We Cannot See\", \"author\": \"Anthony Doerr\", \"user_rating\": 4.6, \"reviews\": 36348, \"price\": 14, \"year\": 2015, \"genre\": \"Fiction\"}, {\"name\": \"Allegiant\", \"author\": \"Veronica Roth\", \"user_rating\": 3.9, \"reviews\": 6310, \"price\": 13, \"year\": 2013, \"genre\": \"Fiction\"}, {\"name\": \"American Sniper: The Autobiography of the Most Lethal Sniper in U.S. Military History\", \"author\": \"Chris Kyle\", \"user_rating\": 4.6, \"reviews\": 15921, \"price\": 9, \"year\": 2015, \"genre\": \"Non Fiction\"}, {\"name\": \"And the Mountains Echoed\", \"author\": \"Khaled Hosseini\", \"user_rating\": 4.3, \"reviews\": 12159, \"price\": 13, \"year\": 2013, \"genre\": \"Fiction\"}, {\"name\": \"Arguing with Idiots: How to Stop Small Minds and Big Government\", \"author\": \"Glenn Beck\", \"user_rating\": 4.6, \"reviews\": 798, \"price\": 5, \"year\": 2009, \"genre\": \"Non Fiction\"}, {\"name\": \"Astrophysics for People in a Hurry\", \"author\": \"Neil deGrasse Tyson\", \"user_rating\": 4.7, \"reviews\": 9374, \"price\": 9, \"year\": 2017, \"genre\": \"Non Fiction\"}, {\"name\": \"Autobiography of Mark Twain, Vol. 1\", \"author\": \"Mark Twain\", \"user_rating\": 4.2, \"reviews\": 491, \"price\": 14, \"year\": 2010, \"genre\": \"Non Fiction\"}, {\"name\": \"Baby Touch and Feel: Animals\", \"author\": \"DK\", \"user_rating\": 4.6, \"reviews\": 5360, \"price\": 5, \"year\": 2015, \"genre\": \"Non Fiction\"}, {\"name\": \"Balance (Angie's Extreme Stress Menders)\", \"author\": \"Angie Grace\", \"user_rating\": 4.6, \"reviews\": 1909, \"price\": 11, \"year\": 2015, \"genre\": \"Non Fiction\"}, {\"name\": \"Barefoot Contessa Foolproof: Recipes You Can Trust: A Cookbook\", \"author\": \"Ina Garten\", \"user_rating\": 4.8, \"reviews\": 1296, \"price\": 24, \"year\": 2012, \"genre\": \"Non Fiction\"}, {\"name\": \"Barefoot Contessa, How Easy Is That?: Fabulous Recipes & Easy Tips\", \"author\": \"Ina Garten\", \"user_rating\": 4.7, \"reviews\": 615, \"price\": 21, \"year\": 2010, \"genre\": \"Non Fiction\"}, {\"name\": \"Becoming\", \"author\": \"Michelle Obama\", \"user_rating\": 4.8, \"reviews\": 61133, \"price\": 11, \"year\": 2018, \"genre\": \"Non Fiction\"}, {\"name\": \"Becoming\", \"author\": \"Michelle Obama\", \"user_rating\": 4.8, \"reviews\": 61133, \"price\": 11, \"year\": 2019, \"genre\": \"Non Fiction\"}, {\"name\": \"Being Mortal: Medicine and What Matters in the End\", \"author\": \"Atul Gawande\", \"user_rating\": 4.8, \"reviews\": 11113, \"price\": 15, \"year\": 2015, \"genre\": \"Non Fiction\"}, {\"name\": \"Between the World and Me\", \"author\": \"Ta-Nehisi Coates\", \"user_rating\": 4.7, \"reviews\": 10070, \"price\": 13, \"year\": 2015, \"genre\": \"Non Fiction\"}, {\"name\": \"Between the World and Me\", \"author\": \"Ta-Nehisi Coates\", \"user_rating\": 4.7, \"reviews\": 10070, \"price\": 13, \"year\": 2016, \"genre\": \"Non Fiction\"}, {\"name\": \"Born to Run\", \"author\": \"Bruce Springsteen\", \"user_rating\": 4.7, \"reviews\": 3729, \"price\": 18, \"year\": 2016, \"genre\": \"Non Fiction\"}, {\"name\": \"Breaking Dawn (The Twilight Saga, Book 4)\", \"author\": \"Stephenie Meyer\", \"user_rating\": 4.6, \"reviews\": 9769, \"price\": 13, \"year\": 2009, \"genre\": \"Fiction\"}, {\"name\": \"Broke: The Plan to Restore Our Trust, Truth and Treasure\", \"author\": \"Glenn Beck\", \"user_rating\": 4.5, \"reviews\": 471, \"price\": 8, \"year\": 2010, \"genre\": \"Non Fiction\"}, {\"name\": \"Brown Bear, Brown Bear, What Do You See?\", \"author\": \"Bill Martin Jr.\", \"user_rating\": 4.9, \"reviews\": 14344, \"price\": 5, \"year\": 2017, \"genre\": \"Fiction\"}, {\"name\": \"Brown Bear, Brown Bear, What Do You See?\", \"author\": \"Bill Martin Jr.\", \"user_rating\": 4.9, \"reviews\": 14344, \"price\": 5, \"year\": 2019, \"genre\": \"Fiction\"}, {\"name\": \"Cabin Fever (Diary of a Wimpy Kid, Book 6)\", \"author\": \"Jeff Kinney\", \"user_rating\": 4.8, \"reviews\": 4505, \"price\": 0, \"year\": 2011, \"genre\": \"Fiction\"}, {\"name\": \"Calm the F*ck Down: An Irreverent Adult Coloring Book (Irreverent Book Series)\", \"author\": \"Sasha O'Hara\", \"user_rating\": 4.6, \"reviews\": 10369, \"price\": 4, \"year\": 2016, \"genre\": \"Non Fiction\"}, {\"name\": \"Can't Hurt Me: Master Your Mind and Defy the Odds\", \"author\": \"David Goggins\", \"user_rating\": 4.8, \"reviews\": 16244, \"price\": 18, \"year\": 2019, \"genre\": \"Non Fiction\"}, {\"name\": \"Capital in the Twenty First Century\", \"author\": \"Thomas Piketty\", \"user_rating\": 4.5, \"reviews\": 2884, \"price\": 28, \"year\": 2014, \"genre\": \"Non Fiction\"}, {\"name\": \"Catching Fire (The Hunger Games)\", \"author\": \"Suzanne Collins\", \"user_rating\": 4.7, \"reviews\": 22614, \"price\": 11, \"year\": 2010, \"genre\": \"Fiction\"}, {\"name\": \"Catching Fire (The Hunger Games)\", \"author\": \"Suzanne Collins\", \"user_rating\": 4.7, \"reviews\": 22614, \"price\": 11, \"year\": 2011, \"genre\": \"Fiction\"}, {\"name\": \"Catching Fire (The Hunger Games)\", \"author\": \"Suzanne Collins\", \"user_rating\": 4.7, \"reviews\": 22614, \"price\": 11, \"year\": 2012, \"genre\": \"Fiction\"}, {\"name\": \"Cravings: Recipes for All the Food You Want to Eat: A Cookbook\", \"author\": \"Chrissy Teigen\", \"user_rating\": 4.7, \"reviews\": 4761, \"price\": 16, \"year\": 2016, \"genre\": \"Non Fiction\"}, {\"name\": \"Crazy Love: Overwhelmed by a Relentless God\", \"author\": \"Francis Chan\", \"user_rating\": 4.7, \"reviews\": 1542, \"price\": 14, \"year\": 2009, \"genre\": \"Non Fiction\"}, {\"name\": \"Crazy Love: Overwhelmed by a Relentless God\", \"author\": \"Francis Chan\", \"user_rating\": 4.7, \"reviews\": 1542, \"price\": 14, \"year\": 2010, \"genre\": \"Non Fiction\"}, {\"name\": \"Crazy Love: Overwhelmed by a Relentless God\", \"author\": \"Francis Chan\", \"user_rating\": 4.7, \"reviews\": 1542, \"price\": 14, \"year\": 2011, \"genre\": \"Non Fiction\"}, {\"name\": \"Crazy Rich Asians (Crazy Rich Asians Trilogy)\", \"author\": \"Kevin Kwan\", \"user_rating\": 4.3, \"reviews\": 6143, \"price\": 8, \"year\": 2018, \"genre\": \"Fiction\"}, {\"name\": \"Creative Haven Creative Cats Coloring Book (Adult Coloring)\", \"author\": \"Marjorie Sarnat\", \"user_rating\": 4.8, \"reviews\": 4022, \"price\": 4, \"year\": 2015, \"genre\": \"Non Fiction\"}, {\"name\": \"Creative Haven Owls Coloring Book (Adult Coloring)\", \"author\": \"Marjorie Sarnat\", \"user_rating\": 4.8, \"reviews\": 3871, \"price\": 5, \"year\": 2015, \"genre\": \"Non Fiction\"}, {\"name\": \"Cutting for Stone\", \"author\": \"Abraham Verghese\", \"user_rating\": 4.6, \"reviews\": 4866, \"price\": 11, \"year\": 2010, \"genre\": \"Fiction\"}, {\"name\": \"Cutting for Stone\", \"author\": \"Abraham Verghese\", \"user_rating\": 4.6, \"reviews\": 4866, \"price\": 11, \"year\": 2011, \"genre\": \"Fiction\"}, {\"name\": \"Daring Greatly: How the Courage to Be Vulnerable Transforms the Way We Live, Love, Parent, and Lead\", \"author\": \"Brene\\u0301 Brown\", \"user_rating\": 4.8, \"reviews\": 1329, \"price\": 10, \"year\": 2013, \"genre\": \"Non Fiction\"}, {\"name\": \"David and Goliath: Underdogs, Misfits, and the Art of Battling Giants\", \"author\": \"Malcolm Gladwell\", \"user_rating\": 4.4, \"reviews\": 4642, \"price\": 13, \"year\": 2013, \"genre\": \"Non Fiction\"}, {\"name\": \"Dead And Gone: A Sookie Stackhouse Novel (Sookie Stackhouse/True Blood)\", \"author\": \"Charlaine Harris\", \"user_rating\": 4.6, \"reviews\": 1541, \"price\": 4, \"year\": 2009, \"genre\": \"Fiction\"}, {\"name\": \"Dead in the Family (Sookie Stackhouse/True Blood, Book 10)\", \"author\": \"Charlaine Harris\", \"user_rating\": 4.3, \"reviews\": 1924, \"price\": 8, \"year\": 2010, \"genre\": \"Fiction\"}, {\"name\": \"Dead Reckoning (Sookie Stackhouse/True Blood, Book 11)\", \"author\": \"Charlaine Harris\", \"user_rating\": 4.2, \"reviews\": 2094, \"price\": 4, \"year\": 2011, \"genre\": \"Fiction\"}, {\"name\": \"Dear Zoo: A Lift-the-Flap Book\", \"author\": \"Rod Campbell\", \"user_rating\": 4.8, \"reviews\": 10922, \"price\": 5, \"year\": 2015, \"genre\": \"Fiction\"}, {\"name\": \"Dear Zoo: A Lift-the-Flap Book\", \"author\": \"Rod Campbell\", \"user_rating\": 4.8, \"reviews\": 10922, \"price\": 5, \"year\": 2016, \"genre\": \"Fiction\"}, {\"name\": \"Dear Zoo: A Lift-the-Flap Book\", \"author\": \"Rod Campbell\", \"user_rating\": 4.8, \"reviews\": 10922, \"price\": 5, \"year\": 2017, \"genre\": \"Fiction\"}, {\"name\": \"Dear Zoo: A Lift-the-Flap Book\", \"author\": \"Rod Campbell\", \"user_rating\": 4.8, \"reviews\": 10922, \"price\": 5, \"year\": 2018, \"genre\": \"Fiction\"}, {\"name\": \"Decision Points\", \"author\": \"George W. Bush\", \"user_rating\": 4.6, \"reviews\": 2137, \"price\": 17, \"year\": 2010, \"genre\": \"Non Fiction\"}, {\"name\": \"Delivering Happiness: A Path to Profits, Passion, and Purpose\", \"author\": \"Tony Hsieh\", \"user_rating\": 4.6, \"reviews\": 1651, \"price\": 15, \"year\": 2010, \"genre\": \"Non Fiction\"}, {\"name\": \"Diagnostic and Statistical Manual of Mental Disorders, 5th Edition: DSM-5\", \"author\": \"American Psychiatric Association\", \"user_rating\": 4.5, \"reviews\": 6679, \"price\": 105, \"year\": 2013, \"genre\": \"Non Fiction\"}, {\"name\": \"Diagnostic and Statistical Manual of Mental Disorders, 5th Edition: DSM-5\", \"author\": \"American Psychiatric Association\", \"user_rating\": 4.5, \"reviews\": 6679, \"price\": 105, \"year\": 2014, \"genre\": \"Non Fiction\"}, {\"name\": \"Diary of a Wimpy Kid: Hard Luck, Book 8\", \"author\": \"Jeff Kinney\", \"user_rating\": 4.8, \"reviews\": 6812, \"price\": 0, \"year\": 2013, \"genre\": \"Fiction\"}, {\"name\": \"Diary of a Wimpy Kid: The Last Straw (Book 3)\", \"author\": \"Jeff Kinney\", \"user_rating\": 4.8, \"reviews\": 3837, \"price\": 15, \"year\": 2009, \"genre\": \"Fiction\"}, {\"name\": \"Diary of a Wimpy Kid: The Long Haul\", \"author\": \"Jeff Kinney\", \"user_rating\": 4.8, \"reviews\": 6540, \"price\": 22, \"year\": 2014, \"genre\": \"Fiction\"}, {\"name\": \"Difficult Riddles For Smart Kids: 300 Difficult Riddles And Brain Teasers Families Will Love (Books for Smart Kids)\", \"author\": \"M Prefontaine\", \"user_rating\": 4.6, \"reviews\": 7955, \"price\": 5, \"year\": 2019, \"genre\": \"Non Fiction\"}, {\"name\": \"Divergent\", \"author\": \"Veronica Roth\", \"user_rating\": 4.6, \"reviews\": 27098, \"price\": 15, \"year\": 2013, \"genre\": \"Fiction\"}, {\"name\": \"Divergent\", \"author\": \"Veronica Roth\", \"user_rating\": 4.6, \"reviews\": 27098, \"price\": 15, \"year\": 2014, \"genre\": \"Fiction\"}, {\"name\": \"Divergent / Insurgent\", \"author\": \"Veronica Roth\", \"user_rating\": 4.5, \"reviews\": 17684, \"price\": 6, \"year\": 2014, \"genre\": \"Fiction\"}, {\"name\": \"Divine Soul Mind Body Healing and Transmission System: The Divine Way to Heal You, Humanity, Mother Earth, and All\\u2026\", \"author\": \"Zhi Gang Sha\", \"user_rating\": 4.6, \"reviews\": 37, \"price\": 6, \"year\": 2009, \"genre\": \"Non Fiction\"}, {\"name\": \"Doctor Sleep: A Novel\", \"author\": \"Stephen King\", \"user_rating\": 4.7, \"reviews\": 15845, \"price\": 13, \"year\": 2013, \"genre\": \"Fiction\"}, {\"name\": \"Dog Days (Diary of a Wimpy Kid, Book 4) (Volume 4)\", \"author\": \"Jeff Kinney\", \"user_rating\": 4.8, \"reviews\": 3181, \"price\": 12, \"year\": 2009, \"genre\": \"Fiction\"}, {\"name\": \"Dog Man and Cat Kid: From the Creator of Captain Underpants (Dog Man #4)\", \"author\": \"Dav Pilkey\", \"user_rating\": 4.9, \"reviews\": 5062, \"price\": 6, \"year\": 2018, \"genre\": \"Fiction\"}, {\"name\": \"Dog Man: A Tale of Two Kitties: From the Creator of Captain Underpants (Dog Man #3)\", \"author\": \"Dav Pilkey\", \"user_rating\": 4.9, \"reviews\": 4786, \"price\": 8, \"year\": 2017, \"genre\": \"Fiction\"}, {\"name\": \"Dog Man: Brawl of the Wild: From the Creator of Captain Underpants (Dog Man #6)\", \"author\": \"Dav Pilkey\", \"user_rating\": 4.9, \"reviews\": 7235, \"price\": 4, \"year\": 2018, \"genre\": \"Fiction\"}, {\"name\": \"Dog Man: Brawl of the Wild: From the Creator of Captain Underpants (Dog Man #6)\", \"author\": \"Dav Pilkey\", \"user_rating\": 4.9, \"reviews\": 7235, \"price\": 4, \"year\": 2019, \"genre\": \"Fiction\"}, {\"name\": \"Dog Man: Fetch-22: From the Creator of Captain Underpants (Dog Man #8)\", \"author\": \"Dav Pilkey\", \"user_rating\": 4.9, \"reviews\": 12619, \"price\": 8, \"year\": 2019, \"genre\": \"Fiction\"}, {\"name\": \"Dog Man: For Whom the Ball Rolls: From the Creator of Captain Underpants (Dog Man #7)\", \"author\": \"Dav Pilkey\", \"user_rating\": 4.9, \"reviews\": 9089, \"price\": 8, \"year\": 2019, \"genre\": \"Fiction\"}, {\"name\": \"Dog Man: Lord of the Fleas: From the Creator of Captain Underpants (Dog Man #5)\", \"author\": \"Dav Pilkey\", \"user_rating\": 4.9, \"reviews\": 5470, \"price\": 6, \"year\": 2018, \"genre\": \"Fiction\"}, {\"name\": \"Double Down (Diary of a Wimpy Kid #11)\", \"author\": \"Jeff Kinney\", \"user_rating\": 4.8, \"reviews\": 5118, \"price\": 20, \"year\": 2016, \"genre\": \"Fiction\"}, {\"name\": \"Dover Creative Haven Art Nouveau Animal Designs Coloring Book (Creative Haven Coloring Books)\", \"author\": \"Marty Noble\", \"user_rating\": 4.6, \"reviews\": 2134, \"price\": 5, \"year\": 2015, \"genre\": \"Non Fiction\"}, {\"name\": \"Drive: The Surprising Truth About What Motivates Us\", \"author\": \"Daniel H. Pink\", \"user_rating\": 4.5, \"reviews\": 2525, \"price\": 16, \"year\": 2010, \"genre\": \"Non Fiction\"}, {\"name\": \"Eat This Not That! Supermarket Survival Guide: The No-Diet Weight Loss Solution\", \"author\": \"David Zinczenko\", \"user_rating\": 4.5, \"reviews\": 720, \"price\": 1, \"year\": 2009, \"genre\": \"Non Fiction\"}, {\"name\": \"Eat This, Not That! Thousands of Simple Food Swaps that Can Save You 10, 20, 30 Pounds--or More!\", \"author\": \"David Zinczenko\", \"user_rating\": 4.3, \"reviews\": 956, \"price\": 14, \"year\": 2009, \"genre\": \"Non Fiction\"}, {\"name\": \"Eat to Live: The Amazing Nutrient-Rich Program for Fast and Sustained Weight Loss, Revised Edition\", \"author\": \"Joel Fuhrman MD\", \"user_rating\": 4.5, \"reviews\": 6346, \"price\": 9, \"year\": 2011, \"genre\": \"Non Fiction\"}, {\"name\": \"Eat to Live: The Amazing Nutrient-Rich Program for Fast and Sustained Weight Loss, Revised Edition\", \"author\": \"Joel Fuhrman MD\", \"user_rating\": 4.5, \"reviews\": 6346, \"price\": 9, \"year\": 2012, \"genre\": \"Non Fiction\"}, {\"name\": \"Eclipse (Twilight Sagas)\", \"author\": \"Stephenie Meyer\", \"user_rating\": 4.7, \"reviews\": 5505, \"price\": 7, \"year\": 2009, \"genre\": \"Fiction\"}, {\"name\": \"Eclipse (Twilight)\", \"author\": \"Stephenie Meyer\", \"user_rating\": 4.7, \"reviews\": 5505, \"price\": 18, \"year\": 2009, \"genre\": \"Fiction\"}, {\"name\": \"Educated: A Memoir\", \"author\": \"Tara Westover\", \"user_rating\": 4.7, \"reviews\": 28729, \"price\": 15, \"year\": 2018, \"genre\": \"Non Fiction\"}, {\"name\": \"Educated: A Memoir\", \"author\": \"Tara Westover\", \"user_rating\": 4.7, \"reviews\": 28729, \"price\": 15, \"year\": 2019, \"genre\": \"Non Fiction\"}, {\"name\": \"Enchanted Forest: An Inky Quest and Coloring book (Activity Books, Mindfulness and Meditation, Illustrated Floral Prints\\u2026\", \"author\": \"Johanna Basford\", \"user_rating\": 4.7, \"reviews\": 5413, \"price\": 9, \"year\": 2015, \"genre\": \"Non Fiction\"}, {\"name\": \"Fahrenheit 451\", \"author\": \"Ray Bradbury\", \"user_rating\": 4.6, \"reviews\": 10721, \"price\": 8, \"year\": 2016, \"genre\": \"Fiction\"}, {\"name\": \"Fahrenheit 451\", \"author\": \"Ray Bradbury\", \"user_rating\": 4.6, \"reviews\": 10721, \"price\": 8, \"year\": 2018, \"genre\": \"Fiction\"}, {\"name\": \"Fantastic Beasts and Where to Find Them: The Original Screenplay (Harry Potter)\", \"author\": \"J.K. Rowling\", \"user_rating\": 4.7, \"reviews\": 4370, \"price\": 15, \"year\": 2016, \"genre\": \"Fiction\"}, {\"name\": \"Fear: Trump in the White House\", \"author\": \"Bob Woodward\", \"user_rating\": 4.4, \"reviews\": 6042, \"price\": 2, \"year\": 2018, \"genre\": \"Non Fiction\"}, {\"name\": \"Fifty Shades Darker\", \"author\": \"E L James\", \"user_rating\": 4.4, \"reviews\": 23631, \"price\": 7, \"year\": 2012, \"genre\": \"Fiction\"}, {\"name\": \"Fifty Shades Freed: Book Three of the Fifty Shades Trilogy (Fifty Shades of Grey Series) (English Edition)\", \"author\": \"E L James\", \"user_rating\": 4.5, \"reviews\": 20262, \"price\": 11, \"year\": 2012, \"genre\": \"Fiction\"}, {\"name\": \"Fifty Shades of Grey: Book One of the Fifty Shades Trilogy (Fifty Shades of Grey Series)\", \"author\": \"E L James\", \"user_rating\": 3.8, \"reviews\": 47265, \"price\": 14, \"year\": 2012, \"genre\": \"Fiction\"}, {\"name\": \"Fifty Shades of Grey: Book One of the Fifty Shades Trilogy (Fifty Shades of Grey Series)\", \"author\": \"E L James\", \"user_rating\": 3.8, \"reviews\": 47265, \"price\": 14, \"year\": 2013, \"genre\": \"Fiction\"}, {\"name\": \"Fifty Shades Trilogy (Fifty Shades of Grey / Fifty Shades Darker / Fifty Shades Freed)\", \"author\": \"E L James\", \"user_rating\": 4.5, \"reviews\": 13964, \"price\": 32, \"year\": 2012, \"genre\": \"Fiction\"}, {\"name\": \"Fire and Fury: Inside the Trump White House\", \"author\": \"Michael Wolff\", \"user_rating\": 4.2, \"reviews\": 13677, \"price\": 6, \"year\": 2018, \"genre\": \"Non Fiction\"}, {\"name\": \"First 100 Words\", \"author\": \"Roger Priddy\", \"user_rating\": 4.7, \"reviews\": 17323, \"price\": 4, \"year\": 2014, \"genre\": \"Non Fiction\"}, {\"name\": \"First 100 Words\", \"author\": \"Roger Priddy\", \"user_rating\": 4.7, \"reviews\": 17323, \"price\": 4, \"year\": 2015, \"genre\": \"Non Fiction\"}, {\"name\": \"First 100 Words\", \"author\": \"Roger Priddy\", \"user_rating\": 4.7, \"reviews\": 17323, \"price\": 4, \"year\": 2016, \"genre\": \"Non Fiction\"}, {\"name\": \"First 100 Words\", \"author\": \"Roger Priddy\", \"user_rating\": 4.7, \"reviews\": 17323, \"price\": 4, \"year\": 2017, \"genre\": \"Non Fiction\"}, {\"name\": \"First 100 Words\", \"author\": \"Roger Priddy\", \"user_rating\": 4.7, \"reviews\": 17323, \"price\": 4, \"year\": 2018, \"genre\": \"Non Fiction\"}, {\"name\": \"Food Rules: An Eater's Manual\", \"author\": \"Michael Pollan\", \"user_rating\": 4.4, \"reviews\": 1555, \"price\": 9, \"year\": 2010, \"genre\": \"Non Fiction\"}, {\"name\": \"Frozen (Little Golden Book)\", \"author\": \"RH Disney\", \"user_rating\": 4.7, \"reviews\": 3642, \"price\": 0, \"year\": 2014, \"genre\": \"Fiction\"}, {\"name\": \"Game Change: Obama and the Clintons, McCain and Palin, and the Race of a Lifetime\", \"author\": \"John Heilemann\", \"user_rating\": 4.4, \"reviews\": 1215, \"price\": 9, \"year\": 2010, \"genre\": \"Non Fiction\"}, {\"name\": \"Game of Thrones Boxed Set: A Game of Thrones/A Clash of Kings/A Storm of Swords/A Feast for Crows\", \"author\": \"George R.R. Martin\", \"user_rating\": 4.6, \"reviews\": 5594, \"price\": 5, \"year\": 2011, \"genre\": \"Fiction\"}, {\"name\": \"Game of Thrones Boxed Set: A Game of Thrones/A Clash of Kings/A Storm of Swords/A Feast for Crows\", \"author\": \"George R.R. Martin\", \"user_rating\": 4.6, \"reviews\": 5594, \"price\": 5, \"year\": 2012, \"genre\": \"Fiction\"}, {\"name\": \"Game of Thrones Boxed Set: A Game of Thrones/A Clash of Kings/A Storm of Swords/A Feast for Crows\", \"author\": \"George R.R. Martin\", \"user_rating\": 4.6, \"reviews\": 5594, \"price\": 5, \"year\": 2013, \"genre\": \"Fiction\"}, {\"name\": \"George Washington's Sacred Fire\", \"author\": \"Peter A. Lillback\", \"user_rating\": 4.5, \"reviews\": 408, \"price\": 20, \"year\": 2010, \"genre\": \"Non Fiction\"}, {\"name\": \"George Washington's Secret Six: The Spy Ring That Saved the American Revolution\", \"author\": \"Brian Kilmeade\", \"user_rating\": 4.6, \"reviews\": 4799, \"price\": 16, \"year\": 2013, \"genre\": \"Non Fiction\"}, {\"name\": \"Giraffes Can't Dance\", \"author\": \"Giles Andreae\", \"user_rating\": 4.8, \"reviews\": 14038, \"price\": 4, \"year\": 2015, \"genre\": \"Fiction\"}, {\"name\": \"Giraffes Can't Dance\", \"author\": \"Giles Andreae\", \"user_rating\": 4.8, \"reviews\": 14038, \"price\": 4, \"year\": 2016, \"genre\": \"Fiction\"}, {\"name\": \"Giraffes Can't Dance\", \"author\": \"Giles Andreae\", \"user_rating\": 4.8, \"reviews\": 14038, \"price\": 4, \"year\": 2017, \"genre\": \"Fiction\"}, {\"name\": \"Giraffes Can't Dance\", \"author\": \"Giles Andreae\", \"user_rating\": 4.8, \"reviews\": 14038, \"price\": 4, \"year\": 2018, \"genre\": \"Fiction\"}, {\"name\": \"Giraffes Can't Dance\", \"author\": \"Giles Andreae\", \"user_rating\": 4.8, \"reviews\": 14038, \"price\": 4, \"year\": 2019, \"genre\": \"Fiction\"}, {\"name\": \"Girl, Stop Apologizing: A Shame-Free Plan for Embracing and Achieving Your Goals\", \"author\": \"Rachel Hollis\", \"user_rating\": 4.6, \"reviews\": 7660, \"price\": 12, \"year\": 2019, \"genre\": \"Non Fiction\"}, {\"name\": \"Girl, Wash Your Face: Stop Believing the Lies About Who You Are So You Can Become Who You Were Meant to Be\", \"author\": \"Rachel Hollis\", \"user_rating\": 4.6, \"reviews\": 22288, \"price\": 12, \"year\": 2018, \"genre\": \"Non Fiction\"}, {\"name\": \"Girl, Wash Your Face: Stop Believing the Lies About Who You Are So You Can Become Who You Were Meant to Be\", \"author\": \"Rachel Hollis\", \"user_rating\": 4.6, \"reviews\": 22288, \"price\": 12, \"year\": 2019, \"genre\": \"Non Fiction\"}, {\"name\": \"Glenn Beck's Common Sense: The Case Against an Out-of-Control Government, Inspired by Thomas Paine\", \"author\": \"Glenn Beck\", \"user_rating\": 4.6, \"reviews\": 1365, \"price\": 11, \"year\": 2009, \"genre\": \"Non Fiction\"}, {\"name\": \"Go Set a Watchman: A Novel\", \"author\": \"Harper Lee\", \"user_rating\": 3.6, \"reviews\": 14982, \"price\": 19, \"year\": 2015, \"genre\": \"Fiction\"}, {\"name\": \"Go the F**k to Sleep\", \"author\": \"Adam Mansbach\", \"user_rating\": 4.8, \"reviews\": 9568, \"price\": 9, \"year\": 2011, \"genre\": \"Fiction\"}, {\"name\": \"Going Rogue: An American Life\", \"author\": \"Sarah Palin\", \"user_rating\": 4.6, \"reviews\": 1636, \"price\": 6, \"year\": 2009, \"genre\": \"Non Fiction\"}, {\"name\": \"Gone Girl\", \"author\": \"Gillian Flynn\", \"user_rating\": 4.0, \"reviews\": 57271, \"price\": 10, \"year\": 2012, \"genre\": \"Fiction\"}, {\"name\": \"Gone Girl\", \"author\": \"Gillian Flynn\", \"user_rating\": 4.0, \"reviews\": 57271, \"price\": 10, \"year\": 2013, \"genre\": \"Fiction\"}, {\"name\": \"Gone Girl\", \"author\": \"Gillian Flynn\", \"user_rating\": 4.0, \"reviews\": 57271, \"price\": 9, \"year\": 2014, \"genre\": \"Fiction\"}, {\"name\": \"Good Days Start With Gratitude: A 52 Week Guide To Cultivate An Attitude Of Gratitude: Gratitude Journal\", \"author\": \"Pretty Simple Press\", \"user_rating\": 4.6, \"reviews\": 10141, \"price\": 6, \"year\": 2019, \"genre\": \"Non Fiction\"}, {\"name\": \"Good to Great: Why Some Companies Make the Leap and Others Don't\", \"author\": \"Jim Collins\", \"user_rating\": 4.5, \"reviews\": 3457, \"price\": 14, \"year\": 2009, \"genre\": \"Non Fiction\"}, {\"name\": \"Good to Great: Why Some Companies Make the Leap and Others Don't\", \"author\": \"Jim Collins\", \"user_rating\": 4.5, \"reviews\": 3457, \"price\": 14, \"year\": 2010, \"genre\": \"Non Fiction\"}, {\"name\": \"Good to Great: Why Some Companies Make the Leap and Others Don't\", \"author\": \"Jim Collins\", \"user_rating\": 4.5, \"reviews\": 3457, \"price\": 14, \"year\": 2011, \"genre\": \"Non Fiction\"}, {\"name\": \"Good to Great: Why Some Companies Make the Leap and Others Don't\", \"author\": \"Jim Collins\", \"user_rating\": 4.5, \"reviews\": 3457, \"price\": 14, \"year\": 2012, \"genre\": \"Non Fiction\"}, {\"name\": \"Goodnight Moon\", \"author\": \"Margaret Wise Brown\", \"user_rating\": 4.8, \"reviews\": 8837, \"price\": 5, \"year\": 2017, \"genre\": \"Fiction\"}, {\"name\": \"Goodnight Moon\", \"author\": \"Margaret Wise Brown\", \"user_rating\": 4.8, \"reviews\": 8837, \"price\": 5, \"year\": 2018, \"genre\": \"Fiction\"}, {\"name\": \"Goodnight Moon\", \"author\": \"Margaret Wise Brown\", \"user_rating\": 4.8, \"reviews\": 8837, \"price\": 5, \"year\": 2019, \"genre\": \"Fiction\"}, {\"name\": \"Goodnight, Goodnight Construction Site (Hardcover Books for Toddlers, Preschool Books for Kids)\", \"author\": \"Sherri Duskey Rinker\", \"user_rating\": 4.9, \"reviews\": 7038, \"price\": 7, \"year\": 2012, \"genre\": \"Fiction\"}, {\"name\": \"Goodnight, Goodnight Construction Site (Hardcover Books for Toddlers, Preschool Books for Kids)\", \"author\": \"Sherri Duskey Rinker\", \"user_rating\": 4.9, \"reviews\": 7038, \"price\": 7, \"year\": 2013, \"genre\": \"Fiction\"}, {\"name\": \"Grain Brain: The Surprising Truth about Wheat, Carbs, and Sugar--Your Brain's Silent Killers\", \"author\": \"David Perlmutter MD\", \"user_rating\": 4.6, \"reviews\": 5972, \"price\": 10, \"year\": 2014, \"genre\": \"Non Fiction\"}, {\"name\": \"Grey: Fifty Shades of Grey as Told by Christian (Fifty Shades of Grey Series)\", \"author\": \"E L James\", \"user_rating\": 4.4, \"reviews\": 25624, \"price\": 14, \"year\": 2015, \"genre\": \"Fiction\"}, {\"name\": \"Guts\", \"author\": \"Raina Telgemeier\", \"user_rating\": 4.8, \"reviews\": 5476, \"price\": 7, \"year\": 2019, \"genre\": \"Non Fiction\"}, {\"name\": \"Hamilton: The Revolution\", \"author\": \"Lin-Manuel Miranda\", \"user_rating\": 4.9, \"reviews\": 5867, \"price\": 54, \"year\": 2016, \"genre\": \"Non Fiction\"}, {\"name\": \"Happy, Happy, Happy: My Life and Legacy as the Duck Commander\", \"author\": \"Phil Robertson\", \"user_rating\": 4.8, \"reviews\": 4148, \"price\": 11, \"year\": 2013, \"genre\": \"Non Fiction\"}, {\"name\": \"Harry Potter and the Chamber of Secrets: The Illustrated Edition (Harry Potter, Book 2)\", \"author\": \"J.K. Rowling\", \"user_rating\": 4.9, \"reviews\": 19622, \"price\": 30, \"year\": 2016, \"genre\": \"Fiction\"}, {\"name\": \"Harry Potter and the Cursed Child, Parts 1 & 2, Special Rehearsal Edition Script\", \"author\": \"J.K. Rowling\", \"user_rating\": 4.0, \"reviews\": 23973, \"price\": 12, \"year\": 2016, \"genre\": \"Fiction\"}, {\"name\": \"Harry Potter and the Goblet of Fire: The Illustrated Edition (Harry Potter, Book 4) (4)\", \"author\": \"J. K. Rowling\", \"user_rating\": 4.9, \"reviews\": 7758, \"price\": 18, \"year\": 2019, \"genre\": \"Fiction\"}, {\"name\": \"Harry Potter and the Prisoner of Azkaban: The Illustrated Edition (Harry Potter, Book 3)\", \"author\": \"J.K. Rowling\", \"user_rating\": 4.9, \"reviews\": 3146, \"price\": 30, \"year\": 2017, \"genre\": \"Fiction\"}, {\"name\": \"Harry Potter and the Sorcerer's Stone: The Illustrated Edition (Harry Potter, Book 1)\", \"author\": \"J.K. Rowling\", \"user_rating\": 4.9, \"reviews\": 10052, \"price\": 22, \"year\": 2016, \"genre\": \"Fiction\"}, {\"name\": \"Harry Potter Coloring Book\", \"author\": \"Scholastic\", \"user_rating\": 4.7, \"reviews\": 3564, \"price\": 9, \"year\": 2015, \"genre\": \"Non Fiction\"}, {\"name\": \"Harry Potter Paperback Box Set (Books 1-7)\", \"author\": \"J. K. Rowling\", \"user_rating\": 4.8, \"reviews\": 13471, \"price\": 52, \"year\": 2016, \"genre\": \"Fiction\"}, {\"name\": \"Have a Little Faith: A True Story\", \"author\": \"Mitch Albom\", \"user_rating\": 4.8, \"reviews\": 1930, \"price\": 4, \"year\": 2009, \"genre\": \"Non Fiction\"}, {\"name\": \"Heaven is for Real: A Little Boy's Astounding Story of His Trip to Heaven and Back\", \"author\": \"Todd Burpo\", \"user_rating\": 4.7, \"reviews\": 15779, \"price\": 10, \"year\": 2011, \"genre\": \"Non Fiction\"}, {\"name\": \"Heaven is for Real: A Little Boy's Astounding Story of His Trip to Heaven and Back\", \"author\": \"Todd Burpo\", \"user_rating\": 4.7, \"reviews\": 15779, \"price\": 10, \"year\": 2012, \"genre\": \"Non Fiction\"}, {\"name\": \"Hillbilly Elegy: A Memoir of a Family and Culture in Crisis\", \"author\": \"J. D. Vance\", \"user_rating\": 4.4, \"reviews\": 15526, \"price\": 14, \"year\": 2016, \"genre\": \"Non Fiction\"}, {\"name\": \"Hillbilly Elegy: A Memoir of a Family and Culture in Crisis\", \"author\": \"J. D. Vance\", \"user_rating\": 4.4, \"reviews\": 15526, \"price\": 14, \"year\": 2017, \"genre\": \"Non Fiction\"}, {\"name\": \"Homebody: A Guide to Creating Spaces You Never Want to Leave\", \"author\": \"Joanna Gaines\", \"user_rating\": 4.8, \"reviews\": 3776, \"price\": 22, \"year\": 2018, \"genre\": \"Non Fiction\"}, {\"name\": \"How to Win Friends & Influence People\", \"author\": \"Dale Carnegie\", \"user_rating\": 4.7, \"reviews\": 25001, \"price\": 11, \"year\": 2014, \"genre\": \"Non Fiction\"}, {\"name\": \"How to Win Friends & Influence People\", \"author\": \"Dale Carnegie\", \"user_rating\": 4.7, \"reviews\": 25001, \"price\": 11, \"year\": 2015, \"genre\": \"Non Fiction\"}, {\"name\": \"How to Win Friends & Influence People\", \"author\": \"Dale Carnegie\", \"user_rating\": 4.7, \"reviews\": 25001, \"price\": 11, \"year\": 2016, \"genre\": \"Non Fiction\"}, {\"name\": \"How to Win Friends & Influence People\", \"author\": \"Dale Carnegie\", \"user_rating\": 4.7, \"reviews\": 25001, \"price\": 11, \"year\": 2017, \"genre\": \"Non Fiction\"}, {\"name\": \"How to Win Friends & Influence People\", \"author\": \"Dale Carnegie\", \"user_rating\": 4.7, \"reviews\": 25001, \"price\": 11, \"year\": 2018, \"genre\": \"Non Fiction\"}, {\"name\": \"Howard Stern Comes Again\", \"author\": \"Howard Stern\", \"user_rating\": 4.3, \"reviews\": 5272, \"price\": 16, \"year\": 2019, \"genre\": \"Non Fiction\"}, {\"name\": \"Humans of New York\", \"author\": \"Brandon Stanton\", \"user_rating\": 4.8, \"reviews\": 3490, \"price\": 15, \"year\": 2013, \"genre\": \"Non Fiction\"}, {\"name\": \"Humans of New York\", \"author\": \"Brandon Stanton\", \"user_rating\": 4.8, \"reviews\": 3490, \"price\": 15, \"year\": 2014, \"genre\": \"Non Fiction\"}, {\"name\": \"Humans of New York : Stories\", \"author\": \"Brandon Stanton\", \"user_rating\": 4.9, \"reviews\": 2812, \"price\": 17, \"year\": 2015, \"genre\": \"Non Fiction\"}, {\"name\": \"Hyperbole and a Half: Unfortunate Situations, Flawed Coping Mechanisms, Mayhem, and Other Things That Happened\", \"author\": \"Allie Brosh\", \"user_rating\": 4.7, \"reviews\": 4896, \"price\": 17, \"year\": 2013, \"genre\": \"Non Fiction\"}, {\"name\": \"I Am Confident, Brave & Beautiful: A Coloring Book for Girls\", \"author\": \"Hopscotch Girls\", \"user_rating\": 4.8, \"reviews\": 9737, \"price\": 7, \"year\": 2019, \"genre\": \"Non Fiction\"}, {\"name\": \"I, Alex Cross\", \"author\": \"James Patterson\", \"user_rating\": 4.6, \"reviews\": 1320, \"price\": 7, \"year\": 2009, \"genre\": \"Fiction\"}, {\"name\": \"If Animals Kissed Good Night\", \"author\": \"Ann Whitford Paul\", \"user_rating\": 4.8, \"reviews\": 16643, \"price\": 4, \"year\": 2017, \"genre\": \"Fiction\"}, {\"name\": \"If Animals Kissed Good Night\", \"author\": \"Ann Whitford Paul\", \"user_rating\": 4.8, \"reviews\": 16643, \"price\": 4, \"year\": 2019, \"genre\": \"Fiction\"}, {\"name\": \"If I Stay\", \"author\": \"Gayle Forman\", \"user_rating\": 4.3, \"reviews\": 7153, \"price\": 9, \"year\": 2014, \"genre\": \"Fiction\"}, {\"name\": \"In the Garden of Beasts: Love, Terror, and an American Family in Hitler's Berlin\", \"author\": \"Eric Larson\", \"user_rating\": 4.4, \"reviews\": 4571, \"price\": 21, \"year\": 2011, \"genre\": \"Non Fiction\"}, {\"name\": \"Inferno\", \"author\": \"Dan Brown\", \"user_rating\": 4.1, \"reviews\": 29651, \"price\": 14, \"year\": 2013, \"genre\": \"Fiction\"}, {\"name\": \"Inheritance: Book IV (Inheritance Cycle)\", \"author\": \"Christopher Paolini\", \"user_rating\": 4.6, \"reviews\": 5299, \"price\": 20, \"year\": 2011, \"genre\": \"Fiction\"}, {\"name\": \"Instant Pot Pressure Cooker Cookbook: 500 Everyday Recipes for Beginners and Advanced Users. Try Easy and Healthy\\u2026\", \"author\": \"Jennifer Smith\", \"user_rating\": 4.4, \"reviews\": 7396, \"price\": 13, \"year\": 2019, \"genre\": \"Non Fiction\"}, {\"name\": \"Instant Pot Pressure Cooker Cookbook: 500 Everyday Recipes for Beginners and Advanced Users. Try Easy and Healthy\\u2026\", \"author\": \"Jennifer Smith\", \"user_rating\": 4.4, \"reviews\": 7396, \"price\": 13, \"year\": 2018, \"genre\": \"Non Fiction\"}, {\"name\": \"It's Not Supposed to Be This Way: Finding Unexpected Strength When Disappointments Leave You Shattered\", \"author\": \"Lysa TerKeurst\", \"user_rating\": 4.8, \"reviews\": 7062, \"price\": 12, \"year\": 2019, \"genre\": \"Non Fiction\"}, {\"name\": \"Jesus Calling: Enjoying Peace in His Presence (with Scripture References)\", \"author\": \"Sarah Young\", \"user_rating\": 4.9, \"reviews\": 19576, \"price\": 8, \"year\": 2011, \"genre\": \"Non Fiction\"}, {\"name\": \"Jesus Calling: Enjoying Peace in His Presence (with Scripture References)\", \"author\": \"Sarah Young\", \"user_rating\": 4.9, \"reviews\": 19576, \"price\": 8, \"year\": 2012, \"genre\": \"Non Fiction\"}, {\"name\": \"Jesus Calling: Enjoying Peace in His Presence (with Scripture References)\", \"author\": \"Sarah Young\", \"user_rating\": 4.9, \"reviews\": 19576, \"price\": 8, \"year\": 2013, \"genre\": \"Non Fiction\"}, {\"name\": \"Jesus Calling: Enjoying Peace in His Presence (with Scripture References)\", \"author\": \"Sarah Young\", \"user_rating\": 4.9, \"reviews\": 19576, \"price\": 8, \"year\": 2014, \"genre\": \"Non Fiction\"}, {\"name\": \"Jesus Calling: Enjoying Peace in His Presence (with Scripture References)\", \"author\": \"Sarah Young\", \"user_rating\": 4.9, \"reviews\": 19576, \"price\": 8, \"year\": 2015, \"genre\": \"Non Fiction\"}, {\"name\": \"Jesus Calling: Enjoying Peace in His Presence (with Scripture References)\", \"author\": \"Sarah Young\", \"user_rating\": 4.9, \"reviews\": 19576, \"price\": 8, \"year\": 2016, \"genre\": \"Non Fiction\"}, {\"name\": \"JOURNEY TO THE ICE P\", \"author\": \"RH Disney\", \"user_rating\": 4.6, \"reviews\": 978, \"price\": 0, \"year\": 2014, \"genre\": \"Fiction\"}, {\"name\": \"Joyland (Hard Case Crime)\", \"author\": \"Stephen King\", \"user_rating\": 4.5, \"reviews\": 4748, \"price\": 12, \"year\": 2013, \"genre\": \"Fiction\"}, {\"name\": \"Killers of the Flower Moon: The Osage Murders and the Birth of the FBI\", \"author\": \"David Grann\", \"user_rating\": 4.6, \"reviews\": 8393, \"price\": 17, \"year\": 2017, \"genre\": \"Non Fiction\"}, {\"name\": \"Killing Jesus (Bill O'Reilly's Killing Series)\", \"author\": \"Bill O'Reilly\", \"user_rating\": 4.5, \"reviews\": 11391, \"price\": 12, \"year\": 2013, \"genre\": \"Non Fiction\"}, {\"name\": \"Killing Kennedy: The End of Camelot\", \"author\": \"Bill O'Reilly\", \"user_rating\": 4.6, \"reviews\": 8634, \"price\": 25, \"year\": 2012, \"genre\": \"Non Fiction\"}, {\"name\": \"Killing Lincoln: The Shocking Assassination that Changed America Forever (Bill O'Reilly's Killing Series)\", \"author\": \"Bill O'Reilly\", \"user_rating\": 4.7, \"reviews\": 9342, \"price\": 10, \"year\": 2011, \"genre\": \"Non Fiction\"}, {\"name\": \"Killing Lincoln: The Shocking Assassination that Changed America Forever (Bill O'Reilly's Killing Series)\", \"author\": \"Bill O'Reilly\", \"user_rating\": 4.7, \"reviews\": 9342, \"price\": 10, \"year\": 2012, \"genre\": \"Non Fiction\"}, {\"name\": \"Killing Patton: The Strange Death of World War II's Most Audacious General (Bill O'Reilly's Killing Series)\", \"author\": \"Bill O'Reilly\", \"user_rating\": 4.6, \"reviews\": 10927, \"price\": 6, \"year\": 2014, \"genre\": \"Non Fiction\"}, {\"name\": \"Killing Reagan: The Violent Assault That Changed a Presidency (Bill O'Reilly's Killing Series)\", \"author\": \"Bill O'Reilly\", \"user_rating\": 4.6, \"reviews\": 5235, \"price\": 5, \"year\": 2015, \"genre\": \"Non Fiction\"}, {\"name\": \"Killing the Rising Sun: How America Vanquished World War II Japan (Bill O'Reilly's Killing Series)\", \"author\": \"Bill O'Reilly\", \"user_rating\": 4.8, \"reviews\": 8916, \"price\": 6, \"year\": 2016, \"genre\": \"Non Fiction\"}, {\"name\": \"Kitchen Confidential Updated Edition: Adventures in the Culinary Underbelly (P.S.)\", \"author\": \"Anthony Bourdain\", \"user_rating\": 4.8, \"reviews\": 2507, \"price\": 8, \"year\": 2018, \"genre\": \"Non Fiction\"}, {\"name\": \"Knock-Knock Jokes for Kids\", \"author\": \"Rob Elliott\", \"user_rating\": 4.5, \"reviews\": 3673, \"price\": 4, \"year\": 2013, \"genre\": \"Non Fiction\"}, {\"name\": \"Knock-Knock Jokes for Kids\", \"author\": \"Rob Elliott\", \"user_rating\": 4.5, \"reviews\": 3673, \"price\": 4, \"year\": 2014, \"genre\": \"Non Fiction\"}, {\"name\": \"Knock-Knock Jokes for Kids\", \"author\": \"Rob Elliott\", \"user_rating\": 4.5, \"reviews\": 3673, \"price\": 4, \"year\": 2015, \"genre\": \"Non Fiction\"}, {\"name\": \"Last Week Tonight with John Oliver Presents A Day in the Life of Marlon Bundo (Better Bundo Book, LGBT Children\\u0092s Book)\", \"author\": \"Jill Twiss\", \"user_rating\": 4.9, \"reviews\": 11881, \"price\": 13, \"year\": 2018, \"genre\": \"Fiction\"}, {\"name\": \"Laugh-Out-Loud Jokes for Kids\", \"author\": \"Rob Elliott\", \"user_rating\": 4.6, \"reviews\": 6990, \"price\": 4, \"year\": 2013, \"genre\": \"Non Fiction\"}, {\"name\": \"Laugh-Out-Loud Jokes for Kids\", \"author\": \"Rob Elliott\", \"user_rating\": 4.6, \"reviews\": 6990, \"price\": 4, \"year\": 2014, \"genre\": \"Non Fiction\"}, {\"name\": \"Laugh-Out-Loud Jokes for Kids\", \"author\": \"Rob Elliott\", \"user_rating\": 4.6, \"reviews\": 6990, \"price\": 4, \"year\": 2015, \"genre\": \"Non Fiction\"}, {\"name\": \"Laugh-Out-Loud Jokes for Kids\", \"author\": \"Rob Elliott\", \"user_rating\": 4.6, \"reviews\": 6990, \"price\": 4, \"year\": 2016, \"genre\": \"Non Fiction\"}, {\"name\": \"Laugh-Out-Loud Jokes for Kids\", \"author\": \"Rob Elliott\", \"user_rating\": 4.6, \"reviews\": 6990, \"price\": 4, \"year\": 2017, \"genre\": \"Non Fiction\"}, {\"name\": \"Lean In: Women, Work, and the Will to Lead\", \"author\": \"Sheryl Sandberg\", \"user_rating\": 4.5, \"reviews\": 6132, \"price\": 13, \"year\": 2013, \"genre\": \"Non Fiction\"}, {\"name\": \"Leonardo da Vinci\", \"author\": \"Walter Isaacson\", \"user_rating\": 4.5, \"reviews\": 3014, \"price\": 21, \"year\": 2017, \"genre\": \"Non Fiction\"}, {\"name\": \"Lettering and Modern Calligraphy: A Beginner's Guide: Learn Hand Lettering and Brush Lettering\", \"author\": \"Paper Peony Press\", \"user_rating\": 4.4, \"reviews\": 7550, \"price\": 6, \"year\": 2018, \"genre\": \"Non Fiction\"}, {\"name\": \"Liberty and Tyranny: A Conservative Manifesto\", \"author\": \"Mark R. Levin\", \"user_rating\": 4.8, \"reviews\": 3828, \"price\": 15, \"year\": 2009, \"genre\": \"Non Fiction\"}, {\"name\": \"Life\", \"author\": \"Keith Richards\", \"user_rating\": 4.5, \"reviews\": 2752, \"price\": 18, \"year\": 2010, \"genre\": \"Non Fiction\"}, {\"name\": \"Little Bee: A Novel\", \"author\": \"Chris Cleave\", \"user_rating\": 4.1, \"reviews\": 1467, \"price\": 10, \"year\": 2010, \"genre\": \"Fiction\"}, {\"name\": \"Little Blue Truck\", \"author\": \"Alice Schertle\", \"user_rating\": 4.9, \"reviews\": 1884, \"price\": 0, \"year\": 2014, \"genre\": \"Fiction\"}, {\"name\": \"Little Fires Everywhere\", \"author\": \"Celeste Ng\", \"user_rating\": 4.5, \"reviews\": 25706, \"price\": 12, \"year\": 2018, \"genre\": \"Fiction\"}, {\"name\": \"Looking for Alaska\", \"author\": \"John Green\", \"user_rating\": 4.5, \"reviews\": 8491, \"price\": 7, \"year\": 2014, \"genre\": \"Fiction\"}, {\"name\": \"Love Wins: A Book About Heaven, Hell, and the Fate of Every Person Who Ever Lived\", \"author\": \"Rob Bell\", \"user_rating\": 4.2, \"reviews\": 1649, \"price\": 13, \"year\": 2011, \"genre\": \"Non Fiction\"}, {\"name\": \"Love You Forever\", \"author\": \"Robert Munsch\", \"user_rating\": 4.8, \"reviews\": 18613, \"price\": 5, \"year\": 2014, \"genre\": \"Fiction\"}, {\"name\": \"Love You Forever\", \"author\": \"Robert Munsch\", \"user_rating\": 4.8, \"reviews\": 18613, \"price\": 5, \"year\": 2015, \"genre\": \"Fiction\"}, {\"name\": \"Magnolia Table: A Collection of Recipes for Gathering\", \"author\": \"Joanna Gaines\", \"user_rating\": 4.8, \"reviews\": 9867, \"price\": 16, \"year\": 2018, \"genre\": \"Non Fiction\"}, {\"name\": \"Make It Ahead: A Barefoot Contessa Cookbook\", \"author\": \"Ina Garten\", \"user_rating\": 4.5, \"reviews\": 1386, \"price\": 20, \"year\": 2014, \"genre\": \"Non Fiction\"}, {\"name\": \"Make Your Bed: Little Things That Can Change Your Life...And Maybe the World\", \"author\": \"Admiral William H. McRaven\", \"user_rating\": 4.7, \"reviews\": 10199, \"price\": 11, \"year\": 2017, \"genre\": \"Non Fiction\"}, {\"name\": \"Mastering the Art of French Cooking, Vol. 2\", \"author\": \"Julia Child\", \"user_rating\": 4.8, \"reviews\": 2926, \"price\": 27, \"year\": 2009, \"genre\": \"Non Fiction\"}, {\"name\": \"Milk and Honey\", \"author\": \"Rupi Kaur\", \"user_rating\": 4.7, \"reviews\": 17739, \"price\": 8, \"year\": 2016, \"genre\": \"Non Fiction\"}, {\"name\": \"Milk and Honey\", \"author\": \"Rupi Kaur\", \"user_rating\": 4.7, \"reviews\": 17739, \"price\": 8, \"year\": 2017, \"genre\": \"Non Fiction\"}, {\"name\": \"Milk and Honey\", \"author\": \"Rupi Kaur\", \"user_rating\": 4.7, \"reviews\": 17739, \"price\": 8, \"year\": 2018, \"genre\": \"Non Fiction\"}, {\"name\": \"Milk and Vine: Inspirational Quotes From Classic Vines\", \"author\": \"Adam Gasiewski\", \"user_rating\": 4.4, \"reviews\": 3113, \"price\": 6, \"year\": 2017, \"genre\": \"Non Fiction\"}, {\"name\": \"Mindset: The New Psychology of Success\", \"author\": \"Carol S. Dweck\", \"user_rating\": 4.6, \"reviews\": 5542, \"price\": 10, \"year\": 2014, \"genre\": \"Non Fiction\"}, {\"name\": \"Mindset: The New Psychology of Success\", \"author\": \"Carol S. Dweck\", \"user_rating\": 4.6, \"reviews\": 5542, \"price\": 10, \"year\": 2015, \"genre\": \"Non Fiction\"}, {\"name\": \"Mindset: The New Psychology of Success\", \"author\": \"Carol S. Dweck\", \"user_rating\": 4.6, \"reviews\": 5542, \"price\": 10, \"year\": 2016, \"genre\": \"Non Fiction\"}, {\"name\": \"Mockingjay (The Hunger Games)\", \"author\": \"Suzanne Collins\", \"user_rating\": 4.5, \"reviews\": 26741, \"price\": 8, \"year\": 2010, \"genre\": \"Fiction\"}, {\"name\": \"Mockingjay (The Hunger Games)\", \"author\": \"Suzanne Collins\", \"user_rating\": 4.5, \"reviews\": 26741, \"price\": 8, \"year\": 2011, \"genre\": \"Fiction\"}, {\"name\": \"Mockingjay (The Hunger Games)\", \"author\": \"Suzanne Collins\", \"user_rating\": 4.5, \"reviews\": 26741, \"price\": 8, \"year\": 2012, \"genre\": \"Fiction\"}, {\"name\": \"National Geographic Kids Why?: Over 1,111 Answers to Everything\", \"author\": \"Crispin Boyer\", \"user_rating\": 4.8, \"reviews\": 5347, \"price\": 16, \"year\": 2019, \"genre\": \"Non Fiction\"}, {\"name\": \"National Geographic Little Kids First Big Book of Why (National Geographic Little Kids First Big Books)\", \"author\": \"Amy Shields\", \"user_rating\": 4.8, \"reviews\": 7866, \"price\": 11, \"year\": 2019, \"genre\": \"Non Fiction\"}, {\"name\": \"New Moon (The Twilight Saga)\", \"author\": \"Stephenie Meyer\", \"user_rating\": 4.6, \"reviews\": 5680, \"price\": 10, \"year\": 2009, \"genre\": \"Fiction\"}, {\"name\": \"Night (Night)\", \"author\": \"Elie Wiesel\", \"user_rating\": 4.7, \"reviews\": 5178, \"price\": 9, \"year\": 2016, \"genre\": \"Non Fiction\"}, {\"name\": \"No Easy Day: The Autobiography of a Navy Seal: The Firsthand Account of the Mission That Killed Osama Bin Laden\", \"author\": \"Mark Owen\", \"user_rating\": 4.6, \"reviews\": 8093, \"price\": 14, \"year\": 2012, \"genre\": \"Non Fiction\"}, {\"name\": \"Obama: An Intimate Portrait\", \"author\": \"Pete Souza\", \"user_rating\": 4.9, \"reviews\": 3192, \"price\": 22, \"year\": 2017, \"genre\": \"Non Fiction\"}, {\"name\": \"Oh, the Places You'll Go!\", \"author\": \"Dr. Seuss\", \"user_rating\": 4.9, \"reviews\": 21834, \"price\": 8, \"year\": 2012, \"genre\": \"Fiction\"}, {\"name\": \"Oh, the Places You'll Go!\", \"author\": \"Dr. Seuss\", \"user_rating\": 4.9, \"reviews\": 21834, \"price\": 8, \"year\": 2013, \"genre\": \"Fiction\"}, {\"name\": \"Oh, the Places You'll Go!\", \"author\": \"Dr. Seuss\", \"user_rating\": 4.9, \"reviews\": 21834, \"price\": 8, \"year\": 2014, \"genre\": \"Fiction\"}, {\"name\": \"Oh, the Places You'll Go!\", \"author\": \"Dr. Seuss\", \"user_rating\": 4.9, \"reviews\": 21834, \"price\": 8, \"year\": 2015, \"genre\": \"Fiction\"}, {\"name\": \"Oh, the Places You'll Go!\", \"author\": \"Dr. Seuss\", \"user_rating\": 4.9, \"reviews\": 21834, \"price\": 8, \"year\": 2016, \"genre\": \"Fiction\"}, {\"name\": \"Oh, the Places You'll Go!\", \"author\": \"Dr. Seuss\", \"user_rating\": 4.9, \"reviews\": 21834, \"price\": 8, \"year\": 2017, \"genre\": \"Fiction\"}, {\"name\": \"Oh, the Places You'll Go!\", \"author\": \"Dr. Seuss\", \"user_rating\": 4.9, \"reviews\": 21834, \"price\": 8, \"year\": 2018, \"genre\": \"Fiction\"}, {\"name\": \"Oh, the Places You'll Go!\", \"author\": \"Dr. Seuss\", \"user_rating\": 4.9, \"reviews\": 21834, \"price\": 8, \"year\": 2019, \"genre\": \"Fiction\"}, {\"name\": \"Old School (Diary of a Wimpy Kid #10)\", \"author\": \"Jeff Kinney\", \"user_rating\": 4.8, \"reviews\": 6169, \"price\": 7, \"year\": 2015, \"genre\": \"Fiction\"}, {\"name\": \"Olive Kitteridge\", \"author\": \"Elizabeth Strout\", \"user_rating\": 4.2, \"reviews\": 4519, \"price\": 12, \"year\": 2009, \"genre\": \"Fiction\"}, {\"name\": \"One Thousand Gifts: A Dare to Live Fully Right Where You Are\", \"author\": \"Ann Voskamp\", \"user_rating\": 4.6, \"reviews\": 3163, \"price\": 13, \"year\": 2011, \"genre\": \"Non Fiction\"}, {\"name\": \"One Thousand Gifts: A Dare to Live Fully Right Where You Are\", \"author\": \"Ann Voskamp\", \"user_rating\": 4.6, \"reviews\": 3163, \"price\": 13, \"year\": 2012, \"genre\": \"Non Fiction\"}, {\"name\": \"Option B: Facing Adversity, Building Resilience, and Finding Joy\", \"author\": \"Sheryl Sandberg\", \"user_rating\": 4.5, \"reviews\": 1831, \"price\": 9, \"year\": 2017, \"genre\": \"Non Fiction\"}, {\"name\": \"Origin: A Novel (Robert Langdon)\", \"author\": \"Dan Brown\", \"user_rating\": 4.3, \"reviews\": 18904, \"price\": 13, \"year\": 2017, \"genre\": \"Fiction\"}, {\"name\": \"Orphan Train\", \"author\": \"Christina Baker Kline\", \"user_rating\": 4.6, \"reviews\": 21930, \"price\": 11, \"year\": 2014, \"genre\": \"Fiction\"}, {\"name\": \"Outliers: The Story of Success\", \"author\": \"Malcolm Gladwell\", \"user_rating\": 4.6, \"reviews\": 10426, \"price\": 20, \"year\": 2009, \"genre\": \"Non Fiction\"}, {\"name\": \"Outliers: The Story of Success\", \"author\": \"Malcolm Gladwell\", \"user_rating\": 4.6, \"reviews\": 10426, \"price\": 20, \"year\": 2010, \"genre\": \"Non Fiction\"}, {\"name\": \"P is for Potty! (Sesame Street) (Lift-the-Flap)\", \"author\": \"Naomi Kleinberg\", \"user_rating\": 4.7, \"reviews\": 10820, \"price\": 5, \"year\": 2018, \"genre\": \"Non Fiction\"}, {\"name\": \"P is for Potty! (Sesame Street) (Lift-the-Flap)\", \"author\": \"Naomi Kleinberg\", \"user_rating\": 4.7, \"reviews\": 10820, \"price\": 5, \"year\": 2019, \"genre\": \"Non Fiction\"}, {\"name\": \"Percy Jackson and the Olympians Paperback Boxed Set (Books 1-3)\", \"author\": \"Rick Riordan\", \"user_rating\": 4.8, \"reviews\": 548, \"price\": 2, \"year\": 2010, \"genre\": \"Fiction\"}, {\"name\": \"Player's Handbook (Dungeons & Dragons)\", \"author\": \"Wizards RPG Team\", \"user_rating\": 4.8, \"reviews\": 16990, \"price\": 27, \"year\": 2017, \"genre\": \"Fiction\"}, {\"name\": \"Player's Handbook (Dungeons & Dragons)\", \"author\": \"Wizards RPG Team\", \"user_rating\": 4.8, \"reviews\": 16990, \"price\": 27, \"year\": 2018, \"genre\": \"Fiction\"}, {\"name\": \"Player's Handbook (Dungeons & Dragons)\", \"author\": \"Wizards RPG Team\", \"user_rating\": 4.8, \"reviews\": 16990, \"price\": 27, \"year\": 2019, \"genre\": \"Fiction\"}, {\"name\": \"Pok\\u00e9mon Deluxe Essential Handbook: The Need-to-Know Stats and Facts on Over 700 Pok\\u00e9mon\", \"author\": \"Scholastic\", \"user_rating\": 4.7, \"reviews\": 3503, \"price\": 9, \"year\": 2016, \"genre\": \"Fiction\"}, {\"name\": \"Proof of Heaven: A Neurosurgeon's Journey into the Afterlife\", \"author\": \"Eben Alexander\", \"user_rating\": 4.3, \"reviews\": 13616, \"price\": 10, \"year\": 2012, \"genre\": \"Non Fiction\"}, {\"name\": \"Proof of Heaven: A Neurosurgeon's Journey into the Afterlife\", \"author\": \"Eben Alexander\", \"user_rating\": 4.3, \"reviews\": 13616, \"price\": 10, \"year\": 2013, \"genre\": \"Non Fiction\"}, {\"name\": \"Publication Manual of the American Psychological Association, 6th Edition\", \"author\": \"American Psychological Association\", \"user_rating\": 4.5, \"reviews\": 8580, \"price\": 46, \"year\": 2009, \"genre\": \"Non Fiction\"}, {\"name\": \"Publication Manual of the American Psychological Association, 6th Edition\", \"author\": \"American Psychological Association\", \"user_rating\": 4.5, \"reviews\": 8580, \"price\": 46, \"year\": 2010, \"genre\": \"Non Fiction\"}, {\"name\": \"Publication Manual of the American Psychological Association, 6th Edition\", \"author\": \"American Psychological Association\", \"user_rating\": 4.5, \"reviews\": 8580, \"price\": 46, \"year\": 2011, \"genre\": \"Non Fiction\"}, {\"name\": \"Publication Manual of the American Psychological Association, 6th Edition\", \"author\": \"American Psychological Association\", \"user_rating\": 4.5, \"reviews\": 8580, \"price\": 46, \"year\": 2012, \"genre\": \"Non Fiction\"}, {\"name\": \"Publication Manual of the American Psychological Association, 6th Edition\", \"author\": \"American Psychological Association\", \"user_rating\": 4.5, \"reviews\": 8580, \"price\": 46, \"year\": 2013, \"genre\": \"Non Fiction\"}, {\"name\": \"Publication Manual of the American Psychological Association, 6th Edition\", \"author\": \"American Psychological Association\", \"user_rating\": 4.5, \"reviews\": 8580, \"price\": 46, \"year\": 2014, \"genre\": \"Non Fiction\"}, {\"name\": \"Publication Manual of the American Psychological Association, 6th Edition\", \"author\": \"American Psychological Association\", \"user_rating\": 4.5, \"reviews\": 8580, \"price\": 46, \"year\": 2015, \"genre\": \"Non Fiction\"}, {\"name\": \"Publication Manual of the American Psychological Association, 6th Edition\", \"author\": \"American Psychological Association\", \"user_rating\": 4.5, \"reviews\": 8580, \"price\": 46, \"year\": 2016, \"genre\": \"Non Fiction\"}, {\"name\": \"Publication Manual of the American Psychological Association, 6th Edition\", \"author\": \"American Psychological Association\", \"user_rating\": 4.5, \"reviews\": 8580, \"price\": 46, \"year\": 2017, \"genre\": \"Non Fiction\"}, {\"name\": \"Publication Manual of the American Psychological Association, 6th Edition\", \"author\": \"American Psychological Association\", \"user_rating\": 4.5, \"reviews\": 8580, \"price\": 46, \"year\": 2018, \"genre\": \"Non Fiction\"}, {\"name\": \"Puppy Birthday to You! (Paw Patrol) (Little Golden Book)\", \"author\": \"Golden Books\", \"user_rating\": 4.8, \"reviews\": 4757, \"price\": 4, \"year\": 2017, \"genre\": \"Fiction\"}, {\"name\": \"Quiet: The Power of Introverts in a World That Can't Stop Talking\", \"author\": \"Susan Cain\", \"user_rating\": 4.6, \"reviews\": 10009, \"price\": 20, \"year\": 2012, \"genre\": \"Non Fiction\"}, {\"name\": \"Quiet: The Power of Introverts in a World That Can't Stop Talking\", \"author\": \"Susan Cain\", \"user_rating\": 4.6, \"reviews\": 10009, \"price\": 7, \"year\": 2013, \"genre\": \"Non Fiction\"}, {\"name\": \"Radical: Taking Back Your Faith from the American Dream\", \"author\": \"David Platt\", \"user_rating\": 4.7, \"reviews\": 1985, \"price\": 9, \"year\": 2010, \"genre\": \"Non Fiction\"}, {\"name\": \"Radical: Taking Back Your Faith from the American Dream\", \"author\": \"David Platt\", \"user_rating\": 4.7, \"reviews\": 1985, \"price\": 9, \"year\": 2011, \"genre\": \"Non Fiction\"}, {\"name\": \"Ready Player One: A Novel\", \"author\": \"Ernest Cline\", \"user_rating\": 4.6, \"reviews\": 22536, \"price\": 12, \"year\": 2017, \"genre\": \"Fiction\"}, {\"name\": \"Ready Player One: A Novel\", \"author\": \"Ernest Cline\", \"user_rating\": 4.6, \"reviews\": 22536, \"price\": 12, \"year\": 2018, \"genre\": \"Fiction\"}, {\"name\": \"Rush Revere and the Brave Pilgrims: Time-Travel Adventures with Exceptional Americans (1)\", \"author\": \"Rush Limbaugh\", \"user_rating\": 4.9, \"reviews\": 7150, \"price\": 12, \"year\": 2013, \"genre\": \"Fiction\"}, {\"name\": \"Rush Revere and the First Patriots: Time-Travel Adventures With Exceptional Americans (2)\", \"author\": \"Rush Limbaugh\", \"user_rating\": 4.9, \"reviews\": 3836, \"price\": 12, \"year\": 2014, \"genre\": \"Fiction\"}, {\"name\": \"Salt, Fat, Acid, Heat: Mastering the Elements of Good Cooking\", \"author\": \"Samin Nosrat\", \"user_rating\": 4.8, \"reviews\": 7802, \"price\": 20, \"year\": 2018, \"genre\": \"Non Fiction\"}, {\"name\": \"Salt, Fat, Acid, Heat: Mastering the Elements of Good Cooking\", \"author\": \"Samin Nosrat\", \"user_rating\": 4.8, \"reviews\": 7802, \"price\": 20, \"year\": 2019, \"genre\": \"Non Fiction\"}, {\"name\": \"Sarah's Key\", \"author\": \"Tatiana de Rosnay\", \"user_rating\": 4.6, \"reviews\": 3619, \"price\": 10, \"year\": 2010, \"genre\": \"Fiction\"}, {\"name\": \"School Zone - Big Preschool Workbook - Ages 4 and Up, Colors, Shapes, Numbers 1-10, Alphabet, Pre-Writing, Pre-Reading\\u2026\", \"author\": \"School Zone\", \"user_rating\": 4.8, \"reviews\": 23047, \"price\": 6, \"year\": 2018, \"genre\": \"Non Fiction\"}, {\"name\": \"School Zone - Big Preschool Workbook - Ages 4 and Up, Colors, Shapes, Numbers 1-10, Alphabet, Pre-Writing, Pre-Reading\\u2026\", \"author\": \"School Zone\", \"user_rating\": 4.8, \"reviews\": 23047, \"price\": 6, \"year\": 2019, \"genre\": \"Non Fiction\"}, {\"name\": \"Secret Garden: An Inky Treasure Hunt and Coloring Book (For Adults, mindfulness coloring)\", \"author\": \"Johanna Basford\", \"user_rating\": 4.7, \"reviews\": 9366, \"price\": 9, \"year\": 2015, \"genre\": \"Non Fiction\"}, {\"name\": \"Sh*t My Dad Says\", \"author\": \"Justin Halpern\", \"user_rating\": 4.7, \"reviews\": 1265, \"price\": 11, \"year\": 2010, \"genre\": \"Non Fiction\"}, {\"name\": \"Ship of Fools: How a Selfish Ruling Class Is Bringing America to the Brink of Revolution\", \"author\": \"Tucker Carlson\", \"user_rating\": 4.8, \"reviews\": 3923, \"price\": 16, \"year\": 2018, \"genre\": \"Non Fiction\"}, {\"name\": \"Shred: The Revolutionary Diet: 6 Weeks 4 Inches 2 Sizes\", \"author\": \"Ian K. Smith M.D.\", \"user_rating\": 4.1, \"reviews\": 2272, \"price\": 6, \"year\": 2013, \"genre\": \"Non Fiction\"}, {\"name\": \"Sookie Stackhouse\", \"author\": \"Charlaine Harris\", \"user_rating\": 4.7, \"reviews\": 973, \"price\": 25, \"year\": 2009, \"genre\": \"Fiction\"}, {\"name\": \"Soul Healing Miracles: Ancient and New Sacred Wisdom, Knowledge, and Practical Techniques for Healing the Spiritual\\u2026\", \"author\": \"Zhi Gang Sha\", \"user_rating\": 4.6, \"reviews\": 220, \"price\": 17, \"year\": 2013, \"genre\": \"Non Fiction\"}, {\"name\": \"Steve Jobs\", \"author\": \"Walter Isaacson\", \"user_rating\": 4.6, \"reviews\": 7827, \"price\": 20, \"year\": 2011, \"genre\": \"Non Fiction\"}, {\"name\": \"Steve Jobs\", \"author\": \"Walter Isaacson\", \"user_rating\": 4.6, \"reviews\": 7827, \"price\": 20, \"year\": 2012, \"genre\": \"Non Fiction\"}, {\"name\": \"Strange Planet (Strange Planet Series)\", \"author\": \"Nathan W. Pyle\", \"user_rating\": 4.9, \"reviews\": 9382, \"price\": 6, \"year\": 2019, \"genre\": \"Fiction\"}, {\"name\": \"StrengthsFinder 2.0\", \"author\": \"Gallup\", \"user_rating\": 4.0, \"reviews\": 5069, \"price\": 17, \"year\": 2009, \"genre\": \"Non Fiction\"}, {\"name\": \"StrengthsFinder 2.0\", \"author\": \"Gallup\", \"user_rating\": 4.0, \"reviews\": 5069, \"price\": 17, \"year\": 2010, \"genre\": \"Non Fiction\"}, {\"name\": \"StrengthsFinder 2.0\", \"author\": \"Gallup\", \"user_rating\": 4.0, \"reviews\": 5069, \"price\": 17, \"year\": 2011, \"genre\": \"Non Fiction\"}, {\"name\": \"StrengthsFinder 2.0\", \"author\": \"Gallup\", \"user_rating\": 4.0, \"reviews\": 5069, \"price\": 17, \"year\": 2012, \"genre\": \"Non Fiction\"}, {\"name\": \"StrengthsFinder 2.0\", \"author\": \"Gallup\", \"user_rating\": 4.0, \"reviews\": 5069, \"price\": 17, \"year\": 2013, \"genre\": \"Non Fiction\"}, {\"name\": \"StrengthsFinder 2.0\", \"author\": \"Gallup\", \"user_rating\": 4.0, \"reviews\": 5069, \"price\": 17, \"year\": 2014, \"genre\": \"Non Fiction\"}, {\"name\": \"StrengthsFinder 2.0\", \"author\": \"Gallup\", \"user_rating\": 4.0, \"reviews\": 5069, \"price\": 17, \"year\": 2015, \"genre\": \"Non Fiction\"}, {\"name\": \"StrengthsFinder 2.0\", \"author\": \"Gallup\", \"user_rating\": 4.0, \"reviews\": 5069, \"price\": 17, \"year\": 2016, \"genre\": \"Non Fiction\"}, {\"name\": \"StrengthsFinder 2.0\", \"author\": \"Gallup\", \"user_rating\": 4.0, \"reviews\": 5069, \"price\": 17, \"year\": 2017, \"genre\": \"Non Fiction\"}, {\"name\": \"Super Freakonomics: Global Cooling, Patriotic Prostitutes, and Why Suicide Bombers Should Buy Life Insurance\", \"author\": \"Steven D. Levitt\", \"user_rating\": 4.5, \"reviews\": 1583, \"price\": 18, \"year\": 2009, \"genre\": \"Non Fiction\"}, {\"name\": \"Switch: How to Change Things When Change Is Hard\", \"author\": \"Chip Heath\", \"user_rating\": 4.6, \"reviews\": 1907, \"price\": 13, \"year\": 2010, \"genre\": \"Non Fiction\"}, {\"name\": \"Sycamore Row (Jake Brigance)\", \"author\": \"John Grisham\", \"user_rating\": 4.5, \"reviews\": 23114, \"price\": 18, \"year\": 2013, \"genre\": \"Fiction\"}, {\"name\": \"Teach Like a Champion: 49 Techniques that Put Students on the Path to College\", \"author\": \"Doug Lemov\", \"user_rating\": 4.4, \"reviews\": 637, \"price\": 20, \"year\": 2010, \"genre\": \"Non Fiction\"}, {\"name\": \"Teach Like a Champion: 49 Techniques that Put Students on the Path to College\", \"author\": \"Doug Lemov\", \"user_rating\": 4.4, \"reviews\": 637, \"price\": 20, \"year\": 2011, \"genre\": \"Non Fiction\"}, {\"name\": \"The 17 Day Diet: A Doctor's Plan Designed for Rapid Results\", \"author\": \"Mike Moreno\", \"user_rating\": 4.3, \"reviews\": 2314, \"price\": 22, \"year\": 2011, \"genre\": \"Non Fiction\"}, {\"name\": \"The 4 Hour Body: An Uncommon Guide to Rapid Fat Loss, Incredible Sex and Becoming Superhuman\", \"author\": \"Timothy Ferriss\", \"user_rating\": 4.3, \"reviews\": 4587, \"price\": 21, \"year\": 2011, \"genre\": \"Non Fiction\"}, {\"name\": \"The 5 Love Languages: The Secret to Love That Lasts\", \"author\": \"Gary Chapman\", \"user_rating\": 4.7, \"reviews\": 3477, \"price\": 28, \"year\": 2010, \"genre\": \"Non Fiction\"}, {\"name\": \"The 5 Love Languages: The Secret to Love That Lasts\", \"author\": \"Gary Chapman\", \"user_rating\": 4.7, \"reviews\": 3477, \"price\": 28, \"year\": 2011, \"genre\": \"Non Fiction\"}, {\"name\": \"The 5 Love Languages: The Secret to Love That Lasts\", \"author\": \"Gary Chapman\", \"user_rating\": 4.7, \"reviews\": 3477, \"price\": 28, \"year\": 2012, \"genre\": \"Non Fiction\"}, {\"name\": \"The 5 Love Languages: The Secret to Love That Lasts\", \"author\": \"Gary Chapman\", \"user_rating\": 4.7, \"reviews\": 3477, \"price\": 28, \"year\": 2013, \"genre\": \"Non Fiction\"}, {\"name\": \"The 5 Love Languages: The Secret to Love That Lasts\", \"author\": \"Gary Chapman\", \"user_rating\": 4.7, \"reviews\": 3477, \"price\": 28, \"year\": 2014, \"genre\": \"Non Fiction\"}, {\"name\": \"The 5 Love Languages: The Secret to Love that Lasts\", \"author\": \"Gary Chapman\", \"user_rating\": 4.8, \"reviews\": 25554, \"price\": 8, \"year\": 2015, \"genre\": \"Non Fiction\"}, {\"name\": \"The 5 Love Languages: The Secret to Love that Lasts\", \"author\": \"Gary Chapman\", \"user_rating\": 4.8, \"reviews\": 25554, \"price\": 8, \"year\": 2016, \"genre\": \"Non Fiction\"}, {\"name\": \"The 5 Love Languages: The Secret to Love that Lasts\", \"author\": \"Gary Chapman\", \"user_rating\": 4.8, \"reviews\": 25554, \"price\": 8, \"year\": 2017, \"genre\": \"Non Fiction\"}, {\"name\": \"The 5 Love Languages: The Secret to Love that Lasts\", \"author\": \"Gary Chapman\", \"user_rating\": 4.8, \"reviews\": 25554, \"price\": 8, \"year\": 2018, \"genre\": \"Non Fiction\"}, {\"name\": \"The 5 Love Languages: The Secret to Love that Lasts\", \"author\": \"Gary Chapman\", \"user_rating\": 4.8, \"reviews\": 25554, \"price\": 8, \"year\": 2019, \"genre\": \"Non Fiction\"}, {\"name\": \"The 5000 Year Leap\", \"author\": \"W. Cleon Skousen\", \"user_rating\": 4.8, \"reviews\": 1680, \"price\": 12, \"year\": 2009, \"genre\": \"Non Fiction\"}, {\"name\": \"The 7 Habits of Highly Effective People: Powerful Lessons in Personal Change\", \"author\": \"Stephen R. Covey\", \"user_rating\": 4.6, \"reviews\": 9325, \"price\": 24, \"year\": 2009, \"genre\": \"Non Fiction\"}, {\"name\": \"The 7 Habits of Highly Effective People: Powerful Lessons in Personal Change\", \"author\": \"Stephen R. Covey\", \"user_rating\": 4.6, \"reviews\": 9325, \"price\": 24, \"year\": 2011, \"genre\": \"Non Fiction\"}, {\"name\": \"The 7 Habits of Highly Effective People: Powerful Lessons in Personal Change\", \"author\": \"Stephen R. Covey\", \"user_rating\": 4.6, \"reviews\": 9325, \"price\": 24, \"year\": 2012, \"genre\": \"Non Fiction\"}, {\"name\": \"The 7 Habits of Highly Effective People: Powerful Lessons in Personal Change\", \"author\": \"Stephen R. Covey\", \"user_rating\": 4.6, \"reviews\": 9325, \"price\": 24, \"year\": 2013, \"genre\": \"Non Fiction\"}, {\"name\": \"The 7 Habits of Highly Effective People: Powerful Lessons in Personal Change\", \"author\": \"Stephen R. Covey\", \"user_rating\": 4.7, \"reviews\": 4725, \"price\": 16, \"year\": 2015, \"genre\": \"Non Fiction\"}, {\"name\": \"The 7 Habits of Highly Effective People: Powerful Lessons in Personal Change\", \"author\": \"Stephen R. Covey\", \"user_rating\": 4.7, \"reviews\": 4725, \"price\": 16, \"year\": 2016, \"genre\": \"Non Fiction\"}, {\"name\": \"The 7 Habits of Highly Effective People: Powerful Lessons in Personal Change\", \"author\": \"Stephen R. Covey\", \"user_rating\": 4.7, \"reviews\": 4725, \"price\": 16, \"year\": 2017, \"genre\": \"Non Fiction\"}, {\"name\": \"The Alchemist\", \"author\": \"Paulo Coelho\", \"user_rating\": 4.7, \"reviews\": 35799, \"price\": 39, \"year\": 2014, \"genre\": \"Fiction\"}, {\"name\": \"The Amateur\", \"author\": \"Edward Klein\", \"user_rating\": 4.6, \"reviews\": 2580, \"price\": 9, \"year\": 2012, \"genre\": \"Non Fiction\"}, {\"name\": \"The Art of Racing in the Rain: A Novel\", \"author\": \"Garth Stein\", \"user_rating\": 4.7, \"reviews\": 11813, \"price\": 10, \"year\": 2010, \"genre\": \"Fiction\"}, {\"name\": \"The Art of Racing in the Rain: A Novel\", \"author\": \"Garth Stein\", \"user_rating\": 4.7, \"reviews\": 11813, \"price\": 10, \"year\": 2011, \"genre\": \"Fiction\"}, {\"name\": \"The Big Short: Inside the Doomsday Machine\", \"author\": \"Michael Lewis\", \"user_rating\": 4.7, \"reviews\": 3536, \"price\": 17, \"year\": 2010, \"genre\": \"Non Fiction\"}, {\"name\": \"The Blood of Olympus (The Heroes of Olympus (5))\", \"author\": \"Rick Riordan\", \"user_rating\": 4.8, \"reviews\": 6600, \"price\": 11, \"year\": 2014, \"genre\": \"Fiction\"}, {\"name\": \"The Blood Sugar Solution: The UltraHealthy Program for Losing Weight, Preventing Disease, and Feeling Great Now!\", \"author\": \"Mark Hyman M.D.\", \"user_rating\": 4.2, \"reviews\": 1789, \"price\": 14, \"year\": 2012, \"genre\": \"Non Fiction\"}, {\"name\": \"The Body Keeps the Score: Brain, Mind, and Body in the Healing of Trauma\", \"author\": \"Bessel van der Kolk M.D.\", \"user_rating\": 4.8, \"reviews\": 12361, \"price\": 12, \"year\": 2019, \"genre\": \"Non Fiction\"}, {\"name\": \"The Book of Basketball: The NBA According to The Sports Guy\", \"author\": \"Bill Simmons\", \"user_rating\": 4.7, \"reviews\": 858, \"price\": 53, \"year\": 2009, \"genre\": \"Non Fiction\"}, {\"name\": \"The Book Thief\", \"author\": \"Markus Zusak\", \"user_rating\": 4.6, \"reviews\": 23148, \"price\": 6, \"year\": 2013, \"genre\": \"Fiction\"}, {\"name\": \"The Book Thief\", \"author\": \"Markus Zusak\", \"user_rating\": 4.6, \"reviews\": 23148, \"price\": 6, \"year\": 2014, \"genre\": \"Fiction\"}, {\"name\": \"The Book with No Pictures\", \"author\": \"B. J. Novak\", \"user_rating\": 4.8, \"reviews\": 8081, \"price\": 8, \"year\": 2014, \"genre\": \"Fiction\"}, {\"name\": \"The Book with No Pictures\", \"author\": \"B. J. Novak\", \"user_rating\": 4.8, \"reviews\": 8081, \"price\": 8, \"year\": 2015, \"genre\": \"Fiction\"}, {\"name\": \"The Boys in the Boat: Nine Americans and Their Epic Quest for Gold at the 1936 Berlin Olympics\", \"author\": \"Daniel James Brown\", \"user_rating\": 4.8, \"reviews\": 23358, \"price\": 12, \"year\": 2014, \"genre\": \"Non Fiction\"}, {\"name\": \"The Boys in the Boat: Nine Americans and Their Epic Quest for Gold at the 1936 Berlin Olympics\", \"author\": \"Daniel James Brown\", \"user_rating\": 4.8, \"reviews\": 23358, \"price\": 12, \"year\": 2015, \"genre\": \"Non Fiction\"}, {\"name\": \"The Casual Vacancy\", \"author\": \"J.K. Rowling\", \"user_rating\": 3.3, \"reviews\": 9372, \"price\": 12, \"year\": 2012, \"genre\": \"Fiction\"}, {\"name\": \"The China Study: The Most Comprehensive Study of Nutrition Ever Conducted And the Startling Implications for Diet\\u2026\", \"author\": \"Thomas Campbell\", \"user_rating\": 4.7, \"reviews\": 4633, \"price\": 21, \"year\": 2011, \"genre\": \"Non Fiction\"}, {\"name\": \"The Complete Ketogenic Diet for Beginners: Your Essential Guide to Living the Keto Lifestyle\", \"author\": \"Amy Ramos\", \"user_rating\": 4.3, \"reviews\": 13061, \"price\": 6, \"year\": 2018, \"genre\": \"Non Fiction\"}, {\"name\": \"The Complete Ketogenic Diet for Beginners: Your Essential Guide to Living the Keto Lifestyle\", \"author\": \"Amy Ramos\", \"user_rating\": 4.3, \"reviews\": 13061, \"price\": 6, \"year\": 2019, \"genre\": \"Non Fiction\"}, {\"name\": \"The Confession: A Novel\", \"author\": \"John Grisham\", \"user_rating\": 4.3, \"reviews\": 3523, \"price\": 13, \"year\": 2010, \"genre\": \"Fiction\"}, {\"name\": \"The Constitution of the United States\", \"author\": \"Delegates of the Constitutional\\u0085\", \"user_rating\": 4.8, \"reviews\": 2774, \"price\": 0, \"year\": 2016, \"genre\": \"Non Fiction\"}, {\"name\": \"The Daily Show with Jon Stewart Presents Earth (The Book): A Visitor's Guide to the Human Race\", \"author\": \"Jon Stewart\", \"user_rating\": 4.4, \"reviews\": 440, \"price\": 11, \"year\": 2010, \"genre\": \"Non Fiction\"}, {\"name\": \"The Day the Crayons Quit\", \"author\": \"Drew Daywalt\", \"user_rating\": 4.8, \"reviews\": 8922, \"price\": 9, \"year\": 2013, \"genre\": \"Fiction\"}, {\"name\": \"The Day the Crayons Quit\", \"author\": \"Drew Daywalt\", \"user_rating\": 4.8, \"reviews\": 8922, \"price\": 9, \"year\": 2014, \"genre\": \"Fiction\"}, {\"name\": \"The Day the Crayons Quit\", \"author\": \"Drew Daywalt\", \"user_rating\": 4.8, \"reviews\": 8922, \"price\": 9, \"year\": 2015, \"genre\": \"Fiction\"}, {\"name\": \"The Dukan Diet: 2 Steps to Lose the Weight, 2 Steps to Keep It Off Forever\", \"author\": \"Pierre Dukan\", \"user_rating\": 4.1, \"reviews\": 2023, \"price\": 15, \"year\": 2011, \"genre\": \"Non Fiction\"}, {\"name\": \"The Elegance of the Hedgehog\", \"author\": \"Muriel Barbery\", \"user_rating\": 4.0, \"reviews\": 1859, \"price\": 11, \"year\": 2009, \"genre\": \"Fiction\"}, {\"name\": \"The Fault in Our Stars\", \"author\": \"John Green\", \"user_rating\": 4.7, \"reviews\": 50482, \"price\": 13, \"year\": 2012, \"genre\": \"Fiction\"}, {\"name\": \"The Fault in Our Stars\", \"author\": \"John Green\", \"user_rating\": 4.7, \"reviews\": 50482, \"price\": 13, \"year\": 2013, \"genre\": \"Fiction\"}, {\"name\": \"The Fault in Our Stars\", \"author\": \"John Green\", \"user_rating\": 4.7, \"reviews\": 50482, \"price\": 7, \"year\": 2014, \"genre\": \"Fiction\"}, {\"name\": \"The Fault in Our Stars\", \"author\": \"John Green\", \"user_rating\": 4.7, \"reviews\": 50482, \"price\": 13, \"year\": 2014, \"genre\": \"Fiction\"}, {\"name\": \"The Five Dysfunctions of a Team: A Leadership Fable\", \"author\": \"Patrick Lencioni\", \"user_rating\": 4.6, \"reviews\": 3207, \"price\": 6, \"year\": 2009, \"genre\": \"Non Fiction\"}, {\"name\": \"The Five Dysfunctions of a Team: A Leadership Fable\", \"author\": \"Patrick Lencioni\", \"user_rating\": 4.6, \"reviews\": 3207, \"price\": 6, \"year\": 2010, \"genre\": \"Non Fiction\"}, {\"name\": \"The Five Dysfunctions of a Team: A Leadership Fable\", \"author\": \"Patrick Lencioni\", \"user_rating\": 4.6, \"reviews\": 3207, \"price\": 6, \"year\": 2011, \"genre\": \"Non Fiction\"}, {\"name\": \"The Five Dysfunctions of a Team: A Leadership Fable\", \"author\": \"Patrick Lencioni\", \"user_rating\": 4.6, \"reviews\": 3207, \"price\": 6, \"year\": 2012, \"genre\": \"Non Fiction\"}, {\"name\": \"The Five Dysfunctions of a Team: A Leadership Fable\", \"author\": \"Patrick Lencioni\", \"user_rating\": 4.6, \"reviews\": 3207, \"price\": 6, \"year\": 2013, \"genre\": \"Non Fiction\"}, {\"name\": \"The Five Love Languages: How to Express Heartfelt Commitment to Your Mate\", \"author\": \"Gary Chapman\", \"user_rating\": 4.6, \"reviews\": 803, \"price\": 9, \"year\": 2009, \"genre\": \"Non Fiction\"}, {\"name\": \"The Four Agreements: A Practical Guide to Personal Freedom (A Toltec Wisdom Book)\", \"author\": \"Don Miguel Ruiz\", \"user_rating\": 4.7, \"reviews\": 23308, \"price\": 6, \"year\": 2013, \"genre\": \"Non Fiction\"}, {\"name\": \"The Four Agreements: A Practical Guide to Personal Freedom (A Toltec Wisdom Book)\", \"author\": \"Don Miguel Ruiz\", \"user_rating\": 4.7, \"reviews\": 23308, \"price\": 6, \"year\": 2015, \"genre\": \"Non Fiction\"}, {\"name\": \"The Four Agreements: A Practical Guide to Personal Freedom (A Toltec Wisdom Book)\", \"author\": \"Don Miguel Ruiz\", \"user_rating\": 4.7, \"reviews\": 23308, \"price\": 6, \"year\": 2016, \"genre\": \"Non Fiction\"}, {\"name\": \"The Four Agreements: A Practical Guide to Personal Freedom (A Toltec Wisdom Book)\", \"author\": \"Don Miguel Ruiz\", \"user_rating\": 4.7, \"reviews\": 23308, \"price\": 6, \"year\": 2017, \"genre\": \"Non Fiction\"}, {\"name\": \"The Four Agreements: A Practical Guide to Personal Freedom (A Toltec Wisdom Book)\", \"author\": \"Don Miguel Ruiz\", \"user_rating\": 4.7, \"reviews\": 23308, \"price\": 6, \"year\": 2018, \"genre\": \"Non Fiction\"}, {\"name\": \"The Four Agreements: A Practical Guide to Personal Freedom (A Toltec Wisdom Book)\", \"author\": \"Don Miguel Ruiz\", \"user_rating\": 4.7, \"reviews\": 23308, \"price\": 6, \"year\": 2019, \"genre\": \"Non Fiction\"}, {\"name\": \"The Getaway\", \"author\": \"Jeff Kinney\", \"user_rating\": 4.8, \"reviews\": 5836, \"price\": 0, \"year\": 2017, \"genre\": \"Fiction\"}, {\"name\": \"The Girl on the Train\", \"author\": \"Paula Hawkins\", \"user_rating\": 4.1, \"reviews\": 79446, \"price\": 18, \"year\": 2015, \"genre\": \"Fiction\"}, {\"name\": \"The Girl on the Train\", \"author\": \"Paula Hawkins\", \"user_rating\": 4.1, \"reviews\": 79446, \"price\": 7, \"year\": 2016, \"genre\": \"Fiction\"}, {\"name\": \"The Girl Who Kicked the Hornet's Nest (Millennium Trilogy)\", \"author\": \"Stieg Larsson\", \"user_rating\": 4.7, \"reviews\": 7747, \"price\": 14, \"year\": 2010, \"genre\": \"Fiction\"}, {\"name\": \"The Girl Who Kicked the Hornet's Nest (Millennium Trilogy)\", \"author\": \"Stieg Larsson\", \"user_rating\": 4.7, \"reviews\": 7747, \"price\": 14, \"year\": 2011, \"genre\": \"Fiction\"}, {\"name\": \"The Girl Who Played with Fire (Millennium Series)\", \"author\": \"Stieg Larsson\", \"user_rating\": 4.7, \"reviews\": 7251, \"price\": 9, \"year\": 2010, \"genre\": \"Fiction\"}, {\"name\": \"The Girl Who Played with Fire (Millennium)\", \"author\": \"Stieg Larsson\", \"user_rating\": 4.7, \"reviews\": 7251, \"price\": 16, \"year\": 2009, \"genre\": \"Fiction\"}, {\"name\": \"The Girl with the Dragon Tattoo (Millennium Series)\", \"author\": \"Stieg Larsson\", \"user_rating\": 4.4, \"reviews\": 10559, \"price\": 2, \"year\": 2009, \"genre\": \"Fiction\"}, {\"name\": \"The Girl with the Dragon Tattoo (Millennium Series)\", \"author\": \"Stieg Larsson\", \"user_rating\": 4.4, \"reviews\": 10559, \"price\": 2, \"year\": 2010, \"genre\": \"Fiction\"}, {\"name\": \"The Going-To-Bed Book\", \"author\": \"Sandra Boynton\", \"user_rating\": 4.8, \"reviews\": 5249, \"price\": 5, \"year\": 2016, \"genre\": \"Fiction\"}, {\"name\": \"The Going-To-Bed Book\", \"author\": \"Sandra Boynton\", \"user_rating\": 4.8, \"reviews\": 5249, \"price\": 5, \"year\": 2017, \"genre\": \"Fiction\"}, {\"name\": \"The Goldfinch: A Novel (Pulitzer Prize for Fiction)\", \"author\": \"Donna Tartt\", \"user_rating\": 3.9, \"reviews\": 33844, \"price\": 20, \"year\": 2013, \"genre\": \"Fiction\"}, {\"name\": \"The Goldfinch: A Novel (Pulitzer Prize for Fiction)\", \"author\": \"Donna Tartt\", \"user_rating\": 3.9, \"reviews\": 33844, \"price\": 20, \"year\": 2014, \"genre\": \"Fiction\"}, {\"name\": \"The Great Gatsby\", \"author\": \"F. Scott Fitzgerald\", \"user_rating\": 4.4, \"reviews\": 11616, \"price\": 7, \"year\": 2012, \"genre\": \"Fiction\"}, {\"name\": \"The Great Gatsby\", \"author\": \"F. Scott Fitzgerald\", \"user_rating\": 4.4, \"reviews\": 11616, \"price\": 7, \"year\": 2013, \"genre\": \"Fiction\"}, {\"name\": \"The Great Gatsby\", \"author\": \"F. Scott Fitzgerald\", \"user_rating\": 4.4, \"reviews\": 11616, \"price\": 7, \"year\": 2014, \"genre\": \"Fiction\"}, {\"name\": \"The Guardians: A Novel\", \"author\": \"John Grisham\", \"user_rating\": 4.5, \"reviews\": 13609, \"price\": 14, \"year\": 2019, \"genre\": \"Fiction\"}, {\"name\": \"The Guernsey Literary and Potato Peel Pie Society\", \"author\": \"Mary Ann Shaffer\", \"user_rating\": 4.7, \"reviews\": 8587, \"price\": 10, \"year\": 2009, \"genre\": \"Fiction\"}, {\"name\": \"The Handmaid's Tale\", \"author\": \"Margaret Atwood\", \"user_rating\": 4.3, \"reviews\": 29442, \"price\": 7, \"year\": 2017, \"genre\": \"Fiction\"}, {\"name\": \"The Harbinger: The Ancient Mystery that Holds the Secret of America's Future\", \"author\": \"Jonathan Cahn\", \"user_rating\": 4.6, \"reviews\": 11098, \"price\": 13, \"year\": 2012, \"genre\": \"Fiction\"}, {\"name\": \"The Hate U Give\", \"author\": \"Angie Thomas\", \"user_rating\": 4.8, \"reviews\": 9947, \"price\": 11, \"year\": 2018, \"genre\": \"Fiction\"}, {\"name\": \"The Help\", \"author\": \"Kathryn Stockett\", \"user_rating\": 4.8, \"reviews\": 13871, \"price\": 6, \"year\": 2009, \"genre\": \"Fiction\"}, {\"name\": \"The Help\", \"author\": \"Kathryn Stockett\", \"user_rating\": 4.8, \"reviews\": 13871, \"price\": 6, \"year\": 2010, \"genre\": \"Fiction\"}, {\"name\": \"The Help\", \"author\": \"Kathryn Stockett\", \"user_rating\": 4.8, \"reviews\": 13871, \"price\": 8, \"year\": 2011, \"genre\": \"Fiction\"}, {\"name\": \"The Help\", \"author\": \"Kathryn Stockett\", \"user_rating\": 4.8, \"reviews\": 13871, \"price\": 7, \"year\": 2011, \"genre\": \"Fiction\"}, {\"name\": \"The House of Hades (Heroes of Olympus, Book 4)\", \"author\": \"Rick Riordan\", \"user_rating\": 4.8, \"reviews\": 6982, \"price\": 14, \"year\": 2013, \"genre\": \"Fiction\"}, {\"name\": \"The Hunger Games\", \"author\": \"Suzanne Collins\", \"user_rating\": 4.7, \"reviews\": 32122, \"price\": 14, \"year\": 2010, \"genre\": \"Fiction\"}, {\"name\": \"The Hunger Games (Book 1)\", \"author\": \"Suzanne Collins\", \"user_rating\": 4.7, \"reviews\": 32122, \"price\": 8, \"year\": 2011, \"genre\": \"Fiction\"}, {\"name\": \"The Hunger Games (Book 1)\", \"author\": \"Suzanne Collins\", \"user_rating\": 4.7, \"reviews\": 32122, \"price\": 8, \"year\": 2012, \"genre\": \"Fiction\"}, {\"name\": \"The Hunger Games Trilogy Boxed Set (1)\", \"author\": \"Suzanne Collins\", \"user_rating\": 4.8, \"reviews\": 16949, \"price\": 30, \"year\": 2011, \"genre\": \"Fiction\"}, {\"name\": \"The Hunger Games Trilogy Boxed Set (1)\", \"author\": \"Suzanne Collins\", \"user_rating\": 4.8, \"reviews\": 16949, \"price\": 30, \"year\": 2012, \"genre\": \"Fiction\"}, {\"name\": \"The Immortal Life of Henrietta Lacks\", \"author\": \"Rebecca Skloot\", \"user_rating\": 4.7, \"reviews\": 9289, \"price\": 13, \"year\": 2010, \"genre\": \"Non Fiction\"}, {\"name\": \"The Immortal Life of Henrietta Lacks\", \"author\": \"Rebecca Skloot\", \"user_rating\": 4.7, \"reviews\": 9289, \"price\": 9, \"year\": 2011, \"genre\": \"Non Fiction\"}, {\"name\": \"The Immortal Life of Henrietta Lacks\", \"author\": \"Rebecca Skloot\", \"user_rating\": 4.7, \"reviews\": 9289, \"price\": 9, \"year\": 2012, \"genre\": \"Non Fiction\"}, {\"name\": \"The Instant Pot Electric Pressure Cooker Cookbook: Easy Recipes for Fast & Healthy Meals\", \"author\": \"Laurel Randolph\", \"user_rating\": 4.3, \"reviews\": 7368, \"price\": 7, \"year\": 2017, \"genre\": \"Non Fiction\"}, {\"name\": \"The Instant Pot Electric Pressure Cooker Cookbook: Easy Recipes for Fast & Healthy Meals\", \"author\": \"Laurel Randolph\", \"user_rating\": 4.3, \"reviews\": 7368, \"price\": 7, \"year\": 2018, \"genre\": \"Non Fiction\"}, {\"name\": \"The Last Lecture\", \"author\": \"Randy Pausch\", \"user_rating\": 4.7, \"reviews\": 4028, \"price\": 9, \"year\": 2009, \"genre\": \"Non Fiction\"}, {\"name\": \"The Last Olympian (Percy Jackson and the Olympians, Book 5)\", \"author\": \"Rick Riordan\", \"user_rating\": 4.8, \"reviews\": 4628, \"price\": 7, \"year\": 2009, \"genre\": \"Fiction\"}, {\"name\": \"The Last Olympian (Percy Jackson and the Olympians, Book 5)\", \"author\": \"Rick Riordan\", \"user_rating\": 4.8, \"reviews\": 4628, \"price\": 7, \"year\": 2010, \"genre\": \"Fiction\"}, {\"name\": \"The Legend of Zelda: Hyrule Historia\", \"author\": \"Patrick Thorpe\", \"user_rating\": 4.9, \"reviews\": 5396, \"price\": 20, \"year\": 2013, \"genre\": \"Fiction\"}, {\"name\": \"The Lego Ideas Book: Unlock Your Imagination\", \"author\": \"Daniel Lipkowitz\", \"user_rating\": 4.4, \"reviews\": 4247, \"price\": 13, \"year\": 2011, \"genre\": \"Non Fiction\"}, {\"name\": \"The Lego Ideas Book: Unlock Your Imagination\", \"author\": \"Daniel Lipkowitz\", \"user_rating\": 4.4, \"reviews\": 4247, \"price\": 13, \"year\": 2012, \"genre\": \"Non Fiction\"}, {\"name\": \"The Life-Changing Magic of Tidying Up: The Japanese Art of Decluttering and Organizing\", \"author\": \"Marie Kond\\u014d\", \"user_rating\": 4.5, \"reviews\": 22641, \"price\": 11, \"year\": 2015, \"genre\": \"Non Fiction\"}, {\"name\": \"The Life-Changing Magic of Tidying Up: The Japanese Art of Decluttering and Organizing\", \"author\": \"Marie Kond\\u014d\", \"user_rating\": 4.5, \"reviews\": 22641, \"price\": 11, \"year\": 2016, \"genre\": \"Non Fiction\"}, {\"name\": \"The Life-Changing Magic of Tidying Up: The Japanese Art of Decluttering and Organizing\", \"author\": \"Marie Kond\\u014d\", \"user_rating\": 4.5, \"reviews\": 22641, \"price\": 11, \"year\": 2017, \"genre\": \"Non Fiction\"}, {\"name\": \"The Life-Changing Magic of Tidying Up: The Japanese Art of Decluttering and Organizing\", \"author\": \"Marie Kond\\u014d\", \"user_rating\": 4.5, \"reviews\": 22641, \"price\": 11, \"year\": 2019, \"genre\": \"Non Fiction\"}, {\"name\": \"The Litigators\", \"author\": \"John Grisham\", \"user_rating\": 4.4, \"reviews\": 6222, \"price\": 18, \"year\": 2011, \"genre\": \"Fiction\"}, {\"name\": \"The Lost Hero (Heroes of Olympus, Book 1)\", \"author\": \"Rick Riordan\", \"user_rating\": 4.8, \"reviews\": 4506, \"price\": 14, \"year\": 2010, \"genre\": \"Fiction\"}, {\"name\": \"The Lost Symbol\", \"author\": \"Dan Brown\", \"user_rating\": 4.2, \"reviews\": 8747, \"price\": 19, \"year\": 2009, \"genre\": \"Fiction\"}, {\"name\": \"The Love Dare\", \"author\": \"Stephen Kendrick\", \"user_rating\": 4.8, \"reviews\": 1655, \"price\": 13, \"year\": 2009, \"genre\": \"Non Fiction\"}, {\"name\": \"The Magnolia Story\", \"author\": \"Chip Gaines\", \"user_rating\": 4.9, \"reviews\": 7861, \"price\": 5, \"year\": 2016, \"genre\": \"Non Fiction\"}, {\"name\": \"The Mark of Athena (Heroes of Olympus, Book 3)\", \"author\": \"Rick Riordan\", \"user_rating\": 4.8, \"reviews\": 6247, \"price\": 10, \"year\": 2012, \"genre\": \"Fiction\"}, {\"name\": \"The Martian\", \"author\": \"Andy Weir\", \"user_rating\": 4.7, \"reviews\": 39459, \"price\": 9, \"year\": 2015, \"genre\": \"Fiction\"}, {\"name\": \"The Maze Runner (Book 1)\", \"author\": \"James Dashner\", \"user_rating\": 4.5, \"reviews\": 10101, \"price\": 8, \"year\": 2014, \"genre\": \"Fiction\"}, {\"name\": \"The Meltdown (Diary of a Wimpy Kid Book 13)\", \"author\": \"Jeff Kinney\", \"user_rating\": 4.8, \"reviews\": 5898, \"price\": 8, \"year\": 2018, \"genre\": \"Fiction\"}, {\"name\": \"The Mueller Report\", \"author\": \"The Washington Post\", \"user_rating\": 4.6, \"reviews\": 2744, \"price\": 12, \"year\": 2019, \"genre\": \"Non Fiction\"}, {\"name\": \"The Nightingale: A Novel\", \"author\": \"Kristin Hannah\", \"user_rating\": 4.8, \"reviews\": 49288, \"price\": 11, \"year\": 2015, \"genre\": \"Fiction\"}, {\"name\": \"The Nightingale: A Novel\", \"author\": \"Kristin Hannah\", \"user_rating\": 4.8, \"reviews\": 49288, \"price\": 11, \"year\": 2016, \"genre\": \"Fiction\"}, {\"name\": \"The Official SAT Study Guide\", \"author\": \"The College Board\", \"user_rating\": 4.4, \"reviews\": 1201, \"price\": 40, \"year\": 2010, \"genre\": \"Non Fiction\"}, {\"name\": \"The Official SAT Study Guide\", \"author\": \"The College Board\", \"user_rating\": 4.4, \"reviews\": 1201, \"price\": 40, \"year\": 2011, \"genre\": \"Non Fiction\"}, {\"name\": \"The Official SAT Study Guide\", \"author\": \"The College Board\", \"user_rating\": 4.4, \"reviews\": 1201, \"price\": 40, \"year\": 2012, \"genre\": \"Non Fiction\"}, {\"name\": \"The Official SAT Study Guide\", \"author\": \"The College Board\", \"user_rating\": 4.4, \"reviews\": 1201, \"price\": 40, \"year\": 2013, \"genre\": \"Non Fiction\"}, {\"name\": \"The Official SAT Study Guide\", \"author\": \"The College Board\", \"user_rating\": 4.4, \"reviews\": 1201, \"price\": 40, \"year\": 2014, \"genre\": \"Non Fiction\"}, {\"name\": \"The Official SAT Study Guide, 2016 Edition (Official Study Guide for the New Sat)\", \"author\": \"The College Board\", \"user_rating\": 4.3, \"reviews\": 807, \"price\": 36, \"year\": 2016, \"genre\": \"Non Fiction\"}, {\"name\": \"The Paris Wife: A Novel\", \"author\": \"Paula McLain\", \"user_rating\": 4.3, \"reviews\": 3759, \"price\": 16, \"year\": 2011, \"genre\": \"Fiction\"}, {\"name\": \"The Pioneer Woman Cooks: A Year of Holidays: 140 Step-by-Step Recipes for Simple, Scrumptious Celebrations\", \"author\": \"Ree Drummond\", \"user_rating\": 4.8, \"reviews\": 2663, \"price\": 17, \"year\": 2013, \"genre\": \"Non Fiction\"}, {\"name\": \"The Pioneer Woman Cooks: Dinnertime - Comfort Classics, Freezer Food, 16-minute Meals, and Other Delicious Ways to Solve\\u2026\", \"author\": \"Ree Drummond\", \"user_rating\": 4.8, \"reviews\": 3428, \"price\": 14, \"year\": 2015, \"genre\": \"Non Fiction\"}, {\"name\": \"The Pioneer Woman Cooks: Food from My Frontier\", \"author\": \"Ree Drummond\", \"user_rating\": 4.8, \"reviews\": 2876, \"price\": 21, \"year\": 2012, \"genre\": \"Non Fiction\"}, {\"name\": \"The Plant Paradox Cookbook: 100 Delicious Recipes to Help You Lose Weight, Heal Your Gut, and Live Lectin-Free\", \"author\": \"Dr. Steven R Gundry MD\", \"user_rating\": 4.5, \"reviews\": 3601, \"price\": 18, \"year\": 2018, \"genre\": \"Non Fiction\"}, {\"name\": \"The Plant Paradox: The Hidden Dangers in \\\"Healthy\\\" Foods That Cause Disease and Weight Gain\", \"author\": \"Dr. Steven R Gundry MD\", \"user_rating\": 4.4, \"reviews\": 7058, \"price\": 17, \"year\": 2018, \"genre\": \"Non Fiction\"}, {\"name\": \"The Pout-Pout Fish\", \"author\": \"Deborah Diesen\", \"user_rating\": 4.8, \"reviews\": 9784, \"price\": 5, \"year\": 2017, \"genre\": \"Fiction\"}, {\"name\": \"The Pout-Pout Fish\", \"author\": \"Deborah Diesen\", \"user_rating\": 4.8, \"reviews\": 9784, \"price\": 5, \"year\": 2018, \"genre\": \"Fiction\"}, {\"name\": \"The Power of Habit: Why We Do What We Do in Life and Business\", \"author\": \"Charles Duhigg\", \"user_rating\": 4.6, \"reviews\": 10795, \"price\": 21, \"year\": 2012, \"genre\": \"Non Fiction\"}, {\"name\": \"The President Is Missing: A Novel\", \"author\": \"James Patterson\", \"user_rating\": 4.3, \"reviews\": 10191, \"price\": 18, \"year\": 2018, \"genre\": \"Fiction\"}, {\"name\": \"The Racketeer\", \"author\": \"John Grisham\", \"user_rating\": 4.3, \"reviews\": 14493, \"price\": 18, \"year\": 2012, \"genre\": \"Fiction\"}, {\"name\": \"The Red Pyramid (The Kane Chronicles, Book 1)\", \"author\": \"Rick Riordan\", \"user_rating\": 4.6, \"reviews\": 2186, \"price\": 12, \"year\": 2010, \"genre\": \"Fiction\"}, {\"name\": \"The Road to Serfdom: Text and Documents--The Definitive Edition (The Collected Works of F. A. Hayek, Volume 2)\", \"author\": \"F. A. Hayek\", \"user_rating\": 4.6, \"reviews\": 1204, \"price\": 14, \"year\": 2010, \"genre\": \"Non Fiction\"}, {\"name\": \"The Serpent's Shadow (The Kane Chronicles, Book 3)\", \"author\": \"Rick Riordan\", \"user_rating\": 4.8, \"reviews\": 2091, \"price\": 12, \"year\": 2012, \"genre\": \"Fiction\"}, {\"name\": \"The Shack: Where Tragedy Confronts Eternity\", \"author\": \"William P. Young\", \"user_rating\": 4.6, \"reviews\": 19720, \"price\": 8, \"year\": 2009, \"genre\": \"Fiction\"}, {\"name\": \"The Shack: Where Tragedy Confronts Eternity\", \"author\": \"William P. Young\", \"user_rating\": 4.6, \"reviews\": 19720, \"price\": 8, \"year\": 2017, \"genre\": \"Fiction\"}, {\"name\": \"The Short Second Life of Bree Tanner: An Eclipse Novella (The Twilight Saga)\", \"author\": \"Stephenie Meyer\", \"user_rating\": 4.6, \"reviews\": 2122, \"price\": 0, \"year\": 2010, \"genre\": \"Fiction\"}, {\"name\": \"The Silent Patient\", \"author\": \"Alex Michaelides\", \"user_rating\": 4.5, \"reviews\": 27536, \"price\": 14, \"year\": 2019, \"genre\": \"Fiction\"}, {\"name\": \"The Son of Neptune (Heroes of Olympus, Book 2)\", \"author\": \"Rick Riordan\", \"user_rating\": 4.8, \"reviews\": 4290, \"price\": 10, \"year\": 2011, \"genre\": \"Fiction\"}, {\"name\": \"The Subtle Art of Not Giving a F*ck: A Counterintuitive Approach to Living a Good Life\", \"author\": \"Mark Manson\", \"user_rating\": 4.6, \"reviews\": 26490, \"price\": 15, \"year\": 2017, \"genre\": \"Non Fiction\"}, {\"name\": \"The Subtle Art of Not Giving a F*ck: A Counterintuitive Approach to Living a Good Life\", \"author\": \"Mark Manson\", \"user_rating\": 4.6, \"reviews\": 26490, \"price\": 15, \"year\": 2018, \"genre\": \"Non Fiction\"}, {\"name\": \"The Subtle Art of Not Giving a F*ck: A Counterintuitive Approach to Living a Good Life\", \"author\": \"Mark Manson\", \"user_rating\": 4.6, \"reviews\": 26490, \"price\": 15, \"year\": 2019, \"genre\": \"Non Fiction\"}, {\"name\": \"The Sun and Her Flowers\", \"author\": \"Rupi Kaur\", \"user_rating\": 4.7, \"reviews\": 5487, \"price\": 9, \"year\": 2017, \"genre\": \"Non Fiction\"}, {\"name\": \"The Third Wheel (Diary of a Wimpy Kid, Book 7)\", \"author\": \"Jeff Kinney\", \"user_rating\": 4.7, \"reviews\": 6377, \"price\": 7, \"year\": 2012, \"genre\": \"Fiction\"}, {\"name\": \"The Throne of Fire (The Kane Chronicles, Book 2)\", \"author\": \"Rick Riordan\", \"user_rating\": 4.7, \"reviews\": 1463, \"price\": 10, \"year\": 2011, \"genre\": \"Fiction\"}, {\"name\": \"The Time Traveler's Wife\", \"author\": \"Audrey Niffenegger\", \"user_rating\": 4.4, \"reviews\": 3759, \"price\": 6, \"year\": 2009, \"genre\": \"Fiction\"}, {\"name\": \"The Tipping Point: How Little Things Can Make a Big Difference\", \"author\": \"Malcolm Gladwell\", \"user_rating\": 4.4, \"reviews\": 3503, \"price\": 9, \"year\": 2009, \"genre\": \"Non Fiction\"}, {\"name\": \"The Total Money Makeover: Classic Edition: A Proven Plan for Financial Fitness\", \"author\": \"Dave Ramsey\", \"user_rating\": 4.7, \"reviews\": 11550, \"price\": 10, \"year\": 2019, \"genre\": \"Non Fiction\"}, {\"name\": \"The Twilight Saga Collection\", \"author\": \"Stephenie Meyer\", \"user_rating\": 4.7, \"reviews\": 3801, \"price\": 82, \"year\": 2009, \"genre\": \"Fiction\"}, {\"name\": \"The Ugly Truth (Diary of a Wimpy Kid, Book 5)\", \"author\": \"Jeff Kinney\", \"user_rating\": 4.8, \"reviews\": 3796, \"price\": 12, \"year\": 2010, \"genre\": \"Fiction\"}, {\"name\": \"The Unofficial Harry Potter Cookbook: From Cauldron Cakes to Knickerbocker Glory--More Than 150 Magical Recipes for\\u2026\", \"author\": \"Dinah Bucholz\", \"user_rating\": 4.7, \"reviews\": 9030, \"price\": 10, \"year\": 2019, \"genre\": \"Non Fiction\"}, {\"name\": \"The Very Hungry Caterpillar\", \"author\": \"Eric Carle\", \"user_rating\": 4.9, \"reviews\": 19546, \"price\": 5, \"year\": 2013, \"genre\": \"Fiction\"}, {\"name\": \"The Very Hungry Caterpillar\", \"author\": \"Eric Carle\", \"user_rating\": 4.9, \"reviews\": 19546, \"price\": 5, \"year\": 2014, \"genre\": \"Fiction\"}, {\"name\": \"The Very Hungry Caterpillar\", \"author\": \"Eric Carle\", \"user_rating\": 4.9, \"reviews\": 19546, \"price\": 5, \"year\": 2015, \"genre\": \"Fiction\"}, {\"name\": \"The Very Hungry Caterpillar\", \"author\": \"Eric Carle\", \"user_rating\": 4.9, \"reviews\": 19546, \"price\": 5, \"year\": 2016, \"genre\": \"Fiction\"}, {\"name\": \"The Very Hungry Caterpillar\", \"author\": \"Eric Carle\", \"user_rating\": 4.9, \"reviews\": 19546, \"price\": 5, \"year\": 2017, \"genre\": \"Fiction\"}, {\"name\": \"The Very Hungry Caterpillar\", \"author\": \"Eric Carle\", \"user_rating\": 4.9, \"reviews\": 19546, \"price\": 5, \"year\": 2018, \"genre\": \"Fiction\"}, {\"name\": \"The Very Hungry Caterpillar\", \"author\": \"Eric Carle\", \"user_rating\": 4.9, \"reviews\": 19546, \"price\": 5, \"year\": 2019, \"genre\": \"Fiction\"}, {\"name\": \"The Whole30: The 30-Day Guide to Total Health and Food Freedom\", \"author\": \"Melissa Hartwig Urban\", \"user_rating\": 4.6, \"reviews\": 7508, \"price\": 16, \"year\": 2015, \"genre\": \"Non Fiction\"}, {\"name\": \"The Whole30: The 30-Day Guide to Total Health and Food Freedom\", \"author\": \"Melissa Hartwig Urban\", \"user_rating\": 4.6, \"reviews\": 7508, \"price\": 16, \"year\": 2016, \"genre\": \"Non Fiction\"}, {\"name\": \"The Whole30: The 30-Day Guide to Total Health and Food Freedom\", \"author\": \"Melissa Hartwig Urban\", \"user_rating\": 4.6, \"reviews\": 7508, \"price\": 16, \"year\": 2017, \"genre\": \"Non Fiction\"}, {\"name\": \"The Wonderful Things You Will Be\", \"author\": \"Emily Winfield Martin\", \"user_rating\": 4.9, \"reviews\": 8842, \"price\": 10, \"year\": 2016, \"genre\": \"Fiction\"}, {\"name\": \"The Wonderful Things You Will Be\", \"author\": \"Emily Winfield Martin\", \"user_rating\": 4.9, \"reviews\": 8842, \"price\": 10, \"year\": 2017, \"genre\": \"Fiction\"}, {\"name\": \"The Wonderful Things You Will Be\", \"author\": \"Emily Winfield Martin\", \"user_rating\": 4.9, \"reviews\": 8842, \"price\": 10, \"year\": 2018, \"genre\": \"Fiction\"}, {\"name\": \"The Wonderful Things You Will Be\", \"author\": \"Emily Winfield Martin\", \"user_rating\": 4.9, \"reviews\": 8842, \"price\": 10, \"year\": 2019, \"genre\": \"Fiction\"}, {\"name\": \"The Wonky Donkey\", \"author\": \"Craig Smith\", \"user_rating\": 4.8, \"reviews\": 30183, \"price\": 4, \"year\": 2018, \"genre\": \"Fiction\"}, {\"name\": \"The Wonky Donkey\", \"author\": \"Craig Smith\", \"user_rating\": 4.8, \"reviews\": 30183, \"price\": 4, \"year\": 2019, \"genre\": \"Fiction\"}, {\"name\": \"The Wright Brothers\", \"author\": \"David McCullough\", \"user_rating\": 4.7, \"reviews\": 6169, \"price\": 16, \"year\": 2015, \"genre\": \"Non Fiction\"}, {\"name\": \"Things That Matter: Three Decades of Passions, Pastimes and Politics [Deckled Edge]\", \"author\": \"Charles Krauthammer\", \"user_rating\": 4.7, \"reviews\": 7034, \"price\": 15, \"year\": 2013, \"genre\": \"Non Fiction\"}, {\"name\": \"Thinking, Fast and Slow\", \"author\": \"Daniel Kahneman\", \"user_rating\": 4.6, \"reviews\": 11034, \"price\": 19, \"year\": 2011, \"genre\": \"Non Fiction\"}, {\"name\": \"Thinking, Fast and Slow\", \"author\": \"Daniel Kahneman\", \"user_rating\": 4.6, \"reviews\": 11034, \"price\": 19, \"year\": 2012, \"genre\": \"Non Fiction\"}, {\"name\": \"Thirteen Reasons Why\", \"author\": \"Jay Asher\", \"user_rating\": 4.5, \"reviews\": 7932, \"price\": 9, \"year\": 2017, \"genre\": \"Fiction\"}, {\"name\": \"Thomas Jefferson: The Art of Power\", \"author\": \"Jon Meacham\", \"user_rating\": 4.5, \"reviews\": 1904, \"price\": 23, \"year\": 2012, \"genre\": \"Non Fiction\"}, {\"name\": \"Three Cups of Tea: One Man's Mission to Promote Peace - One School at a Time\", \"author\": \"Greg Mortenson\", \"user_rating\": 4.3, \"reviews\": 3319, \"price\": 11, \"year\": 2009, \"genre\": \"Non Fiction\"}, {\"name\": \"Three Cups of Tea: One Man's Mission to Promote Peace - One School at a Time\", \"author\": \"Greg Mortenson\", \"user_rating\": 4.3, \"reviews\": 3319, \"price\": 11, \"year\": 2010, \"genre\": \"Non Fiction\"}, {\"name\": \"Thug Kitchen: The Official Cookbook: Eat Like You Give a F*ck (Thug Kitchen Cookbooks)\", \"author\": \"Thug Kitchen\", \"user_rating\": 4.6, \"reviews\": 11128, \"price\": 23, \"year\": 2014, \"genre\": \"Non Fiction\"}, {\"name\": \"Thug Kitchen: The Official Cookbook: Eat Like You Give a F*ck (Thug Kitchen Cookbooks)\", \"author\": \"Thug Kitchen\", \"user_rating\": 4.6, \"reviews\": 11128, \"price\": 23, \"year\": 2015, \"genre\": \"Non Fiction\"}, {\"name\": \"Thug Kitchen: The Official Cookbook: Eat Like You Give a F*ck (Thug Kitchen Cookbooks)\", \"author\": \"Thug Kitchen\", \"user_rating\": 4.6, \"reviews\": 11128, \"price\": 23, \"year\": 2016, \"genre\": \"Non Fiction\"}, {\"name\": \"Thug Kitchen: The Official Cookbook: Eat Like You Give a F*ck (Thug Kitchen Cookbooks)\", \"author\": \"Thug Kitchen\", \"user_rating\": 4.6, \"reviews\": 11128, \"price\": 23, \"year\": 2017, \"genre\": \"Non Fiction\"}, {\"name\": \"Tina Fey: Bossypants\", \"author\": \"Tina Fey\", \"user_rating\": 4.3, \"reviews\": 5977, \"price\": 12, \"year\": 2011, \"genre\": \"Non Fiction\"}, {\"name\": \"To Kill a Mockingbird\", \"author\": \"Harper Lee\", \"user_rating\": 4.8, \"reviews\": 26234, \"price\": 0, \"year\": 2013, \"genre\": \"Fiction\"}, {\"name\": \"To Kill a Mockingbird\", \"author\": \"Harper Lee\", \"user_rating\": 4.8, \"reviews\": 26234, \"price\": 0, \"year\": 2014, \"genre\": \"Fiction\"}, {\"name\": \"To Kill a Mockingbird\", \"author\": \"Harper Lee\", \"user_rating\": 4.8, \"reviews\": 26234, \"price\": 0, \"year\": 2015, \"genre\": \"Fiction\"}, {\"name\": \"To Kill a Mockingbird\", \"author\": \"Harper Lee\", \"user_rating\": 4.8, \"reviews\": 26234, \"price\": 0, \"year\": 2016, \"genre\": \"Fiction\"}, {\"name\": \"To Kill a Mockingbird\", \"author\": \"Harper Lee\", \"user_rating\": 4.8, \"reviews\": 26234, \"price\": 7, \"year\": 2019, \"genre\": \"Fiction\"}, {\"name\": \"Tools of Titans: The Tactics, Routines, and Habits of Billionaires, Icons, and World-Class Performers\", \"author\": \"Timothy Ferriss\", \"user_rating\": 4.6, \"reviews\": 4360, \"price\": 21, \"year\": 2017, \"genre\": \"Non Fiction\"}, {\"name\": \"Towers of Midnight (Wheel of Time, Book Thirteen)\", \"author\": \"Robert Jordan\", \"user_rating\": 4.8, \"reviews\": 2282, \"price\": 21, \"year\": 2010, \"genre\": \"Fiction\"}, {\"name\": \"True Compass: A Memoir\", \"author\": \"Edward M. Kennedy\", \"user_rating\": 4.5, \"reviews\": 438, \"price\": 15, \"year\": 2009, \"genre\": \"Non Fiction\"}, {\"name\": \"Twilight (The Twilight Saga, Book 1)\", \"author\": \"Stephenie Meyer\", \"user_rating\": 4.7, \"reviews\": 11676, \"price\": 9, \"year\": 2009, \"genre\": \"Fiction\"}, {\"name\": \"Ultimate Sticker Book: Frozen: More Than 60 Reusable Full-Color Stickers\", \"author\": \"DK\", \"user_rating\": 4.5, \"reviews\": 2586, \"price\": 5, \"year\": 2014, \"genre\": \"Fiction\"}, {\"name\": \"Unbroken: A World War II Story of Survival, Resilience, and Redemption\", \"author\": \"Laura Hillenbrand\", \"user_rating\": 4.8, \"reviews\": 29673, \"price\": 16, \"year\": 2010, \"genre\": \"Non Fiction\"}, {\"name\": \"Unbroken: A World War II Story of Survival, Resilience, and Redemption\", \"author\": \"Laura Hillenbrand\", \"user_rating\": 4.8, \"reviews\": 29673, \"price\": 16, \"year\": 2011, \"genre\": \"Non Fiction\"}, {\"name\": \"Unbroken: A World War II Story of Survival, Resilience, and Redemption\", \"author\": \"Laura Hillenbrand\", \"user_rating\": 4.8, \"reviews\": 29673, \"price\": 16, \"year\": 2012, \"genre\": \"Non Fiction\"}, {\"name\": \"Unbroken: A World War II Story of Survival, Resilience, and Redemption\", \"author\": \"Laura Hillenbrand\", \"user_rating\": 4.8, \"reviews\": 29673, \"price\": 13, \"year\": 2014, \"genre\": \"Non Fiction\"}, {\"name\": \"Unbroken: A World War II Story of Survival, Resilience, and Redemption\", \"author\": \"Laura Hillenbrand\", \"user_rating\": 4.8, \"reviews\": 29673, \"price\": 16, \"year\": 2014, \"genre\": \"Non Fiction\"}, {\"name\": \"Under the Dome: A Novel\", \"author\": \"Stephen King\", \"user_rating\": 4.3, \"reviews\": 6740, \"price\": 20, \"year\": 2009, \"genre\": \"Fiction\"}, {\"name\": \"Unfreedom of the Press\", \"author\": \"Mark R. Levin\", \"user_rating\": 4.9, \"reviews\": 5956, \"price\": 11, \"year\": 2019, \"genre\": \"Non Fiction\"}, {\"name\": \"Unicorn Coloring Book: For Kids Ages 4-8 (US Edition) (Silly Bear Coloring Books)\", \"author\": \"Silly Bear\", \"user_rating\": 4.8, \"reviews\": 6108, \"price\": 4, \"year\": 2019, \"genre\": \"Non Fiction\"}, {\"name\": \"Uninvited: Living Loved When You Feel Less Than, Left Out, and Lonely\", \"author\": \"Lysa TerKeurst\", \"user_rating\": 4.7, \"reviews\": 4585, \"price\": 9, \"year\": 2016, \"genre\": \"Non Fiction\"}, {\"name\": \"Watchmen\", \"author\": \"Alan Moore\", \"user_rating\": 4.8, \"reviews\": 3829, \"price\": 42, \"year\": 2009, \"genre\": \"Fiction\"}, {\"name\": \"Water for Elephants: A Novel\", \"author\": \"Sara Gruen\", \"user_rating\": 4.5, \"reviews\": 8958, \"price\": 12, \"year\": 2011, \"genre\": \"Fiction\"}, {\"name\": \"What Happened\", \"author\": \"Hillary Rodham Clinton\", \"user_rating\": 4.6, \"reviews\": 5492, \"price\": 18, \"year\": 2017, \"genre\": \"Non Fiction\"}, {\"name\": \"What If?: Serious Scientific Answers to Absurd Hypothetical Questions\", \"author\": \"Randall Munroe\", \"user_rating\": 4.7, \"reviews\": 9292, \"price\": 17, \"year\": 2014, \"genre\": \"Non Fiction\"}, {\"name\": \"What Pet Should I Get? (Classic Seuss)\", \"author\": \"Dr. Seuss\", \"user_rating\": 4.7, \"reviews\": 1873, \"price\": 14, \"year\": 2015, \"genre\": \"Fiction\"}, {\"name\": \"What Should Danny Do? (The Power to Choose Series)\", \"author\": \"Adir Levy\", \"user_rating\": 4.8, \"reviews\": 8170, \"price\": 13, \"year\": 2019, \"genre\": \"Fiction\"}, {\"name\": \"What to Expect When You're Expecting\", \"author\": \"Heidi Murkoff\", \"user_rating\": 4.4, \"reviews\": 3341, \"price\": 9, \"year\": 2011, \"genre\": \"Non Fiction\"}, {\"name\": \"Wheat Belly: Lose the Wheat, Lose the Weight, and Find Your Path Back to Health\", \"author\": \"William Davis\", \"user_rating\": 4.4, \"reviews\": 7497, \"price\": 6, \"year\": 2012, \"genre\": \"Non Fiction\"}, {\"name\": \"Wheat Belly: Lose the Wheat, Lose the Weight, and Find Your Path Back to Health\", \"author\": \"William Davis\", \"user_rating\": 4.4, \"reviews\": 7497, \"price\": 6, \"year\": 2013, \"genre\": \"Non Fiction\"}, {\"name\": \"When Breath Becomes Air\", \"author\": \"Paul Kalanithi\", \"user_rating\": 4.8, \"reviews\": 13779, \"price\": 14, \"year\": 2016, \"genre\": \"Non Fiction\"}, {\"name\": \"Where the Crawdads Sing\", \"author\": \"Delia Owens\", \"user_rating\": 4.8, \"reviews\": 87841, \"price\": 15, \"year\": 2019, \"genre\": \"Fiction\"}, {\"name\": \"Where the Wild Things Are\", \"author\": \"Maurice Sendak\", \"user_rating\": 4.8, \"reviews\": 9967, \"price\": 13, \"year\": 2009, \"genre\": \"Fiction\"}, {\"name\": \"Whose Boat Is This Boat?: Comments That Don't Help in the Aftermath of a Hurricane\", \"author\": \"The Staff of The Late Show with\\u0085\", \"user_rating\": 4.6, \"reviews\": 6669, \"price\": 12, \"year\": 2018, \"genre\": \"Non Fiction\"}, {\"name\": \"Wild: From Lost to Found on the Pacific Crest Trail\", \"author\": \"Cheryl Strayed\", \"user_rating\": 4.4, \"reviews\": 17044, \"price\": 18, \"year\": 2012, \"genre\": \"Non Fiction\"}, {\"name\": \"Winter of the World: Book Two of the Century Trilogy\", \"author\": \"Ken Follett\", \"user_rating\": 4.5, \"reviews\": 10760, \"price\": 15, \"year\": 2012, \"genre\": \"Fiction\"}, {\"name\": \"Women Food and God: An Unexpected Path to Almost Everything\", \"author\": \"Geneen Roth\", \"user_rating\": 4.2, \"reviews\": 1302, \"price\": 11, \"year\": 2010, \"genre\": \"Non Fiction\"}, {\"name\": \"Wonder\", \"author\": \"R. J. Palacio\", \"user_rating\": 4.8, \"reviews\": 21625, \"price\": 9, \"year\": 2013, \"genre\": \"Fiction\"}, {\"name\": \"Wonder\", \"author\": \"R. J. Palacio\", \"user_rating\": 4.8, \"reviews\": 21625, \"price\": 9, \"year\": 2014, \"genre\": \"Fiction\"}, {\"name\": \"Wonder\", \"author\": \"R. J. Palacio\", \"user_rating\": 4.8, \"reviews\": 21625, \"price\": 9, \"year\": 2015, \"genre\": \"Fiction\"}, {\"name\": \"Wonder\", \"author\": \"R. J. Palacio\", \"user_rating\": 4.8, \"reviews\": 21625, \"price\": 9, \"year\": 2016, \"genre\": \"Fiction\"}, {\"name\": \"Wonder\", \"author\": \"R. J. Palacio\", \"user_rating\": 4.8, \"reviews\": 21625, \"price\": 9, \"year\": 2017, \"genre\": \"Fiction\"}, {\"name\": \"Wrecking Ball (Diary of a Wimpy Kid Book 14)\", \"author\": \"Jeff Kinney\", \"user_rating\": 4.9, \"reviews\": 9413, \"price\": 8, \"year\": 2019, \"genre\": \"Fiction\"}, {\"name\": \"You Are a Badass: How to Stop Doubting Your Greatness and Start Living an Awesome Life\", \"author\": \"Jen Sincero\", \"user_rating\": 4.7, \"reviews\": 14331, \"price\": 8, \"year\": 2016, \"genre\": \"Non Fiction\"}, {\"name\": \"You Are a Badass: How to Stop Doubting Your Greatness and Start Living an Awesome Life\", \"author\": \"Jen Sincero\", \"user_rating\": 4.7, \"reviews\": 14331, \"price\": 8, \"year\": 2017, \"genre\": \"Non Fiction\"}, {\"name\": \"You Are a Badass: How to Stop Doubting Your Greatness and Start Living an Awesome Life\", \"author\": \"Jen Sincero\", \"user_rating\": 4.7, \"reviews\": 14331, \"price\": 8, \"year\": 2018, \"genre\": \"Non Fiction\"}, {\"name\": \"You Are a Badass: How to Stop Doubting Your Greatness and Start Living an Awesome Life\", \"author\": \"Jen Sincero\", \"user_rating\": 4.7, \"reviews\": 14331, \"price\": 8, \"year\": 2019, \"genre\": \"Non Fiction\"}]}}, {\"mode\": \"vega-lite\"});\n",
              "</script>"
            ],
            "text/plain": [
              "alt.Chart(...)"
            ]
          },
          "metadata": {},
          "execution_count": 158
        }
      ]
    }
  ]
}